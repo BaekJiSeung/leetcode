{
 "cells": [
  {
   "cell_type": "code",
   "execution_count": 218,
   "id": "4dc343f3",
   "metadata": {},
   "outputs": [],
   "source": [
    "from typing import Optional, List\n",
    "import numpy as np\n",
    "import matplotlib.pyplot as plt\n",
    "from collections import defaultdict\n",
    "import pandas as pd"
   ]
  },
  {
   "cell_type": "markdown",
   "id": "f8dd830e",
   "metadata": {},
   "source": [
    "2047"
   ]
  },
  {
   "cell_type": "code",
   "execution_count": 2,
   "id": "2db351fc",
   "metadata": {},
   "outputs": [],
   "source": [
    "class Solution:\n",
    "    def countValidWords(self, sentence: str) -> int:\n",
    "        numValidWords = 0\n",
    "        for token in sentence.split():\n",
    "            if isValidWord(token):\n",
    "                numValidWords += 1\n",
    "        return numValidWords\n",
    "\n",
    "def isValidWord(token):\n",
    "    return satisfyFirst(token) and satisfySecond(token) and satisfyThird(token)\n",
    "\n",
    "def satisfyFirst(token):\n",
    "    for char in token:\n",
    "        if char.isdigit():\n",
    "            return False\n",
    "    return True\n",
    "\n",
    "\n",
    "def satisfySecond(token):\n",
    "    count = token.count('-')\n",
    "    if count == 0:\n",
    "        return True\n",
    "    if count ==1:\n",
    "        idx = token.find('-')\n",
    "        lowercase_letters = 'qwertyuiopasdfghjklzxcvbnm'\n",
    "        if idx == 0:\n",
    "            return False\n",
    "        if token[idx-1] not in lowercase_letters:\n",
    "            return False\n",
    "        if idx == len(token)-1:\n",
    "            return False\n",
    "        if token[idx+1] not in lowercase_letters:\n",
    "            return False\n",
    "        return True\n",
    "    return False\n",
    "\n",
    "\n",
    "def satisfyThird(token):\n",
    "    n = len(token) - 1\n",
    "    for idx, char in enumerate(token):\n",
    "        if char in '!,.' and idx != n:\n",
    "            return False\n",
    "    return True"
   ]
  },
  {
   "cell_type": "code",
   "execution_count": 3,
   "id": "98f5c104",
   "metadata": {},
   "outputs": [
    {
     "data": {
      "text/plain": [
       "3"
      ]
     },
     "execution_count": 3,
     "metadata": {},
     "output_type": "execute_result"
    }
   ],
   "source": [
    "sentence = \"cat and dog.\"\n",
    "\n",
    "s= Solution()\n",
    "s.countValidWords(sentence)"
   ]
  },
  {
   "cell_type": "markdown",
   "id": "6542352a",
   "metadata": {},
   "source": [
    "2520"
   ]
  },
  {
   "cell_type": "code",
   "execution_count": 4,
   "id": "e9f33765",
   "metadata": {},
   "outputs": [],
   "source": [
    "class Solution:\n",
    "    def countDigits(self, num: int) -> int:\n",
    "        out = 0\n",
    "        for i in str(num):\n",
    "            if num%int(i)==0:\n",
    "                out+=1\n",
    "        return out"
   ]
  },
  {
   "cell_type": "code",
   "execution_count": 5,
   "id": "6bc43180",
   "metadata": {},
   "outputs": [
    {
     "data": {
      "text/plain": [
       "4"
      ]
     },
     "execution_count": 5,
     "metadata": {},
     "output_type": "execute_result"
    }
   ],
   "source": [
    "num = 1248\n",
    "s= Solution()\n",
    "s.countDigits(num)"
   ]
  },
  {
   "cell_type": "markdown",
   "id": "6a451b37",
   "metadata": {},
   "source": [
    "2255"
   ]
  },
  {
   "cell_type": "code",
   "execution_count": 6,
   "id": "7bfa9a70",
   "metadata": {},
   "outputs": [],
   "source": [
    "class Solution:\n",
    "    def countPrefixes(self, words: List[str], s: str) -> int:\n",
    "        out = 0\n",
    "        for word in words:\n",
    "            if s.startswith(word):\n",
    "\n",
    "                out += 1\n",
    "        return out"
   ]
  },
  {
   "cell_type": "code",
   "execution_count": 7,
   "id": "81f0399f",
   "metadata": {},
   "outputs": [
    {
     "data": {
      "text/plain": [
       "3"
      ]
     },
     "execution_count": 7,
     "metadata": {},
     "output_type": "execute_result"
    }
   ],
   "source": [
    "words = [\"a\",\"b\",\"c\",\"ab\",\"bc\",\"abc\"]\n",
    "s = \"abc\"\n",
    "ss=Solution()\n",
    "ss.countPrefixes(words,s)"
   ]
  },
  {
   "cell_type": "markdown",
   "id": "e780db34",
   "metadata": {},
   "source": [
    "1941"
   ]
  },
  {
   "cell_type": "code",
   "execution_count": 8,
   "id": "88717bc5",
   "metadata": {},
   "outputs": [],
   "source": [
    "class Solution:\n",
    "    def areOccurrencesEqual(self, s: str) -> bool:\n",
    "        d = {}\n",
    "        for char in s:\n",
    "            d[char] = d.get(char,0) +1\n",
    "        return len(set(d.values())) == 1"
   ]
  },
  {
   "cell_type": "code",
   "execution_count": 9,
   "id": "8112905a",
   "metadata": {},
   "outputs": [
    {
     "data": {
      "text/plain": [
       "False"
      ]
     },
     "execution_count": 9,
     "metadata": {},
     "output_type": "execute_result"
    }
   ],
   "source": [
    "s = \"aaabb\"\n",
    "ss=Solution()\n",
    "ss.areOccurrencesEqual(s)"
   ]
  },
  {
   "cell_type": "markdown",
   "id": "c5fb261e",
   "metadata": {},
   "source": [
    "1967"
   ]
  },
  {
   "cell_type": "code",
   "execution_count": 10,
   "id": "030f1a78",
   "metadata": {},
   "outputs": [],
   "source": [
    "class Solution:\n",
    "    def numOfStrings(self, patterns: List[str], word: str) -> int:\n",
    "        out = 0\n",
    "        for pattern in patterns:\n",
    "            if pattern in word:\n",
    "                out +=1\n",
    "        return out"
   ]
  },
  {
   "cell_type": "code",
   "execution_count": 11,
   "id": "bde0b108",
   "metadata": {},
   "outputs": [
    {
     "data": {
      "text/plain": [
       "3"
      ]
     },
     "execution_count": 11,
     "metadata": {},
     "output_type": "execute_result"
    }
   ],
   "source": [
    "patterns = [\"a\",\"abc\",\"bc\",\"d\"]\n",
    "word = \"abc\"\n",
    "ss=Solution()\n",
    "ss.numOfStrings(patterns,word)"
   ]
  },
  {
   "cell_type": "markdown",
   "id": "2a1e99b5",
   "metadata": {},
   "source": [
    "28"
   ]
  },
  {
   "cell_type": "code",
   "execution_count": 12,
   "id": "e2a7bb21",
   "metadata": {},
   "outputs": [],
   "source": [
    "class Solution:\n",
    "    def strStr(self, haystack: str, needle: str) -> int:\n",
    "        return haystack.find(needle) "
   ]
  },
  {
   "cell_type": "code",
   "execution_count": 13,
   "id": "605a0226",
   "metadata": {},
   "outputs": [
    {
     "data": {
      "text/plain": [
       "0"
      ]
     },
     "execution_count": 13,
     "metadata": {},
     "output_type": "execute_result"
    }
   ],
   "source": [
    "haystack = \"sadbutsad\"\n",
    "needle = \"sad\"\n",
    "ss=Solution()\n",
    "ss.strStr(haystack,needle)"
   ]
  },
  {
   "cell_type": "markdown",
   "id": "c291e05f",
   "metadata": {},
   "source": [
    "2678"
   ]
  },
  {
   "cell_type": "code",
   "execution_count": 14,
   "id": "09a3649d",
   "metadata": {},
   "outputs": [],
   "source": [
    "class Solution:\n",
    "    def countSeniors(self, details: List[str]) -> int:\n",
    "        out = 0\n",
    "        for detail in details:\n",
    "            if int(detail[-4:-2]) > 60:\n",
    "                out += 1\n",
    "        return out"
   ]
  },
  {
   "cell_type": "code",
   "execution_count": 15,
   "id": "08ba78e8",
   "metadata": {},
   "outputs": [
    {
     "data": {
      "text/plain": [
       "2"
      ]
     },
     "execution_count": 15,
     "metadata": {},
     "output_type": "execute_result"
    }
   ],
   "source": [
    "details = [\"7868190130M7522\",\"5303914400F9211\",\"9273338290F4010\"]\n",
    "ss=Solution()\n",
    "ss.countSeniors(details)"
   ]
  },
  {
   "cell_type": "markdown",
   "id": "e11d0b61",
   "metadata": {},
   "source": [
    "2000"
   ]
  },
  {
   "cell_type": "code",
   "execution_count": 16,
   "id": "31036c18",
   "metadata": {},
   "outputs": [],
   "source": [
    "class Solution:\n",
    "    def reversePrefix(self, word: str, ch: str) -> str:\n",
    "        idx = word.find(ch)\n",
    "        if idx ==-1:\n",
    "            return word\n",
    "        return word[:idx+1][::-1] + word[idx+1:]"
   ]
  },
  {
   "cell_type": "code",
   "execution_count": 17,
   "id": "520ea48d",
   "metadata": {},
   "outputs": [
    {
     "data": {
      "text/plain": [
       "'dcbaefd'"
      ]
     },
     "execution_count": 17,
     "metadata": {},
     "output_type": "execute_result"
    }
   ],
   "source": [
    "word = \"abcdefd\"\n",
    "ch = \"d\"\n",
    "ss=Solution()\n",
    "ss.reversePrefix(word,ch)"
   ]
  },
  {
   "cell_type": "markdown",
   "id": "57da9f54",
   "metadata": {},
   "source": [
    "3033"
   ]
  },
  {
   "cell_type": "code",
   "execution_count": 18,
   "id": "1964277f",
   "metadata": {},
   "outputs": [],
   "source": [
    "import numpy as np\n",
    "class Solution:\n",
    "    def modifiedMatrix(self, matrix: List[List[int]]) -> List[List[int]]:\n",
    "        A=np.array(matrix)\n",
    "        A_column_max = np.max(A,axis = 0)\n",
    "        B = A.copy()\n",
    "        m,n = A.shape\n",
    "        for i in range(m):\n",
    "            for j in range(n):\n",
    "                if A[i,j] == -1:\n",
    "                    B[i,j] = A_column_max[j]\n",
    "        return B"
   ]
  },
  {
   "cell_type": "code",
   "execution_count": 19,
   "id": "c1f2e6d5",
   "metadata": {},
   "outputs": [
    {
     "data": {
      "text/plain": [
       "array([[1, 2, 9],\n",
       "       [4, 8, 6],\n",
       "       [7, 8, 9]])"
      ]
     },
     "execution_count": 19,
     "metadata": {},
     "output_type": "execute_result"
    }
   ],
   "source": [
    "matrix = [[1,2,-1],[4,-1,6],[7,8,9]]\n",
    "ss=Solution()\n",
    "ss.modifiedMatrix(matrix)"
   ]
  },
  {
   "cell_type": "markdown",
   "id": "470e966e",
   "metadata": {},
   "source": [
    "2399"
   ]
  },
  {
   "cell_type": "code",
   "execution_count": 20,
   "id": "a85fd298",
   "metadata": {},
   "outputs": [],
   "source": [
    "class Solution:\n",
    "    def checkDistances(self, s: str, distance: List[int]) -> bool:\n",
    "        d = defaultdict(int)\n",
    "        for i, c in enumerate(s, 1):\n",
    "            if d[c] and i - d[c] - 1 != distance[ord(c) - ord('a')]:\n",
    "                return False\n",
    "            d[c] = i\n",
    "        return True"
   ]
  },
  {
   "cell_type": "code",
   "execution_count": 21,
   "id": "15071c40",
   "metadata": {},
   "outputs": [
    {
     "data": {
      "text/plain": [
       "True"
      ]
     },
     "execution_count": 21,
     "metadata": {},
     "output_type": "execute_result"
    }
   ],
   "source": [
    "s = \"abaccb\"\n",
    "distance = [1,3,0,5,0,0,0,0,0,0,0,0,0,0,0,0,0,0,0,0,0,0,0,0,0,0]\n",
    "ss=Solution()\n",
    "ss.checkDistances(s,distance)"
   ]
  },
  {
   "cell_type": "markdown",
   "id": "9d667074",
   "metadata": {},
   "source": [
    "22"
   ]
  },
  {
   "cell_type": "code",
   "execution_count": 22,
   "id": "d9cb09e5",
   "metadata": {},
   "outputs": [],
   "source": [
    "class Solution:\n",
    "    def generateParenthesis(self, n: int) -> List[str]:\n",
    "        def get_next(state:str, count:int, stack:int) -> List[str]:\n",
    "            if count == 0 == stack: return [state]\n",
    "\n",
    "            result = []\n",
    "            if count > 0:\n",
    "                result += get_next(state+'(', count-1, stack+1)\n",
    "            if stack > 0:\n",
    "                result += get_next(state+')', count, stack-1)\n",
    "\n",
    "            return result\n",
    "        \n",
    "        return get_next('', n, 0)"
   ]
  },
  {
   "cell_type": "code",
   "execution_count": 23,
   "id": "3fc488d7",
   "metadata": {},
   "outputs": [
    {
     "data": {
      "text/plain": [
       "['((()))', '(()())', '(())()', '()(())', '()()()']"
      ]
     },
     "execution_count": 23,
     "metadata": {},
     "output_type": "execute_result"
    }
   ],
   "source": [
    "n = 3\n",
    "ss=Solution()\n",
    "ss.generateParenthesis(n)"
   ]
  },
  {
   "cell_type": "markdown",
   "id": "b8db9b3b",
   "metadata": {},
   "source": [
    "1"
   ]
  },
  {
   "cell_type": "code",
   "execution_count": 24,
   "id": "cf32c5fe",
   "metadata": {},
   "outputs": [],
   "source": [
    "class Solution:\n",
    "    def twoSum(self, nums: List[int], target: int) -> List[int]:\n",
    "        length = len(nums)\n",
    "        \n",
    "        dic = {}\n",
    "        for idx, num in enumerate(nums):\n",
    "            if target - num in dic:\n",
    "                return [idx, dic[target - num]]\n",
    "            \n",
    "            dic[num] = idx\n",
    "        "
   ]
  },
  {
   "cell_type": "code",
   "execution_count": 25,
   "id": "fdfd949b",
   "metadata": {},
   "outputs": [
    {
     "data": {
      "text/plain": [
       "[1, 0]"
      ]
     },
     "execution_count": 25,
     "metadata": {},
     "output_type": "execute_result"
    }
   ],
   "source": [
    "nums = [2,7,11,15]\n",
    "target = 9\n",
    "ss=Solution()\n",
    "ss.twoSum(nums,target)"
   ]
  },
  {
   "cell_type": "markdown",
   "id": "7e1d802f",
   "metadata": {},
   "source": [
    "9"
   ]
  },
  {
   "cell_type": "code",
   "execution_count": 26,
   "id": "0d8ea2ab",
   "metadata": {},
   "outputs": [],
   "source": [
    "class Solution:\n",
    "    def isPalindrome(self, x: int) -> bool:\n",
    "        x = str(x)\n",
    "        return x == x[::-1]"
   ]
  },
  {
   "cell_type": "code",
   "execution_count": null,
   "id": "3aa7a310",
   "metadata": {},
   "outputs": [],
   "source": []
  },
  {
   "cell_type": "markdown",
   "id": "fb6372bd",
   "metadata": {},
   "source": [
    "13"
   ]
  },
  {
   "cell_type": "code",
   "execution_count": 27,
   "id": "fcd9ece9",
   "metadata": {},
   "outputs": [],
   "source": [
    "class Solution:\n",
    "    def romanToInt(self, s: str) -> int:\n",
    "        dic={'M':1000,'CM':900,'D':500,'CD':400,'C':100,'XC':90,'L':50,'XL':40,'X':10,'IX':9,'V':5,'IV':4,'I':1}\n",
    "        sum = 0\n",
    "\n",
    "        for i in range(0,len(s)-1):\n",
    "            if dic[s[i]]>=dic[s[i+1]]:\n",
    "                sum = sum+dic[s[i]]\n",
    "            else :\n",
    "                sum = sum-dic[s[i]]\n",
    "        return sum+dic[s[-1]]"
   ]
  },
  {
   "cell_type": "code",
   "execution_count": null,
   "id": "cc7d508c",
   "metadata": {},
   "outputs": [],
   "source": []
  },
  {
   "cell_type": "markdown",
   "id": "6f4da701",
   "metadata": {},
   "source": [
    "14"
   ]
  },
  {
   "cell_type": "code",
   "execution_count": 28,
   "id": "6f60841d",
   "metadata": {},
   "outputs": [],
   "source": [
    "class Solution:\n",
    "    def longestCommonPrefix(self, strs: List[str]) -> str:\n",
    "        minStr = min(strs, key = len)\n",
    "        for i, x in enumerate(minStr):\n",
    "            for other in strs: \n",
    "                if other[i] !=x:\n",
    "                     return minStr[:i]\n",
    "        return minStr"
   ]
  },
  {
   "cell_type": "code",
   "execution_count": null,
   "id": "f22b171a",
   "metadata": {},
   "outputs": [],
   "source": []
  },
  {
   "cell_type": "markdown",
   "id": "24ba7060",
   "metadata": {},
   "source": [
    "20"
   ]
  },
  {
   "cell_type": "code",
   "execution_count": 29,
   "id": "fb755683",
   "metadata": {},
   "outputs": [],
   "source": [
    "class Solution:\n",
    "    def isValid(self, s: str) -> bool:\n",
    "        dic = {'}':'{',')':'(',']':'['}\n",
    "        stack = []\n",
    "        for c in s:\n",
    "            if c in dic.values():\n",
    "                stack.append(c)\n",
    "            elif c in dic.keys():\n",
    "                if not stack or dic[c]!=stack.pop():\n",
    "                    return False\n",
    "        return not stack"
   ]
  },
  {
   "cell_type": "code",
   "execution_count": 30,
   "id": "770c1a21",
   "metadata": {},
   "outputs": [
    {
     "data": {
      "text/plain": [
       "True"
      ]
     },
     "execution_count": 30,
     "metadata": {},
     "output_type": "execute_result"
    }
   ],
   "source": [
    "ss=Solution()\n",
    "ss.isValid('[]()')"
   ]
  },
  {
   "cell_type": "markdown",
   "id": "06af829d",
   "metadata": {},
   "source": [
    "21"
   ]
  },
  {
   "cell_type": "code",
   "execution_count": 31,
   "id": "0f62b942",
   "metadata": {},
   "outputs": [],
   "source": [
    "\n",
    "class ListNode:\n",
    "    def __init__(self, val=0, next=None):\n",
    "        self.val = val\n",
    "        self.next = next\n",
    "class Solution:\n",
    "    def mergeTwoLists(self, list1: Optional[ListNode], list2: Optional[ListNode]) -> Optional[ListNode]:\n",
    "        merge = ListNode()\n",
    "        node = merge\n",
    "\n",
    "        while list1 and list2:\n",
    "            if list1.val <= list2.val:\n",
    "                node.next = ListNode(list1.val)\n",
    "                list1 = list1.next\n",
    "            else:\n",
    "                node.next = ListNode(list2.val)\n",
    "                list2 = list2.next\n",
    "\n",
    "            node = node.next               \n",
    "\n",
    "        node.next = list1 or list2\n",
    "        return merge.next"
   ]
  },
  {
   "cell_type": "markdown",
   "id": "b4b03ec1",
   "metadata": {},
   "source": [
    "26"
   ]
  },
  {
   "cell_type": "code",
   "execution_count": 32,
   "id": "2fb1fee5",
   "metadata": {},
   "outputs": [],
   "source": [
    "class Solution:\n",
    "    def removeDuplicates(self, nums):\n",
    "        if not nums:\n",
    "            return 0\n",
    "        \n",
    "        k = 1  # Initialize the count of unique elements to 1\n",
    "        for i in range(1, len(nums)):\n",
    "            if nums[i] != nums[i - 1]:\n",
    "                nums[k] = nums[i]  # Overwrite the next unique element\n",
    "                k += 1\n",
    "        \n",
    "        return k"
   ]
  },
  {
   "cell_type": "code",
   "execution_count": null,
   "id": "79ff4066",
   "metadata": {},
   "outputs": [],
   "source": []
  },
  {
   "cell_type": "markdown",
   "id": "69ffbf39",
   "metadata": {},
   "source": [
    "27"
   ]
  },
  {
   "cell_type": "code",
   "execution_count": 33,
   "id": "5e49ca99",
   "metadata": {},
   "outputs": [],
   "source": [
    "class Solution:\n",
    "    def removeElement(self, nums: List[int], val: int) -> int:\n",
    "        index = 0\n",
    "        for i in range(len(nums)):\n",
    "            if nums[i] != val:\n",
    "                nums[index] = nums[i]\n",
    "                index += 1\n",
    "        return index"
   ]
  },
  {
   "cell_type": "code",
   "execution_count": null,
   "id": "861beccd",
   "metadata": {},
   "outputs": [],
   "source": []
  },
  {
   "cell_type": "markdown",
   "id": "a5a8a381",
   "metadata": {},
   "source": [
    "35"
   ]
  },
  {
   "cell_type": "code",
   "execution_count": 34,
   "id": "32368843",
   "metadata": {},
   "outputs": [],
   "source": [
    "class Solution:\n",
    "    def searchInsert(self, nums: List[int], target: int) -> int:\n",
    "        left, right = 0, len(nums) - 1\n",
    "        \n",
    "        while left <= right:\n",
    "            mid = left + (right - left) // 2\n",
    "            \n",
    "            if nums[mid] == target:\n",
    "                return mid\n",
    "            elif nums[mid] < target:\n",
    "                left = mid + 1\n",
    "            else:\n",
    "                right = mid - 1\n",
    "        \n",
    "        return left"
   ]
  },
  {
   "cell_type": "markdown",
   "id": "bbbdbff6",
   "metadata": {},
   "source": [
    "58"
   ]
  },
  {
   "cell_type": "code",
   "execution_count": 35,
   "id": "ac4116fb",
   "metadata": {},
   "outputs": [],
   "source": [
    "class Solution:\n",
    "    def lengthOfLastWord(self, s: str) -> int:\n",
    "        return len(s.strip().split(' ')[-1])"
   ]
  },
  {
   "cell_type": "markdown",
   "id": "af84da85",
   "metadata": {},
   "source": [
    "66"
   ]
  },
  {
   "cell_type": "code",
   "execution_count": 36,
   "id": "2b22b646",
   "metadata": {},
   "outputs": [],
   "source": [
    "class Solution:\n",
    "    def plusOne(self, digits: List[int]) -> List[int]:\n",
    "        return list(map(int, str(int(''.join(map(str, digits))) + 1)))"
   ]
  },
  {
   "cell_type": "markdown",
   "id": "10959386",
   "metadata": {},
   "source": [
    "67"
   ]
  },
  {
   "cell_type": "code",
   "execution_count": 37,
   "id": "df6bc866",
   "metadata": {},
   "outputs": [],
   "source": [
    "class Solution:\n",
    "    def addBinary(self, a: str, b: str) -> str:\n",
    "        return format(int(a,2) + int(b,2),'b')"
   ]
  },
  {
   "cell_type": "markdown",
   "id": "37b88c41",
   "metadata": {},
   "source": [
    "69"
   ]
  },
  {
   "cell_type": "code",
   "execution_count": 38,
   "id": "ba559d4b",
   "metadata": {},
   "outputs": [],
   "source": [
    "class Solution:\n",
    "    def mySqrt(self, x: int) -> int:\n",
    "        b = x\n",
    "        while b * b > x:\n",
    "            b = (b + x // b) // 2\n",
    "        return b"
   ]
  },
  {
   "cell_type": "code",
   "execution_count": 39,
   "id": "d09516a6",
   "metadata": {},
   "outputs": [
    {
     "data": {
      "text/plain": [
       "3"
      ]
     },
     "execution_count": 39,
     "metadata": {},
     "output_type": "execute_result"
    }
   ],
   "source": [
    "x = 10\n",
    "ss= Solution()\n",
    "ss.mySqrt(x)"
   ]
  },
  {
   "cell_type": "markdown",
   "id": "776c0082",
   "metadata": {},
   "source": [
    "70"
   ]
  },
  {
   "cell_type": "code",
   "execution_count": 40,
   "id": "c4b1a39b",
   "metadata": {},
   "outputs": [],
   "source": [
    "class Solution:\n",
    "    def climbStairs(self, n: int) -> int:\n",
    "        ways = 1\n",
    "\n",
    "        for i in range(1, (n // 2) + 1):\n",
    "            product = 1\n",
    "\n",
    "            for j in range(i, 2 * i):\n",
    "                product *= (n - j) / (j - i + 1)\n",
    "\n",
    "            ways += product\n",
    "\n",
    "        return int(ways)"
   ]
  },
  {
   "cell_type": "markdown",
   "id": "3be4f2d0",
   "metadata": {},
   "source": [
    "83"
   ]
  },
  {
   "cell_type": "code",
   "execution_count": 41,
   "id": "96e744ba",
   "metadata": {},
   "outputs": [],
   "source": [
    "class ListNode:\n",
    "    def __init__(self, val=0, next=None):\n",
    "        self.val = val\n",
    "        self.next = next\n",
    "class Solution:\n",
    "    def deleteDuplicates(self, head: Optional[ListNode]) -> Optional[ListNode]:\n",
    "        res = head\n",
    "\n",
    "        while head and head.next:\n",
    "            if head.val == head.next.val:\n",
    "                head.next = head.next.next\n",
    "            else:\n",
    "                head = head.next\n",
    "        \n",
    "        return res"
   ]
  },
  {
   "cell_type": "markdown",
   "id": "d4ad6c96",
   "metadata": {},
   "source": [
    "88"
   ]
  },
  {
   "cell_type": "code",
   "execution_count": 42,
   "id": "31afb981",
   "metadata": {},
   "outputs": [],
   "source": [
    "class Solution:\n",
    "    def merge(self, nums1: List[int], m: int, nums2: List[int], n: int) -> None:\n",
    "        nums1[m:] = nums2\n",
    "        nums1.sort()"
   ]
  },
  {
   "cell_type": "markdown",
   "id": "a0772221",
   "metadata": {},
   "source": [
    "94"
   ]
  },
  {
   "cell_type": "code",
   "execution_count": 43,
   "id": "e3f611a6",
   "metadata": {},
   "outputs": [],
   "source": [
    "class TreeNode:\n",
    "    def __init__(self, val=0, left=None, right=None):        \n",
    "        self.val = val\n",
    "        self.left = left\n",
    "        self.right = right\n",
    "class Solution:\n",
    "    def inorderTraversal(self, root: Optional[TreeNode]) -> List[int]:\n",
    "        \n",
    "        \n",
    "        def In(root,arr):   \n",
    "            if root is None:\n",
    "                return \n",
    "            else:\n",
    "                In(root.left,arr)\n",
    "                arr.append(root.val)\n",
    "                In(root.right,arr)\n",
    "            return arr\n",
    "        return In(root,[])     \n",
    "\n",
    "\n",
    "                    \n",
    "        "
   ]
  },
  {
   "cell_type": "markdown",
   "id": "a7f2cffa",
   "metadata": {},
   "source": [
    "125"
   ]
  },
  {
   "cell_type": "code",
   "execution_count": 44,
   "id": "56d92bac",
   "metadata": {},
   "outputs": [],
   "source": [
    "class Solution:\n",
    "    def isPalindrome(self, s: str) -> bool:\n",
    "\n",
    "        letters = [a.lower() for a in s if a.isalnum()]\n",
    "\n",
    "        return letters == letters[::-1]\t# 리스트를 반대로 뒤집기"
   ]
  },
  {
   "cell_type": "markdown",
   "id": "7a8617de",
   "metadata": {},
   "source": [
    "168"
   ]
  },
  {
   "cell_type": "code",
   "execution_count": 45,
   "id": "d2b1ca5f",
   "metadata": {},
   "outputs": [],
   "source": [
    "class Solution:\n",
    "    def convertToTitle(self, columnNumber: int) -> str:\n",
    "        if not columnNumber:\n",
    "            return \"\"\n",
    "        columnNumber, remainder = divmod(columnNumber - 1, 26)\n",
    "        return self.convertToTitle(columnNumber) + chr(65 + remainder)"
   ]
  },
  {
   "cell_type": "markdown",
   "id": "5e51e61f",
   "metadata": {},
   "source": [
    "171"
   ]
  },
  {
   "cell_type": "code",
   "execution_count": 46,
   "id": "b168cb7c",
   "metadata": {},
   "outputs": [],
   "source": [
    "class Solution:\n",
    "    def titleToNumber(self, columnTitle: str) -> int:\n",
    "        ans, pos = 0, 0\n",
    "        for letter in reversed(columnTitle):\n",
    "            digit = ord(letter)-64\n",
    "            ans += digit * 26**pos\n",
    "            pos += 1\n",
    "            \n",
    "        return ans"
   ]
  },
  {
   "cell_type": "markdown",
   "id": "2649caf1",
   "metadata": {},
   "source": [
    "205"
   ]
  },
  {
   "cell_type": "code",
   "execution_count": 47,
   "id": "77f20932",
   "metadata": {},
   "outputs": [],
   "source": [
    "class Solution:\n",
    "    def isIsomorphic(self, s: str, t: str) -> bool:\n",
    "        shm = {}\n",
    "        thm = {}\n",
    "        for i in range(len(s)):\n",
    "            if not shm.get(s[i]):\n",
    "                shm[s[i]] = t[i]\n",
    "            if not thm.get(t[i]):\n",
    "                thm[t[i]] = s[i]\n",
    "            if shm[s[i]] != t[i] or thm[t[i]] != s[i]:\n",
    "                return 0\n",
    "        return 1\n",
    "\n",
    "    "
   ]
  },
  {
   "cell_type": "markdown",
   "id": "8f7ee0f1",
   "metadata": {},
   "source": [
    "242"
   ]
  },
  {
   "cell_type": "code",
   "execution_count": 48,
   "id": "2bf2ee6f",
   "metadata": {},
   "outputs": [],
   "source": [
    "class Solution:\n",
    "    def isAnagram(self, s: str, t: str) -> bool:\n",
    "        sorted_s = sorted(s)\n",
    "        sorted_t = sorted(t)\n",
    "        return sorted_s == sorted_t"
   ]
  },
  {
   "cell_type": "markdown",
   "id": "f58955ba",
   "metadata": {},
   "source": [
    "257"
   ]
  },
  {
   "cell_type": "code",
   "execution_count": 49,
   "id": "334f696f",
   "metadata": {},
   "outputs": [],
   "source": [
    "class Solution:\n",
    "    def binaryTreePaths(self, root: Optional[TreeNode]) -> List[str]:\n",
    "        def dfs(node, path, result):\n",
    "            if not node:\n",
    "                return\n",
    "            path += str(node.val)\n",
    "            if not node.left and not node.right:\n",
    "                result.append(path)\n",
    "            else:\n",
    "                dfs(node.left, path + '->', result)\n",
    "                dfs(node.right, path + '->', result)\n",
    "\n",
    "        result = []\n",
    "        dfs(root, '', result)\n",
    "        return result "
   ]
  },
  {
   "cell_type": "markdown",
   "id": "17480117",
   "metadata": {},
   "source": [
    "290"
   ]
  },
  {
   "cell_type": "code",
   "execution_count": 50,
   "id": "a1070983",
   "metadata": {},
   "outputs": [],
   "source": [
    "class Solution:\n",
    "    def wordPattern(self, pattern: str, s: str) -> bool:\n",
    "\n",
    "        s = s.split()\n",
    "\n",
    "        return (len(set(pattern)) ==\n",
    "                len(set(s)) ==\n",
    "                len(set(zip_longest(pattern,s))))"
   ]
  },
  {
   "cell_type": "markdown",
   "id": "7a94e16d",
   "metadata": {},
   "source": [
    "344"
   ]
  },
  {
   "cell_type": "code",
   "execution_count": 51,
   "id": "55832e51",
   "metadata": {},
   "outputs": [],
   "source": [
    "class Solution:\n",
    "    def reverseString(self, s: List[str]) -> None:\n",
    "        s[:] = s[::-1]"
   ]
  },
  {
   "cell_type": "markdown",
   "id": "2fbda1de",
   "metadata": {},
   "source": [
    "345"
   ]
  },
  {
   "cell_type": "code",
   "execution_count": 52,
   "id": "7c9318e8",
   "metadata": {},
   "outputs": [],
   "source": [
    "class Solution:\n",
    "    def reverseVowels(self, s: str) -> str:\n",
    "        vowels = {'a', 'e', 'i', 'o', 'u', 'A', 'E', 'I', 'O', 'U'}\n",
    "        li1 = []\n",
    "        li2 = []\n",
    "        for i in range(len(s)):\n",
    "            if s[i] in vowels:\n",
    "                li1.append(s[i])\n",
    "                li2.append(i)\n",
    "        for j in range(len(li2)):\n",
    "            s = s[:li2[j]] + li1[-j-1] + s[li2[j]+1:]\n",
    "        return s\n"
   ]
  },
  {
   "cell_type": "markdown",
   "id": "bf4f43d7",
   "metadata": {},
   "source": [
    "383"
   ]
  },
  {
   "cell_type": "code",
   "execution_count": 53,
   "id": "8ea591f0",
   "metadata": {},
   "outputs": [],
   "source": [
    "class Solution:\n",
    "    def canConstruct(self, ransomNote: str, magazine: str) -> bool:\n",
    "        count = Counter(magazine)\n",
    "       \n",
    "        for c in ransomNote:\n",
    "            if c not in count or count[c] == 0:\n",
    "                return False\n",
    "            else:\n",
    "                count[c] -= 1\n",
    "\n",
    "        return True\n",
    "            \n",
    "     "
   ]
  },
  {
   "cell_type": "markdown",
   "id": "e8e663d7",
   "metadata": {},
   "source": [
    "387"
   ]
  },
  {
   "cell_type": "code",
   "execution_count": 54,
   "id": "292bd566",
   "metadata": {},
   "outputs": [],
   "source": [
    "from collections import Counter\n",
    "class Solution:\n",
    "    def firstUniqChar(self, s: str) -> int:\n",
    "        l = Counter(s)\n",
    "        for i,j in l.items():\n",
    "            if j==1: \n",
    "                return s.index(i)\n",
    "        return -1"
   ]
  },
  {
   "cell_type": "markdown",
   "id": "e5de0906",
   "metadata": {},
   "source": [
    "389"
   ]
  },
  {
   "cell_type": "code",
   "execution_count": 55,
   "id": "9f104749",
   "metadata": {},
   "outputs": [],
   "source": [
    "class Solution:\n",
    "    def findTheDifference(self, s: str, t: str) -> str:\n",
    "        if len(s)> len(t):\n",
    "            for i in s:\n",
    "                if s.count(i)>t.count(i):\n",
    "                    return(i)\n",
    "                    break\n",
    "        if len(t)>len(s):\n",
    "            for i in t:\n",
    "                if t.count(i)>s.count(i):\n",
    "                    return(i)\n",
    "                    break"
   ]
  },
  {
   "cell_type": "markdown",
   "id": "6c491664",
   "metadata": {},
   "source": [
    "392"
   ]
  },
  {
   "cell_type": "code",
   "execution_count": 56,
   "id": "88de4253",
   "metadata": {},
   "outputs": [],
   "source": [
    "class Solution:\n",
    "    def isSubsequence(self, s: str, t: str) -> bool:\n",
    "        sp = tp = 0\n",
    "\n",
    "        while sp < len(s) and tp < len(t):\n",
    "            if s[sp] == t[tp]:\n",
    "                sp += 1\n",
    "            tp += 1\n",
    "        \n",
    "        return sp == len(s)"
   ]
  },
  {
   "cell_type": "markdown",
   "id": "2c46c1ac",
   "metadata": {},
   "source": [
    "409"
   ]
  },
  {
   "cell_type": "code",
   "execution_count": 57,
   "id": "5f70033a",
   "metadata": {},
   "outputs": [],
   "source": [
    "class Solution:\n",
    "    def longestPalindrome(self, s: str) -> int:\n",
    "        odd_count = 0\n",
    "        d = {}\n",
    "        for ch in s:\n",
    "            if ch in d:\n",
    "                d[ch] += 1\n",
    "            else:\n",
    "                d[ch] = 1\n",
    "            if d[ch] % 2 == 1:\n",
    "                odd_count += 1\n",
    "            else:\n",
    "                odd_count -= 1\n",
    "        if odd_count > 1:\n",
    "            return len(s) - odd_count + 1\n",
    "        return len(s)"
   ]
  },
  {
   "cell_type": "markdown",
   "id": "73d8da33",
   "metadata": {},
   "source": [
    "412"
   ]
  },
  {
   "cell_type": "code",
   "execution_count": 58,
   "id": "d8e98088",
   "metadata": {},
   "outputs": [],
   "source": [
    "class Solution:\n",
    "    def fizzBuzz(self,n):\n",
    "        aList=list()\n",
    "        i = 1\n",
    "        while i<=n:\n",
    "            if i%3==0 and i%5==0:\n",
    "                aList.append(\"FizzBuzz\")\n",
    "            elif i%5==0:\n",
    "                aList.append(\"Buzz\")\n",
    "            elif i%3==0:\n",
    "                aList.append(\"Fizz\")\n",
    "            else:\n",
    "                aList.append(str(i))\n",
    "            i+=1\n",
    "        return aList"
   ]
  },
  {
   "cell_type": "markdown",
   "id": "48676e93",
   "metadata": {},
   "source": [
    "415"
   ]
  },
  {
   "cell_type": "code",
   "execution_count": 59,
   "id": "7a55e3cc",
   "metadata": {},
   "outputs": [],
   "source": [
    "class Solution:\n",
    "    def addStrings(self, num1: str, num2: str) -> str:\n",
    "        sys.set_int_max_str_digits(10000)\n",
    "        return str(int(num1) + int(num2))"
   ]
  },
  {
   "cell_type": "markdown",
   "id": "e90ac418",
   "metadata": {},
   "source": [
    "434"
   ]
  },
  {
   "cell_type": "code",
   "execution_count": 60,
   "id": "048fd839",
   "metadata": {},
   "outputs": [],
   "source": [
    "class Solution:\n",
    "    def countSegments(self, s: str) -> int:\n",
    "        if s == \"\":\n",
    "            return 0\n",
    "\n",
    "        if s.replace(\" \", \"\") == \"\":\n",
    "            return 0\n",
    "\n",
    "        return len([x for x in s.split(\" \") if x != \"\"])"
   ]
  },
  {
   "cell_type": "markdown",
   "id": "07836533",
   "metadata": {},
   "source": [
    "459"
   ]
  },
  {
   "cell_type": "code",
   "execution_count": 61,
   "id": "2d82133f",
   "metadata": {},
   "outputs": [],
   "source": [
    "class Solution:\n",
    "    def repeatedSubstringPattern(self, s: str) -> bool: \n",
    "        ss = (s + s)[1:-1]\n",
    "        if ss.find(s) != -1:\n",
    "            return (True)\n",
    "        else: return (False)\n"
   ]
  },
  {
   "cell_type": "markdown",
   "id": "67d0e776",
   "metadata": {},
   "source": [
    "482"
   ]
  },
  {
   "cell_type": "code",
   "execution_count": 62,
   "id": "ae8fef4f",
   "metadata": {},
   "outputs": [],
   "source": [
    "class Solution:\n",
    "    def licenseKeyFormatting(self, s: str, k: int) -> str:\n",
    "        # Remove any dashes and convert all characters to uppercase\n",
    "        s = s.replace(\"-\", \"\").upper()\n",
    "\n",
    "        # Calculate the length of the first group\n",
    "        first_group_len = len(s) % k\n",
    "\n",
    "        # Initialize the reformatted license key with the first group\n",
    "        reformatted = s[:first_group_len]\n",
    "\n",
    "        # Iterate over the remaining groups and add them to the reformatted license key\n",
    "        for i in range(first_group_len, len(s), k):\n",
    "            if reformatted:\n",
    "                reformatted += \"-\"\n",
    "            reformatted += s[i:i+k]\n",
    "\n",
    "        return reformatted"
   ]
  },
  {
   "cell_type": "markdown",
   "id": "9f740f05",
   "metadata": {},
   "source": [
    "500"
   ]
  },
  {
   "cell_type": "code",
   "execution_count": 63,
   "id": "c4cac650",
   "metadata": {},
   "outputs": [],
   "source": [
    "class Solution:\n",
    "    def findWords(self, words: List[str]) -> List[str]:\n",
    "        l1=\"qwertyuiop\"\n",
    "        l2=\"asdfghjkl\"\n",
    "        l3=\"zxcvbnm\"\n",
    "        res=[]\n",
    "        for word in words:\n",
    "            w=word.lower()\n",
    "            if len(set(l1+w))==len(l1) or len(set(l2+w))==len(l2) or len(set(l3+w))==len(l3) :\n",
    "                res.append(word)\n",
    "        return res"
   ]
  },
  {
   "cell_type": "markdown",
   "id": "6e59aa14",
   "metadata": {},
   "source": [
    "520"
   ]
  },
  {
   "cell_type": "code",
   "execution_count": 64,
   "id": "479d4801",
   "metadata": {},
   "outputs": [],
   "source": [
    "class Solution:\n",
    "    def detectCapitalUse(self, s: str) -> bool:\n",
    "        if s.isupper() or s.islower() or s.title() == s:\n",
    "            return True\n",
    "        else:\n",
    "            return False"
   ]
  },
  {
   "cell_type": "markdown",
   "id": "ed60bd7a",
   "metadata": {},
   "source": [
    "521"
   ]
  },
  {
   "cell_type": "code",
   "execution_count": 65,
   "id": "2561a345",
   "metadata": {},
   "outputs": [],
   "source": [
    "class Solution:\n",
    "    def findLUSlength(self, A: str, B: str) -> int:\n",
    "        if A == B:\n",
    "            return -1\n",
    "        return max(len(A), len(B))"
   ]
  },
  {
   "cell_type": "markdown",
   "id": "3799b029",
   "metadata": {},
   "source": [
    "541"
   ]
  },
  {
   "cell_type": "code",
   "execution_count": 66,
   "id": "22a3576e",
   "metadata": {},
   "outputs": [],
   "source": [
    "class Solution:\n",
    "    def reverseStr(self, s: str, k: int) -> str:\n",
    "        mylist = list(s)\n",
    "        for i in range(0, len(mylist), k + k):\n",
    "            mylist[i:k + i] = reversed(mylist[i:k + i])\n",
    "        return \"\".join(mylist)"
   ]
  },
  {
   "cell_type": "code",
   "execution_count": null,
   "id": "ee13adef",
   "metadata": {},
   "outputs": [],
   "source": []
  },
  {
   "cell_type": "markdown",
   "id": "529f1ddb",
   "metadata": {},
   "source": [
    "551"
   ]
  },
  {
   "cell_type": "code",
   "execution_count": 67,
   "id": "ccc1aafa",
   "metadata": {},
   "outputs": [],
   "source": [
    "class Solution:\n",
    "    def checkRecord(self, s: str) -> bool:\n",
    "    \n",
    "        return s.count('A')<2 and s.find('LLL') ==-1"
   ]
  },
  {
   "cell_type": "markdown",
   "id": "99555d30",
   "metadata": {},
   "source": [
    "4"
   ]
  },
  {
   "cell_type": "code",
   "execution_count": 68,
   "id": "c340bd5d",
   "metadata": {},
   "outputs": [],
   "source": [
    "class Solution:\n",
    "    def findMedianSortedArrays(self, nums1: List[int], nums2: List[int]) -> float:\n",
    "        nums1.extend(nums2)\n",
    "        nums1.sort()\n",
    "\n",
    "        if len(nums1) % 2 == 0:\n",
    "            return (nums1[len(nums1)//2] + nums1[len(nums1) // 2 - 1]) / 2\n",
    "        else:\n",
    "            return nums1[len(nums1)//2]"
   ]
  },
  {
   "cell_type": "markdown",
   "id": "0888640b",
   "metadata": {},
   "source": [
    "41"
   ]
  },
  {
   "cell_type": "code",
   "execution_count": 69,
   "id": "f5613a28",
   "metadata": {},
   "outputs": [],
   "source": [
    "class Solution:\n",
    "    def firstMissingPositive(self, nums: List[int]) -> int:\n",
    "        s=set()\n",
    "        sp=1\n",
    "        for n in nums:\n",
    "            s.add(n)\n",
    "            while sp in s:\n",
    "                sp+=1\n",
    "        return sp"
   ]
  },
  {
   "cell_type": "markdown",
   "id": "bee32ee6",
   "metadata": {},
   "source": [
    "108"
   ]
  },
  {
   "cell_type": "code",
   "execution_count": 70,
   "id": "ebec8a45",
   "metadata": {},
   "outputs": [],
   "source": [
    "class Solution:\n",
    "    def sortedArrayToBST(self, nums: List[int]):\n",
    "        total_nums = len(nums)\n",
    "        if not total_nums:\n",
    "            return None\n",
    "\n",
    "        mid_node = total_nums // 2\n",
    "        return TreeNode(\n",
    "            nums[mid_node], \n",
    "            self.sortedArrayToBST(nums[:mid_node]), self.sortedArrayToBST(nums[mid_node + 1 :])\n",
    "        )"
   ]
  },
  {
   "cell_type": "markdown",
   "id": "1914488b",
   "metadata": {},
   "source": [
    "268"
   ]
  },
  {
   "cell_type": "code",
   "execution_count": 71,
   "id": "5fad423a",
   "metadata": {},
   "outputs": [],
   "source": [
    "class Solution:\n",
    "    def missingNumber(self, nums: List[int]) -> int:\n",
    "        res = len(nums)\n",
    "\n",
    "        for i in range(len(nums)):\n",
    "            res += i - nums[i]\n",
    "        \n",
    "        return res"
   ]
  },
  {
   "cell_type": "markdown",
   "id": "48430fcf",
   "metadata": {},
   "source": [
    "1929"
   ]
  },
  {
   "cell_type": "code",
   "execution_count": 72,
   "id": "c9b33098",
   "metadata": {},
   "outputs": [],
   "source": [
    "class Solution:\n",
    "    def getConcatenation(self, nums: List[int]) -> List[int]:\n",
    "        return nums + nums "
   ]
  },
  {
   "cell_type": "markdown",
   "id": "70b31095",
   "metadata": {},
   "source": [
    "1920"
   ]
  },
  {
   "cell_type": "code",
   "execution_count": 73,
   "id": "d371cd78",
   "metadata": {},
   "outputs": [],
   "source": [
    "class Solution:\n",
    "    def buildArray(self, nums: List[int]) -> List[int]:\n",
    "        return [nums[i] for i in nums]"
   ]
  },
  {
   "cell_type": "markdown",
   "id": "ebad677e",
   "metadata": {},
   "source": [
    "2011"
   ]
  },
  {
   "cell_type": "code",
   "execution_count": 74,
   "id": "4cf52f15",
   "metadata": {},
   "outputs": [],
   "source": [
    "class Solution:\n",
    "    def finalValueAfterOperations(self, op: List[str]) -> int:\n",
    "        ans = 0\n",
    "        for x in op:\n",
    "            if x[1] == \"+\":\n",
    "                ans+=1\n",
    "            else:\n",
    "                ans -= 1\n",
    "\n",
    "        return ans"
   ]
  },
  {
   "cell_type": "markdown",
   "id": "b5ae58fd",
   "metadata": {},
   "source": [
    "1512"
   ]
  },
  {
   "cell_type": "code",
   "execution_count": 75,
   "id": "f058ae62",
   "metadata": {},
   "outputs": [],
   "source": [
    "class Solution:\n",
    "    def numIdenticalPairs(self, nums: List[int]) -> int:\n",
    "        return sum([math.comb(n, 2) for n in collections.Counter(nums).values()])      "
   ]
  },
  {
   "cell_type": "code",
   "execution_count": null,
   "id": "91a79e9b",
   "metadata": {},
   "outputs": [],
   "source": []
  },
  {
   "cell_type": "markdown",
   "id": "c411d934",
   "metadata": {},
   "source": [
    "1470"
   ]
  },
  {
   "cell_type": "code",
   "execution_count": 76,
   "id": "d44e2113",
   "metadata": {},
   "outputs": [],
   "source": [
    "class Solution:\n",
    "    def shuffle(self, nums: List[int], n: int) -> List[int]:\n",
    "        new = []\n",
    "        half_index = len(nums) // 2\n",
    "        for i in range(len(nums) // 2):\n",
    "            new.append(nums[i])\n",
    "            new.append(nums[i + half_index])\n",
    "        return new\n",
    "            "
   ]
  },
  {
   "cell_type": "markdown",
   "id": "d0caf4d0",
   "metadata": {},
   "source": [
    "2942"
   ]
  },
  {
   "cell_type": "code",
   "execution_count": 77,
   "id": "e403e8bb",
   "metadata": {},
   "outputs": [],
   "source": [
    "class Solution:\n",
    "    def findWordsContaining(self, words: List[str], x: str) -> List[int]:\n",
    "\n",
    "        answer = []\n",
    "        for i in range(len(words)):\n",
    "            for letter in words[i]:\n",
    "                if letter == x:\n",
    "                    answer.append(i)\n",
    "                    break\n",
    "        return answer"
   ]
  },
  {
   "cell_type": "markdown",
   "id": "55ca2f9c",
   "metadata": {},
   "source": [
    "2373"
   ]
  },
  {
   "cell_type": "code",
   "execution_count": 78,
   "id": "9ef07d2c",
   "metadata": {},
   "outputs": [],
   "source": [
    "class Solution:\n",
    "    def largestLocal(self, grid: List[List[int]]) -> List[List[int]]:\n",
    "        n, res = len(grid), []\n",
    "\n",
    "        for i in range(1, n - 1):\n",
    "            temp_row = []\n",
    "            for j in range(1, n - 1):\n",
    "                temp = 0\n",
    "\n",
    "                for k in range(i - 1, i + 2):\n",
    "                    for l in range(j - 1, j + 2):\n",
    "                        temp = max(temp, grid[k][l])\n",
    "\n",
    "                temp_row.append(temp)\n",
    "            res.append(temp_row)\n",
    "\n",
    "        return res"
   ]
  },
  {
   "cell_type": "markdown",
   "id": "ac18d1ec",
   "metadata": {},
   "source": [
    "1672"
   ]
  },
  {
   "cell_type": "code",
   "execution_count": 79,
   "id": "66e39289",
   "metadata": {},
   "outputs": [],
   "source": [
    "class Solution:\n",
    "    def maximumWealth(self, accounts: List[List[int]]) -> int:\n",
    "        wealth = 0\n",
    "        for i in accounts:\n",
    "            money = 0\n",
    "            for j in i:\n",
    "                money += j\n",
    "            if money > wealth:\n",
    "                wealth = money\n",
    "        return wealth"
   ]
  },
  {
   "cell_type": "markdown",
   "id": "32f01f0e",
   "metadata": {},
   "source": [
    "1863"
   ]
  },
  {
   "cell_type": "code",
   "execution_count": 80,
   "id": "fbcb6f1f",
   "metadata": {},
   "outputs": [],
   "source": [
    "class Solution:\n",
    "    def subsetXORSum(self, nums: List[int]) -> int:\n",
    "        n = len(nums)\n",
    "        total_sum = 0\n",
    "        # Iterate through all possible subsets\n",
    "        for i in range(1 << n):\n",
    "            subset_xor = 0\n",
    "            for j in range(n):\n",
    "                # Check if the j-th element is in the i-th subset\n",
    "                if i & (1 << j):\n",
    "                    subset_xor ^= nums[j]\n",
    "            total_sum += subset_xor\n",
    "        return total_sum"
   ]
  },
  {
   "cell_type": "markdown",
   "id": "9b4a00e3",
   "metadata": {},
   "source": [
    "3110"
   ]
  },
  {
   "cell_type": "code",
   "execution_count": 81,
   "id": "8b61b349",
   "metadata": {},
   "outputs": [],
   "source": [
    "class Solution:\n",
    "    def scoreOfString(self, s: str) -> int:\n",
    "        total = 0\n",
    "        for i in range(len(s) - 1):\n",
    "            total += abs(ord(s[i]) - ord(s[i + 1]))\n",
    "        return total"
   ]
  },
  {
   "cell_type": "markdown",
   "id": "8599f092",
   "metadata": {},
   "source": [
    "3146"
   ]
  },
  {
   "cell_type": "code",
   "execution_count": 82,
   "id": "99f74fbe",
   "metadata": {},
   "outputs": [
    {
     "name": "stdout",
     "output_type": "stream",
     "text": [
      "2\n",
      "12\n"
     ]
    }
   ],
   "source": [
    "class Solution:\n",
    "    def findPermutationDifference(self, s: str, t: str) -> int:\n",
    "        indices_s = {char: index for index, char in enumerate(s)}\n",
    "        indices_t = {char: index for index, char in enumerate(t)}\n",
    "        permutation_difference = 0\n",
    "        \n",
    "        for char in s:\n",
    "            permutation_difference += abs(indices_s[char] - indices_t[char])\n",
    "        \n",
    "        return permutation_difference\n",
    "\n",
    "# Example usage:\n",
    "solution = Solution()\n",
    "print(solution.findPermutationDifference(\"abc\", \"bac\"))  # Output: 2\n",
    "print(solution.findPermutationDifference(\"abcde\", \"edbac\"))  # Output: 12"
   ]
  },
  {
   "cell_type": "markdown",
   "id": "40a946ef",
   "metadata": {},
   "source": [
    "1108"
   ]
  },
  {
   "cell_type": "code",
   "execution_count": 83,
   "id": "b1045d46",
   "metadata": {},
   "outputs": [],
   "source": [
    "class Solution:\n",
    "    def defangIPaddr(self, address: str) -> str:\n",
    "        return address.replace(\".\", \"[.]\")"
   ]
  },
  {
   "cell_type": "markdown",
   "id": "bc8cdcf9",
   "metadata": {},
   "source": [
    "771"
   ]
  },
  {
   "cell_type": "code",
   "execution_count": 84,
   "id": "9082297d",
   "metadata": {},
   "outputs": [],
   "source": [
    "class Solution:\n",
    "    def numJewelsInStones(self, jw: str, st: str) -> int:\n",
    "        count = 0\n",
    "        for i in range(len(jw)):\n",
    "            for j in range(len(st)):\n",
    "                if jw[i] is st[j]:\n",
    "                    count += 1\n",
    "        return count"
   ]
  },
  {
   "cell_type": "markdown",
   "id": "7b14fc44",
   "metadata": {},
   "source": [
    "1678"
   ]
  },
  {
   "cell_type": "code",
   "execution_count": 85,
   "id": "c0e94f34",
   "metadata": {},
   "outputs": [],
   "source": [
    "class Solution:\n",
    "    def interpret(self, command: str) -> str:\n",
    "        return command.replace('()','o').replace('(al)','al')"
   ]
  },
  {
   "cell_type": "markdown",
   "id": "6a51355e",
   "metadata": {},
   "source": [
    "2114"
   ]
  },
  {
   "cell_type": "code",
   "execution_count": 86,
   "id": "488eb726",
   "metadata": {},
   "outputs": [],
   "source": [
    "class Solution:\n",
    "    def mostWordsFound(self, sentences: List[str]) -> int:\n",
    "        answer = 0\n",
    "        for sentence in sentences:\n",
    "            answer = max(answer, len(sentence.split()))\n",
    "\n",
    "\n",
    "        return answer"
   ]
  },
  {
   "cell_type": "markdown",
   "id": "3cebaa2b",
   "metadata": {},
   "source": [
    "1221"
   ]
  },
  {
   "cell_type": "code",
   "execution_count": 87,
   "id": "8c43eebd",
   "metadata": {},
   "outputs": [],
   "source": [
    "class Solution:\n",
    "    def balancedStringSplit(self, s: str) -> int:\n",
    "        s = s.replace(\"R\", \"-1,\").replace(\"L\", \"1,\")\n",
    "        ls = list(map(lambda x : 1 if x == \"1\" else -1, s[:-1].split(\",\")))\n",
    "        c = 0\n",
    "        k = 0\n",
    "        for i in ls :\n",
    "            if k == 0 :\n",
    "                c += 1\n",
    "            k += i\n",
    "        return c"
   ]
  },
  {
   "cell_type": "markdown",
   "id": "7f72e9b8",
   "metadata": {},
   "source": [
    "1662"
   ]
  },
  {
   "cell_type": "code",
   "execution_count": 88,
   "id": "3a6dcf26",
   "metadata": {},
   "outputs": [],
   "source": [
    "class Solution:\n",
    "    def arrayStringsAreEqual(self, word1: List[str], word2: List[str]) -> bool:\n",
    "        pointer1, idx1, pointer2, idx2 = 0, 0, 0, 0  # Pointers and indices for both words\n",
    "\n",
    "        while pointer1 < len(word1) and pointer2 < len(word2):\n",
    "            # Get the current characters from both words\n",
    "            char1, char2 = word1[pointer1][idx1], word2[pointer2][idx2]\n",
    "\n",
    "            # Compare characters\n",
    "            if char1 != char2:\n",
    "                return False\n",
    "\n",
    "            # Move to the next character in the current word\n",
    "            idx1 += 1\n",
    "            idx2 += 1\n",
    "\n",
    "            # Move to the next word if the end of the current word is reached\n",
    "            if idx1 == len(word1[pointer1]):\n",
    "                idx1, pointer1 = 0, pointer1 + 1 # Move to the next word in word1\n",
    "\n",
    "            if idx2 == len(word2[pointer2]):\n",
    "                idx2, pointer2 = 0, pointer2 + 1 # Move to the next word in word2\n",
    "\n",
    "        # Check if both pointers have reached the end of their respective arrays\n",
    "        return pointer1 == len(word1) and pointer2 == len(word2)        "
   ]
  },
  {
   "cell_type": "markdown",
   "id": "1aca92a4",
   "metadata": {},
   "source": [
    "1816"
   ]
  },
  {
   "cell_type": "code",
   "execution_count": 89,
   "id": "0fe03222",
   "metadata": {},
   "outputs": [],
   "source": [
    "class Solution:\n",
    "    def truncateSentence(self, s: str, k: int) -> str:\n",
    "        return \" \".join(s.split(\" \")[:k])"
   ]
  },
  {
   "cell_type": "markdown",
   "id": "647d91ba",
   "metadata": {},
   "source": [
    "1773"
   ]
  },
  {
   "cell_type": "code",
   "execution_count": 90,
   "id": "30ac6716",
   "metadata": {},
   "outputs": [],
   "source": [
    "class Solution:\n",
    "    def countMatches(self, items: List[List[str]], ruleKey: str, ruleValue: str) -> int:\n",
    "        if(ruleKey==\"type\"):\n",
    "            k=0\n",
    "        elif(ruleKey==\"color\"):\n",
    "            k=1\n",
    "        else:\n",
    "            k=2\n",
    "        c=0\n",
    "        for i in items:\n",
    "            if(i[k]==ruleValue):\n",
    "                c=c+1\n",
    "        return c"
   ]
  },
  {
   "cell_type": "markdown",
   "id": "7a32fa76",
   "metadata": {},
   "source": [
    "1528"
   ]
  },
  {
   "cell_type": "code",
   "execution_count": 91,
   "id": "ed14ab2e",
   "metadata": {},
   "outputs": [],
   "source": [
    "class Solution:\n",
    "    def restoreString(self, s: str, indices: List[int]) -> str:\n",
    "        a=\"\"\n",
    "        indices=list(indices)\n",
    "        for i in range(len(s)):\n",
    "            b=indices.index(i)\n",
    "            a+=s[b]\n",
    "        return a"
   ]
  },
  {
   "cell_type": "markdown",
   "id": "632ccfe1",
   "metadata": {},
   "source": [
    "2325"
   ]
  },
  {
   "cell_type": "code",
   "execution_count": 92,
   "id": "7bb31fa7",
   "metadata": {},
   "outputs": [],
   "source": [
    "class Solution:\n",
    "    def unique_everseen(self, iterable):\n",
    "        seen = set(\" \")\n",
    "        for element in filterfalse(seen.__contains__, iterable):\n",
    "            seen.add(element)\n",
    "            yield element\n",
    "\n",
    "    def decodeMessage(self, key: str, message: str) -> str:\n",
    "        key_uniq = list(self.unique_everseen(key))\n",
    "        d = dict(zip(key_uniq, ascii_lowercase)) | {\" \": \" \"}\n",
    "        return \"\".join(map(d.__getitem__, message))"
   ]
  },
  {
   "cell_type": "markdown",
   "id": "95e89181",
   "metadata": {},
   "source": [
    "2194"
   ]
  },
  {
   "cell_type": "code",
   "execution_count": 93,
   "id": "a9cc4a7e",
   "metadata": {},
   "outputs": [],
   "source": [
    "class Solution:\n",
    "    def cellsInRange(self, s: str) -> List[str]:\n",
    "        return [f'{chr(ch)}{i}' for ch in range(ord(s[0]), ord(s[3])+1) for i in range(int(s[1]), int(s[4])+1)]"
   ]
  },
  {
   "cell_type": "markdown",
   "id": "7fbe2b1d",
   "metadata": {},
   "source": [
    "2108"
   ]
  },
  {
   "cell_type": "code",
   "execution_count": 94,
   "id": "e40b4fa7",
   "metadata": {},
   "outputs": [],
   "source": [
    "class Solution:\n",
    "    def firstPalindrome(self, words: List[str]) -> str:\n",
    "        return next((word for word in words if word == word[::-1]), \"\")"
   ]
  },
  {
   "cell_type": "markdown",
   "id": "2973c3d2",
   "metadata": {},
   "source": [
    "1614"
   ]
  },
  {
   "cell_type": "code",
   "execution_count": 95,
   "id": "2011772c",
   "metadata": {},
   "outputs": [],
   "source": [
    "class Solution:\n",
    "    def maxDepth(self, s: str) -> int:\n",
    "        return max(accumulate((c=='(')-(c==')') for c in s))"
   ]
  },
  {
   "cell_type": "markdown",
   "id": "05460737",
   "metadata": {},
   "source": [
    "2810"
   ]
  },
  {
   "cell_type": "code",
   "execution_count": 96,
   "id": "37fca265",
   "metadata": {},
   "outputs": [],
   "source": [
    "class Solution:\n",
    "    def finalString(self, s: str) -> str:\n",
    "        result = []\n",
    "        reverse = False\n",
    "        for char in s:\n",
    "            if char == 'i':\n",
    "                reverse = not reverse\n",
    "            else:\n",
    "                if reverse:\n",
    "                    result.insert(0, char)\n",
    "                else:\n",
    "                    result.append(char)\n",
    "        if reverse:\n",
    "            result.reverse()\n",
    "        return ''.join(result)"
   ]
  },
  {
   "cell_type": "markdown",
   "id": "92538929",
   "metadata": {},
   "source": [
    "709"
   ]
  },
  {
   "cell_type": "code",
   "execution_count": 97,
   "id": "0357011e",
   "metadata": {},
   "outputs": [],
   "source": [
    "class Solution:\n",
    "    def toLowerCase(self, s: str) -> str:\n",
    "        answerString = \"\"\n",
    "        for i in s:\n",
    "            if 'A' <= i <= 'Z':\n",
    "                answerString = answerString + chr(ord(i)+32)\n",
    "            else:\n",
    "                 answerString = answerString + i\n",
    "\n",
    "        return answerString\n",
    "            "
   ]
  },
  {
   "cell_type": "markdown",
   "id": "44672265",
   "metadata": {},
   "source": [
    "1832"
   ]
  },
  {
   "cell_type": "code",
   "execution_count": 98,
   "id": "779722a3",
   "metadata": {},
   "outputs": [],
   "source": [
    "class Solution:\n",
    "    def checkIfPangram(self, sentence: str) -> bool:\n",
    "        return len(set(sentence)) == 26"
   ]
  },
  {
   "cell_type": "markdown",
   "id": "1c565240",
   "metadata": {},
   "source": [
    "1684"
   ]
  },
  {
   "cell_type": "code",
   "execution_count": 99,
   "id": "a264b1a4",
   "metadata": {},
   "outputs": [],
   "source": [
    "class Solution:\n",
    "    def countConsistentStrings(self, allowed: str, words: List[str]) -> int:\n",
    "        count = 0\n",
    "        flag = 0\n",
    "        for word in words:\n",
    "            flag = 0\n",
    "            for i in word:\n",
    "                if i not in allowed:\n",
    "                    flag = 1\n",
    "                    break\n",
    "            if flag:\n",
    "                continue\n",
    "            \n",
    "            count += 1\n",
    "        return count\n"
   ]
  },
  {
   "cell_type": "markdown",
   "id": "eac282d6",
   "metadata": {},
   "source": [
    "1859"
   ]
  },
  {
   "cell_type": "code",
   "execution_count": 100,
   "id": "28f96f0c",
   "metadata": {},
   "outputs": [],
   "source": [
    "class Solution:\n",
    "    def sortSentence(self, s: str) -> str:\n",
    "        a = s.split()\n",
    "        b = [0] * len(a)\n",
    "        for i in a:\n",
    "            b[int(i[-1]) - 1] = i[0:-1]\n",
    "        return \" \".join(b)"
   ]
  },
  {
   "cell_type": "markdown",
   "id": "71e7d771",
   "metadata": {},
   "source": [
    "557"
   ]
  },
  {
   "cell_type": "code",
   "execution_count": 101,
   "id": "c708f2ed",
   "metadata": {},
   "outputs": [],
   "source": [
    "class Solution:\n",
    "    def reverseWords(self, s: str) -> str:\n",
    "        # Split the input string into words and reverse each word\n",
    "        words = s.split()\n",
    "        reversed_words = [word[::-1] for word in words]\n",
    "\n",
    "        # Join the reversed words to form the final result\n",
    "        return ' '.join(reversed_words)"
   ]
  },
  {
   "cell_type": "markdown",
   "id": "b07e72d5",
   "metadata": {},
   "source": [
    "2864"
   ]
  },
  {
   "cell_type": "code",
   "execution_count": 102,
   "id": "8007398a",
   "metadata": {},
   "outputs": [],
   "source": [
    "class Solution:\n",
    "    def maximumOddBinaryNumber(self, s: str) -> str:\n",
    "        ones = 0\n",
    "        s = list(s)\n",
    "\n",
    "        for i in range(len(s)):\n",
    "            if s[i] == '1':\n",
    "                s[i] = '0'\n",
    "                ones += 1\n",
    "\n",
    "        if ones > 1:\n",
    "            for i in range(ones - 1):\n",
    "                s[i] = '1'\n",
    "        s[-1] = '1'\n",
    "\n",
    "        return ''.join(s)"
   ]
  },
  {
   "cell_type": "markdown",
   "id": "c2e2cd53",
   "metadata": {},
   "source": [
    "2828"
   ]
  },
  {
   "cell_type": "code",
   "execution_count": 103,
   "id": "02c2510a",
   "metadata": {},
   "outputs": [],
   "source": [
    "class Solution:\n",
    "    def isAcronym(self, words: List[str], s: str) -> bool:\n",
    "        x = []\n",
    "        for i in words:\n",
    "            if i:\n",
    "                x.append(i[0])\n",
    "\n",
    "        x = \"\".join(x)\n",
    "        if(x==s):\n",
    "            return(True)\n",
    "        else:\n",
    "            return(False)\n",
    "        "
   ]
  },
  {
   "cell_type": "markdown",
   "id": "d63a0f70",
   "metadata": {},
   "source": [
    "804"
   ]
  },
  {
   "cell_type": "code",
   "execution_count": 104,
   "id": "a4f7695b",
   "metadata": {},
   "outputs": [],
   "source": [
    "class Solution:\n",
    "    def uniqueMorseRepresentations(self, x: List[str]) -> int:\n",
    "        a=[\".-\",\"-...\",\"-.-.\",\"-..\",\".\",\"..-.\",\"--.\",\"....\",\"..\",\".---\",\"-.-\",\".-..\",\"--\",\"-.\",\"---\",\".--.\",\"--.-\",\".-.\",\"...\",\"-\",\"..-\",\"...-\",\".--\",\"-..-\",\"-.--\",\"--..\"]\n",
    "        return len(set([\"\".join([a[ord(i)-97] for i in j]) for j in x]))"
   ]
  },
  {
   "cell_type": "markdown",
   "id": "53e82057",
   "metadata": {},
   "source": [
    "1021"
   ]
  },
  {
   "cell_type": "code",
   "execution_count": 105,
   "id": "d04bb8c3",
   "metadata": {},
   "outputs": [],
   "source": [
    "class Solution:\n",
    "    def removeOuterParentheses(self, S: str) -> str:\n",
    "        res, opened = [], 0\n",
    "        for c in S:\n",
    "            if c == '(' and opened > 0: res.append(c)\n",
    "            if c == ')' and opened > 1: res.append(c)\n",
    "            opened += 1 if c == '(' else -1\n",
    "        \n",
    "        return \"\".join(res)"
   ]
  },
  {
   "cell_type": "markdown",
   "id": "48e975c2",
   "metadata": {},
   "source": [
    "1637"
   ]
  },
  {
   "cell_type": "code",
   "execution_count": 106,
   "id": "ae02c37d",
   "metadata": {},
   "outputs": [],
   "source": [
    "class Solution:\n",
    "    def maxWidthOfVerticalArea(self, points: List[List[int]]) -> int:\n",
    "\n",
    "        x_cor = [i for i,j in points]\n",
    "\n",
    "        x_cor.sort()\n",
    "        ans = 0\n",
    "\n",
    "        for i in range(len(x_cor)-1):\n",
    "            if ans < x_cor[i+1] - x_cor[i]:\n",
    "                ans = x_cor[i+1] - x_cor[i]  \n",
    "        return ans\n",
    "        "
   ]
  },
  {
   "cell_type": "markdown",
   "id": "0b27c0d2",
   "metadata": {},
   "source": [
    "2824"
   ]
  },
  {
   "cell_type": "code",
   "execution_count": 107,
   "id": "5158f25f",
   "metadata": {},
   "outputs": [],
   "source": [
    "class Solution:\n",
    "    def countPairs(self, nums: List[int], target: int) -> int:\n",
    "        import itertools\n",
    "        all_combinations = itertools.combinations(nums,2)\n",
    "        result = 0\n",
    "        for x,y in all_combinations:\n",
    "            if x + y < target:\n",
    "                result += 1\n",
    "        return result\n",
    "        "
   ]
  },
  {
   "cell_type": "markdown",
   "id": "1bbf2dcb",
   "metadata": {},
   "source": [
    "1365"
   ]
  },
  {
   "cell_type": "code",
   "execution_count": 108,
   "id": "ca1883a1",
   "metadata": {},
   "outputs": [],
   "source": [
    "class Solution:\n",
    "    def smallerNumbersThanCurrent(self, nums: List[int]) -> List[int]:\n",
    "        ans = []\n",
    "        for i in range(len(nums)):\n",
    "            cnt = 0\n",
    "            for j in range(len(nums)):\n",
    "                if i!=j and nums[i]>nums[j]:\n",
    "                    cnt+=1\n",
    "            ans.append(cnt)\n",
    "        return ans"
   ]
  },
  {
   "cell_type": "markdown",
   "id": "693c2028",
   "metadata": {},
   "source": [
    "2160"
   ]
  },
  {
   "cell_type": "code",
   "execution_count": 109,
   "id": "d62e708e",
   "metadata": {},
   "outputs": [],
   "source": [
    "class Solution:\n",
    "    def minimumSum(self, num: int) -> int:\n",
    "        n=[num//1000,(num//100)%10,(num//10)%10,num%10] #This line will convert the four digit no. into array \n",
    "        n.sort() #It will sort the digits in ascending order\n",
    "        return (n[0]*10+n[3])+(n[1]*10+n[2]) # Combination of first and last and the remaining two digits will give us the minimum value"
   ]
  },
  {
   "cell_type": "markdown",
   "id": "7e060207",
   "metadata": {},
   "source": [
    "2974"
   ]
  },
  {
   "cell_type": "code",
   "execution_count": 110,
   "id": "65e06dd4",
   "metadata": {},
   "outputs": [],
   "source": [
    "class Solution:\n",
    "    def numberGame(self, nums):\n",
    "        n = len(nums)\n",
    "\n",
    "        nums.sort()\n",
    "\n",
    "        i = 0\n",
    "\n",
    "        while i < n-1:\n",
    "            nums[i], nums[i+1] = nums[i+1], nums[i]\n",
    "            i += 2 \n",
    "\n",
    "        return nums"
   ]
  },
  {
   "cell_type": "markdown",
   "id": "57dbb773",
   "metadata": {},
   "source": [
    "101"
   ]
  },
  {
   "cell_type": "code",
   "execution_count": 111,
   "id": "a37be90a",
   "metadata": {},
   "outputs": [],
   "source": [
    "class TreeNode:\n",
    "    def __init__(self, val=0, left=None, right=None):\n",
    "        self.val = val\n",
    "        self.left = left\n",
    "        self.right = right\n",
    "class Solution:\n",
    "    def isSymmetric(self, root: Optional[TreeNode]) -> bool:\n",
    "        \n",
    "        def isSame(root1, root2):\n",
    "            if not root1 and not root2:\n",
    "                return True\n",
    "            if (not root1 and root2) or (root1 and not root2) or (root1.val != root2.val):\n",
    "                return False\n",
    "            left = isSame(root1.left, root2.right)\n",
    "            right = isSame(root1.right, root2.left)\n",
    "            return left and right\n",
    "        \n",
    "        if not root:\n",
    "            return True\n",
    "            \n",
    "        return isSame(root.left, root.right)"
   ]
  },
  {
   "cell_type": "markdown",
   "id": "2baf4f1e",
   "metadata": {},
   "source": [
    "104"
   ]
  },
  {
   "cell_type": "code",
   "execution_count": 112,
   "id": "6bfc29df",
   "metadata": {},
   "outputs": [],
   "source": [
    "# Definition for a binary tree node.\n",
    "# class TreeNode:\n",
    "#     def __init__(self, val=0, left=None, right=None):\n",
    "#         self.val = val\n",
    "#         self.left = left\n",
    "#         self.right = right\n",
    "# Definition for a binary tree node.\n",
    "# class TreeNode:\n",
    "#     def __init__(self, val=0, left=None, right=None):\n",
    "#         self.val = val\n",
    "#         self.left = left\n",
    "#         self.right = right\n",
    "class Solution:\n",
    "    def maxDepth(self, root: Optional[TreeNode]) -> int:\n",
    "        return 0 if not root else 1 + max(self.maxDepth(root.left),self.maxDepth(root.right))"
   ]
  },
  {
   "cell_type": "markdown",
   "id": "a7af6b28",
   "metadata": {},
   "source": [
    "118"
   ]
  },
  {
   "cell_type": "code",
   "execution_count": 113,
   "id": "b7a047c1",
   "metadata": {},
   "outputs": [],
   "source": [
    "class Solution:\n",
    "    def generate(self, numRows: int) -> List[List[int]]:\n",
    "        res = [[1]]\n",
    "\n",
    "        for _ in range(numRows - 1):\n",
    "            dummy_row = [0] + res[-1] + [0]\n",
    "            row = []\n",
    "\n",
    "            for i in range(len(res[-1]) + 1):\n",
    "                row.append(dummy_row[i] + dummy_row[i+1])\n",
    "            res.append(row)\n",
    "        \n",
    "        return res"
   ]
  },
  {
   "cell_type": "markdown",
   "id": "e2847192",
   "metadata": {},
   "source": [
    "121"
   ]
  },
  {
   "cell_type": "code",
   "execution_count": 114,
   "id": "251ba918",
   "metadata": {},
   "outputs": [],
   "source": [
    "class Solution:\n",
    "    def maxProfit(self, prices: List[int]) -> int:\n",
    "        buy_price = prices[0]\n",
    "        profit = 0\n",
    "\n",
    "        for p in prices[1:]:\n",
    "            if buy_price > p:\n",
    "                buy_price = p\n",
    "            \n",
    "            profit = max(profit, p - buy_price)\n",
    "        \n",
    "        return profit"
   ]
  },
  {
   "cell_type": "markdown",
   "id": "bd5e4507",
   "metadata": {},
   "source": [
    "136"
   ]
  },
  {
   "cell_type": "code",
   "execution_count": 115,
   "id": "dca5d4bd",
   "metadata": {},
   "outputs": [],
   "source": [
    "class Solution:\n",
    "    def singleNumber(self, nums: List[int]) -> int:\n",
    "        answer = 0\n",
    "        for num in nums:\n",
    "            answer ^= num\n",
    "        return answer"
   ]
  },
  {
   "cell_type": "markdown",
   "id": "e383ee03",
   "metadata": {},
   "source": [
    "141"
   ]
  },
  {
   "cell_type": "code",
   "execution_count": 116,
   "id": "4c4acf77",
   "metadata": {},
   "outputs": [],
   "source": [
    "# Definition for singly-linked list.\n",
    "class ListNode:\n",
    "    def __init__(self, x):\n",
    "        self.val = x\n",
    "        self.next = None\n",
    "\n",
    "class Solution:\n",
    "    def hasCycle(self, head: Optional[ListNode]) -> bool:\n",
    "        slow = head\n",
    "        fast = head\n",
    "\n",
    "        while fast and fast.next:\n",
    "            slow=slow.next\n",
    "            fast=fast.next.next\n",
    "            if slow==fast:\n",
    "                return True\n",
    "\n",
    "        return False"
   ]
  },
  {
   "cell_type": "markdown",
   "id": "8c77d125",
   "metadata": {},
   "source": [
    "160"
   ]
  },
  {
   "cell_type": "code",
   "execution_count": 117,
   "id": "f30085e8",
   "metadata": {},
   "outputs": [],
   "source": [
    "class Solution:\n",
    "    def getIntersectionNode(self, headA: ListNode, headB: ListNode) -> Optional[ListNode]:\n",
    "        stackA = ['A']\n",
    "        stackB = ['B']\n",
    "\n",
    "        while headA or headB:\n",
    "            if headA:\n",
    "                stackA.append(headA)\n",
    "                headA = headA.next\n",
    "\n",
    "            if headB:\n",
    "                stackB.append(headB)\n",
    "                headB = headB.next\n",
    "\n",
    "        prev = None\n",
    "        while stackA and stackB:\n",
    "            nodeA = stackA.pop(-1)\n",
    "            nodeB = stackB.pop(-1)\n",
    "\n",
    "            if nodeA != nodeB:\n",
    "                return prev\n",
    "\n",
    "            prev = nodeA"
   ]
  },
  {
   "cell_type": "markdown",
   "id": "14353790",
   "metadata": {},
   "source": [
    "169"
   ]
  },
  {
   "cell_type": "code",
   "execution_count": 118,
   "id": "d1b96f59",
   "metadata": {},
   "outputs": [],
   "source": [
    "class Solution:\n",
    "    def majorityElement(self, nums: List[int]) -> int:\n",
    "        hash = {}\n",
    "        res = majority = 0\n",
    "        \n",
    "        for n in nums:\n",
    "            hash[n] = 1 + hash.get(n, 0)\n",
    "            if hash[n] > majority:\n",
    "                res = n\n",
    "                majority = hash[n]\n",
    "        \n",
    "        return res"
   ]
  },
  {
   "cell_type": "markdown",
   "id": "0095d2ef",
   "metadata": {},
   "source": [
    "206"
   ]
  },
  {
   "cell_type": "code",
   "execution_count": 119,
   "id": "7395633a",
   "metadata": {},
   "outputs": [],
   "source": [
    "# Definition for singly-linked list.\n",
    "# class ListNode:\n",
    "#     def __init__(self, val=0, next=None):\n",
    "#         self.val = val\n",
    "#         self.next = next\n",
    "class Solution:\n",
    "    def reverseList(self, head: Optional[ListNode]) -> Optional[ListNode]:\n",
    "        temp = head\n",
    "        prev = None\n",
    "        front = None\n",
    "        while temp != None:\n",
    "            front = temp.next\n",
    "            temp.next = prev\n",
    "            prev = temp\n",
    "            temp = front\n",
    "\n",
    "        return prev\n"
   ]
  },
  {
   "cell_type": "code",
   "execution_count": 120,
   "id": "b1863595",
   "metadata": {},
   "outputs": [
    {
     "data": {
      "text/plain": [
       "226"
      ]
     },
     "execution_count": 120,
     "metadata": {},
     "output_type": "execute_result"
    }
   ],
   "source": [
    "226"
   ]
  },
  {
   "cell_type": "code",
   "execution_count": 121,
   "id": "212ab137",
   "metadata": {},
   "outputs": [],
   "source": [
    "# Definition for a binary tree node.\n",
    "# class TreeNode:\n",
    "#     def __init__(self, val=0, left=None, right=None):\n",
    "#         self.val = val\n",
    "#         self.left = left\n",
    "#         self.right = right\n",
    "class Solution:\n",
    "    def invertTree(self, root: Optional[TreeNode]) -> Optional[TreeNode]:\n",
    "        if root:\n",
    "            left = root.left\n",
    "            root.left = self.invertTree(root.right)\n",
    "            root.right = self.invertTree(left)\n",
    "        return root\n",
    "    "
   ]
  },
  {
   "cell_type": "markdown",
   "id": "61232e48",
   "metadata": {},
   "source": [
    "234"
   ]
  },
  {
   "cell_type": "code",
   "execution_count": 122,
   "id": "c633a465",
   "metadata": {},
   "outputs": [],
   "source": [
    "class Solution:\n",
    "    def isPalindrome(self, head: Optional[ListNode]) -> bool:\n",
    "        list_vals = []\n",
    "        stack = []\n",
    "        curr = head\n",
    "        while curr:\n",
    "            stack.append(curr.val)\n",
    "            curr = curr.next\n",
    "        curr = head\n",
    "        while curr and curr.val == stack.pop():\n",
    "            curr = curr.next\n",
    "        return curr is None"
   ]
  },
  {
   "cell_type": "markdown",
   "id": "1b538446",
   "metadata": {},
   "source": [
    "283"
   ]
  },
  {
   "cell_type": "code",
   "execution_count": 123,
   "id": "6ab36181",
   "metadata": {},
   "outputs": [],
   "source": [
    "class Solution:\n",
    "    def moveZeroes(self, nums: List[int]) -> None:\n",
    "        left = 0\n",
    "\n",
    "        for right in range(len(nums)):\n",
    "            if nums[right] != 0:\n",
    "                nums[right], nums[left] = nums[left], nums[right]\n",
    "                left += 1\n",
    "        \n",
    "        return nums"
   ]
  },
  {
   "cell_type": "markdown",
   "id": "8d92e686",
   "metadata": {},
   "source": [
    "543"
   ]
  },
  {
   "cell_type": "code",
   "execution_count": 124,
   "id": "c788ea34",
   "metadata": {},
   "outputs": [],
   "source": [
    "class Solution:\n",
    "    def diameterOfBinaryTree(self, root: Optional[TreeNode]) -> int:\n",
    "        # Define a recursive function to calculate the diameter\n",
    "        def diameter(node, res):\n",
    "            # Base case: if the node is None, return 0\n",
    "            if not node:\n",
    "                return 0\n",
    "            \n",
    "            # Recursively calculate the diameter of left and right subtrees\n",
    "            left = diameter(node.left, res)\n",
    "            right = diameter(node.right, res)\n",
    "\n",
    "            # Update the maximum diameter encountered so far\n",
    "            res[0] = max(res[0], left + right)\n",
    "            \n",
    "            # Return the depth of the current node\n",
    "            return max(left, right) + 1\n",
    "        \n",
    "        # Initialize a list to hold the maximum diameter encountered\n",
    "        res = [0]\n",
    "        # Call the diameter function starting from the root\n",
    "        diameter(root, res)\n",
    "        # Return the maximum diameter encountered\n",
    "        return res[0]"
   ]
  },
  {
   "cell_type": "markdown",
   "id": "e88aa4e0",
   "metadata": {},
   "source": [
    "704"
   ]
  },
  {
   "cell_type": "code",
   "execution_count": 125,
   "id": "53e409de",
   "metadata": {},
   "outputs": [],
   "source": [
    "class Solution:\n",
    "    def search(self, nums: List[int], target: int) -> int:\n",
    "        l=0\n",
    "        r =  len(nums) -1\n",
    "        while l <= r:\n",
    "            mid = l + ((r - l) // 2)\n",
    "            if nums[mid] > target:\n",
    "                r = mid - 1\n",
    "            elif nums[mid] < target:\n",
    "                l = mid + 1\n",
    "            else:\n",
    "                return mid\n",
    "        return -1 "
   ]
  },
  {
   "cell_type": "markdown",
   "id": "3de32c84",
   "metadata": {},
   "source": [
    "605"
   ]
  },
  {
   "cell_type": "code",
   "execution_count": 126,
   "id": "669890b6",
   "metadata": {},
   "outputs": [],
   "source": [
    "class Solution:\n",
    "    def canPlaceFlowers(self, flowerbed: List[int], n: int) -> bool:\n",
    "    \n",
    "        for i in range(len(flowerbed)):\n",
    "            left = i == 0 or flowerbed[i-1] == 0\n",
    "            right = i == len(flowerbed) - 1 or flowerbed[i+1] == 0\n",
    "\n",
    "            if left and right and flowerbed[i] == 0:\n",
    "                flowerbed[i] = 1\n",
    "                n -= 1\n",
    "        \n",
    "        return n <= 0"
   ]
  },
  {
   "cell_type": "markdown",
   "id": "33d30d95",
   "metadata": {},
   "source": [
    "617"
   ]
  },
  {
   "cell_type": "code",
   "execution_count": 127,
   "id": "b45f21ab",
   "metadata": {},
   "outputs": [],
   "source": [
    "\n",
    "class Solution:\n",
    "    def mergeTrees(self, root1: Optional[TreeNode], root2: Optional[TreeNode]) -> Optional[TreeNode]:\n",
    "\n",
    "        stack1 = [root1]\n",
    "        stack2 = [root2]\n",
    "        if not root1:\n",
    "            return root2\n",
    "\n",
    "        while stack1:\n",
    "            n1 = stack1.pop()\n",
    "            n2 = stack2.pop()\n",
    "\n",
    "            if n1 and n2:\n",
    "                n1.val += n2.val\n",
    "\n",
    "                if n2.left and not n1.left:\n",
    "                    n1.left = TreeNode()\n",
    "                if n2.right and not n1.right:\n",
    "                    n1.right = TreeNode()\n",
    "\n",
    "                stack1.append(n1.left)\n",
    "                stack1.append(n1.right)\n",
    "                stack2.append(n2.left)\n",
    "                stack2.append(n2.right)\n",
    "\n",
    "        return root1\n",
    "\n",
    "\n",
    "        "
   ]
  },
  {
   "cell_type": "markdown",
   "id": "90c1114e",
   "metadata": {},
   "source": [
    "628"
   ]
  },
  {
   "cell_type": "code",
   "execution_count": 128,
   "id": "982f7803",
   "metadata": {},
   "outputs": [],
   "source": [
    "class Solution:\n",
    "    def maximumProduct(self, nums: List[int]) -> int:\n",
    "        nums.sort()\n",
    "        return max(nums[-1]*nums[-2]*nums[-3],nums[0]*nums[1]*nums[-1])\n",
    "        #please do upvote as it makes me to code more."
   ]
  },
  {
   "cell_type": "markdown",
   "id": "37d64e52",
   "metadata": {},
   "source": [
    "637"
   ]
  },
  {
   "cell_type": "code",
   "execution_count": 129,
   "id": "ad660033",
   "metadata": {},
   "outputs": [],
   "source": [
    "# Definition for a binary tree node.\n",
    "# class TreeNode:\n",
    "#     def __init__(self, val=0, left=None, right=None):\n",
    "#         self.val = val\n",
    "#         self.left = left\n",
    "#         self.right = right\n",
    "class Solution:\n",
    "    def averageOfLevels(self, root: Optional[TreeNode]) -> List[float]:\n",
    "        level_sum, level_count = [], []\n",
    "        def dfs(root, height):\n",
    "            if not root:\n",
    "                return\n",
    "            if height > len(level_sum):\n",
    "                level_sum.append(root.val)\n",
    "                level_count.append(1)\n",
    "            else:\n",
    "                level_sum[height-1] += root.val\n",
    "                level_count[height-1] += 1\n",
    "            dfs(root.left, height+1)\n",
    "            dfs(root.right, height+1)\n",
    "\n",
    "        result = dfs(root, 1)\n",
    "        return [level_sum[i]/level_count[i] for i in range(len(level_sum))]"
   ]
  },
  {
   "cell_type": "markdown",
   "id": "ea517bab",
   "metadata": {},
   "source": [
    "613"
   ]
  },
  {
   "cell_type": "code",
   "execution_count": 130,
   "id": "ca072416",
   "metadata": {},
   "outputs": [],
   "source": [
    "class Solution:\n",
    "    def findMaxAverage(self, nums: List[int], k: int) -> float:\n",
    "        # Calculate the sum of the first k elements\n",
    "        max_sum = cur = sum(nums[:k])\n",
    "        \n",
    "        # Slide the window across the array\n",
    "        for i in range(len(nums) - k):\n",
    "            # Update the current sum by subtracting the element that goes out of the window\n",
    "            # and adding the new element that comes into the window\n",
    "            cur = cur - nums[i] + nums[i + k]\n",
    "            \n",
    "            # Update max_sum if the new current sum is larger\n",
    "            if cur > max_sum:\n",
    "                max_sum = cur\n",
    "        \n",
    "        # Calculate the maximum average\n",
    "        return max_sum / k"
   ]
  },
  {
   "cell_type": "markdown",
   "id": "5d32eeaf",
   "metadata": {},
   "source": [
    "645"
   ]
  },
  {
   "cell_type": "code",
   "execution_count": 131,
   "id": "4080ce39",
   "metadata": {},
   "outputs": [],
   "source": [
    "class Solution:\n",
    "    def findErrorNums(self, nums):\n",
    "        dup, missing = -1, -1\n",
    "        \n",
    "        for i in range(1, len(nums) + 1):\n",
    "            count = nums.count(i)\n",
    "            if count == 2:\n",
    "                dup = i\n",
    "            elif count == 0:\n",
    "                missing = i\n",
    "        \n",
    "        return [dup, missing]\n",
    "\n"
   ]
  },
  {
   "cell_type": "markdown",
   "id": "9fd87ee6",
   "metadata": {},
   "source": [
    "653"
   ]
  },
  {
   "cell_type": "code",
   "execution_count": 132,
   "id": "c966999c",
   "metadata": {},
   "outputs": [],
   "source": [
    "class Solution:\n",
    "    def findTarget(self, root: Optional[TreeNode], k: int) -> bool:\n",
    "        self.hash = {}\n",
    "        def dfs(node):\n",
    "            if node:\n",
    "                if node.val in self.hash:\n",
    "                    return True\n",
    "                self.hash[k - node.val] = 1\n",
    "                return dfs(node.left) or dfs(node.right)\n",
    "            \n",
    "        return dfs(root)"
   ]
  },
  {
   "cell_type": "markdown",
   "id": "294f5e5e",
   "metadata": {},
   "source": [
    "657"
   ]
  },
  {
   "cell_type": "code",
   "execution_count": 133,
   "id": "52003cb9",
   "metadata": {},
   "outputs": [],
   "source": [
    "class Solution:\n",
    "    def judgeCircle(self, moves: str) -> bool:\n",
    "        def move(a,i,j):\n",
    "            if(a=='L'):\n",
    "                j-=1\n",
    "            elif(a=='R'):\n",
    "                j+=1\n",
    "            elif(a=='U'):\n",
    "                i-=1\n",
    "            else:\n",
    "                i+=1\n",
    "            return i,j\n",
    "        i=j=0\n",
    "        for a in moves:\n",
    "            i,j=move(a,i,j)\n",
    "        return i==0 and j==0\n",
    "\n",
    "            "
   ]
  },
  {
   "cell_type": "markdown",
   "id": "0421575f",
   "metadata": {},
   "source": [
    "661\n"
   ]
  },
  {
   "cell_type": "code",
   "execution_count": 134,
   "id": "9be03998",
   "metadata": {},
   "outputs": [],
   "source": [
    "class Solution:\n",
    "    def imageSmoother(self, img: List[List[int]]) -> List[List[int]]:\n",
    "        rows, cols = len(img), len(img[0])\n",
    "        result = [[0] * cols for _ in range(rows)]\n",
    "\n",
    "        for i in range(rows):\n",
    "            for j in range(cols):\n",
    "                total_sum = 0\n",
    "                count = 0\n",
    "\n",
    "                for x in range(max(0, i-1), min(rows, i+2)):\n",
    "                    for y in range(max(0, j-1), min(cols, j+2)):\n",
    "                        total_sum += img[x][y]\n",
    "                        count += 1\n",
    "\n",
    "                result[i][j] = total_sum // count\n",
    "\n",
    "        return result"
   ]
  },
  {
   "cell_type": "markdown",
   "id": "0da3d827",
   "metadata": {},
   "source": [
    "671"
   ]
  },
  {
   "cell_type": "code",
   "execution_count": 135,
   "id": "f4333775",
   "metadata": {},
   "outputs": [],
   "source": [
    "class Solution:\n",
    "    def findSecondMinimumValue(self, root: Optional[TreeNode]) -> int:\n",
    "        if not root:\n",
    "            return -1\n",
    "\n",
    "        stack = [root]\n",
    "        first_min = float('inf')\n",
    "        second_min = float('inf')\n",
    "\n",
    "        while stack:\n",
    "            current = stack.pop()\n",
    "            if current.val < first_min:\n",
    "                second_min = first_min\n",
    "                first_min = current.val\n",
    "            elif current.val < second_min and current.val != first_min:\n",
    "                second_min = current.val\n",
    "\n",
    "            if current.left:\n",
    "                stack.append(current.left)\n",
    "            \n",
    "            if current.right:\n",
    "                stack.append(current.right)\n",
    "            \n",
    "        \n",
    "        return second_min if second_min != float('inf') else -1"
   ]
  },
  {
   "cell_type": "markdown",
   "id": "fb1b5528",
   "metadata": {},
   "source": [
    "674"
   ]
  },
  {
   "cell_type": "code",
   "execution_count": 136,
   "id": "26f0f549",
   "metadata": {},
   "outputs": [],
   "source": [
    "class Solution:\n",
    "    def findLengthOfLCIS(self, nums: List[int]) -> int:\n",
    "        res = 1\n",
    "        temp = 1\n",
    "        prev = nums[0]\n",
    "        for num in nums:\n",
    "            if num > prev:\n",
    "                temp += 1\n",
    "            else:\n",
    "                if temp > res:\n",
    "                    res = temp\n",
    "                temp = 1\n",
    "            prev = num\n",
    "        return max(res, temp)"
   ]
  },
  {
   "cell_type": "markdown",
   "id": "fba6337c",
   "metadata": {},
   "source": [
    "680"
   ]
  },
  {
   "cell_type": "code",
   "execution_count": 137,
   "id": "c48e301a",
   "metadata": {},
   "outputs": [],
   "source": [
    "class Solution:\n",
    "    def validPalindrome(self, s: str) -> bool:\n",
    "            p1=0\n",
    "            p2=len(s)-1\n",
    "            while p1<=p2:\n",
    "                if s[p1]!=s[p2]:\n",
    "                    string1=s[:p1]+s[p1+1:]\n",
    "                    string2=s[:p2]+s[p2+1:]\n",
    "                    return string1==string1[::-1] or string2==string2[::-1]\n",
    "                p1+=1\n",
    "                p2-=1\n",
    "            return True"
   ]
  },
  {
   "cell_type": "markdown",
   "id": "e1225a5f",
   "metadata": {},
   "source": [
    "682"
   ]
  },
  {
   "cell_type": "code",
   "execution_count": 138,
   "id": "a2e5f9dd",
   "metadata": {},
   "outputs": [],
   "source": [
    "class Solution:\n",
    "    def calPoints(self, operations: List[str]) -> int:\n",
    "        record = []\n",
    "        for i in operations:\n",
    "            if i.isdigit() or (i.startswith('-') and i[1:].isdigit()):\n",
    "                record.append(int(i))\n",
    "            elif i == \"C\":\n",
    "                if record:\n",
    "                    record.pop()\n",
    "            elif i == \"D\":\n",
    "                if record:\n",
    "                    record.append(record[-1]*2)\n",
    "            elif i == \"+\":\n",
    "                if len(record) >= 2:\n",
    "                    record.append(record[-1] + record[-2])        \n",
    "        return sum(record)"
   ]
  },
  {
   "cell_type": "markdown",
   "id": "a497482d",
   "metadata": {},
   "source": [
    "693"
   ]
  },
  {
   "cell_type": "code",
   "execution_count": 139,
   "id": "6130c11d",
   "metadata": {},
   "outputs": [],
   "source": [
    "class Solution:\n",
    "    def hasAlternatingBits(self, n: int) -> bool:\n",
    "        d = bin(n)[2:]\n",
    "        s = str(d)\n",
    "        u = s[::2]\n",
    "        g = s[1::2]\n",
    "        if(n==1 or n==0):\n",
    "            return True\n",
    "        if(set(u)== {'0'} and set(g)=={'1'}) or (set(u)== {'1'} and set(g)=={'0'}) :\n",
    "            return True\n",
    "        else:\n",
    "            return False\n",
    "        \n",
    "        "
   ]
  },
  {
   "cell_type": "markdown",
   "id": "a08106b0",
   "metadata": {},
   "source": [
    "696"
   ]
  },
  {
   "cell_type": "code",
   "execution_count": 140,
   "id": "3799f79b",
   "metadata": {},
   "outputs": [],
   "source": [
    "class Solution:\n",
    "    def countBinarySubstrings(self, s: str) -> int:\n",
    "        last = s[0]\n",
    "        curcount = 1\n",
    "        prevcount = 0\n",
    "\n",
    "        ret = 0\n",
    "        for i in s[1:]:\n",
    "            if i == last:\n",
    "                curcount += 1\n",
    "            else:\n",
    "                ret += min(curcount, prevcount)\n",
    "                prevcount = curcount\n",
    "                curcount = 1\n",
    "                last = i\n",
    "\n",
    "        ret += min(curcount, prevcount)\n",
    "\n",
    "        return ret"
   ]
  },
  {
   "cell_type": "markdown",
   "id": "47fa282e",
   "metadata": {},
   "source": [
    "697"
   ]
  },
  {
   "cell_type": "code",
   "execution_count": 141,
   "id": "c9ae70d3",
   "metadata": {},
   "outputs": [],
   "source": [
    "class Solution:\n",
    "    def findShortestSubArray(self, nums: List[int]) -> int:\n",
    "        test = Counter(nums)\n",
    "\n",
    "        max_freq = max(test.values())\n",
    "        if max_freq == 1:\n",
    "            return 1\n",
    "        numb=[]\n",
    "\n",
    "        for key, value in test.items():\n",
    "            if max_freq == value:\n",
    "                numb.append(key)\n",
    "\n",
    "        #now lets find the biggest freq:\n",
    "        for i in range(len(numb)):\n",
    "            target = numb[i]\n",
    "            start = 0\n",
    "            end = 0\n",
    "\n",
    "            #start loop\n",
    "            for j in range(len(nums)):\n",
    "                if nums[j] == target:\n",
    "                    start = j\n",
    "                    break\n",
    "\n",
    "            #end loop\n",
    "            for j in range(len(nums)-1,-1,-1):\n",
    "                if nums[j] == target:\n",
    "                    end = j\n",
    "                    break\n",
    "\n",
    "            numb[i] = (end-start)+1\n",
    "\n",
    "        return min(numb)\n",
    "\n",
    "\n",
    "\n",
    "        "
   ]
  },
  {
   "cell_type": "markdown",
   "id": "f710fab3",
   "metadata": {},
   "source": [
    "700"
   ]
  },
  {
   "cell_type": "code",
   "execution_count": 142,
   "id": "a9293a2a",
   "metadata": {},
   "outputs": [],
   "source": [
    "# Definition for a binary tree node.\n",
    "# class TreeNode:\n",
    "#     def __init__(self, val=0, left=None, right=None):\n",
    "#         self.val = val\n",
    "#         self.left = left\n",
    "#         self.right = right\n",
    "class Solution:\n",
    "    def searchBST(self, root: Optional[TreeNode], val: int) -> Optional[TreeNode]:\n",
    "        # null check && considering serching value is not available in the tree\n",
    "        if not root:\n",
    "            return\n",
    "        # considering the serching value is in right side of the tree\n",
    "        if val>root.val:\n",
    "            return self.searchBST(root.right,val)\n",
    "        # considering the serching value is in right side of the tree\n",
    "        elif val<root.val:\n",
    "            return self.searchBST(root.left,val)\n",
    "        #return if value exist \n",
    "        return root       \n",
    "        "
   ]
  },
  {
   "cell_type": "markdown",
   "id": "b613cd5f",
   "metadata": {},
   "source": [
    "703"
   ]
  },
  {
   "cell_type": "code",
   "execution_count": 143,
   "id": "d8426756",
   "metadata": {},
   "outputs": [],
   "source": [
    "class KthLargest:\n",
    "    def __init__(self, k: int, nums: List[int]):\n",
    "        self.minHeap, self.k = nums, k\n",
    "        heapq.heapify(self.minHeap)\n",
    "\n",
    "        while len(self.minHeap) > k:\n",
    "            heapq.heappop(self.minHeap)\n",
    "        \n",
    "    def add(self, val: int) -> int:\n",
    "        heapq.heappush(self.minHeap, val)\n",
    "\n",
    "        if self.k < len(self.minHeap):\n",
    "            heapq.heappop(self.minHeap)\n",
    "\n",
    "        return self.minHeap[0]"
   ]
  },
  {
   "cell_type": "markdown",
   "id": "2586c430",
   "metadata": {},
   "source": [
    "705"
   ]
  },
  {
   "cell_type": "code",
   "execution_count": 144,
   "id": "a31b08bc",
   "metadata": {},
   "outputs": [],
   "source": [
    "class MyHashSet:\n",
    "\n",
    "    def __init__(self):\n",
    "        self.mp=defaultdict(int)\n",
    "        \n",
    "\n",
    "    def add(self, key: int) -> None:\n",
    "        self.mp[key]=True\n",
    "        \n",
    "\n",
    "    def remove(self, key: int) -> None:\n",
    "        self.mp[key]=False\n",
    "\n",
    "    def contains(self, key: int) -> bool:\n",
    "        return self.mp[key]\n",
    "        "
   ]
  },
  {
   "cell_type": "markdown",
   "id": "8436e37e",
   "metadata": {},
   "source": [
    "706"
   ]
  },
  {
   "cell_type": "code",
   "execution_count": 145,
   "id": "ae535202",
   "metadata": {},
   "outputs": [],
   "source": [
    "class MyHashMap:\n",
    "    def __init__(self):\n",
    "        self.keys = []\n",
    "        self.values = []\n",
    "\n",
    "    def put(self, key: int, value: int) -> None:\n",
    "        try:\n",
    "            pos = self.keys.index(key)\n",
    "            self.values[pos] = value\n",
    "        except ValueError:\n",
    "            self.keys.append(key)\n",
    "            self.values.append(value)\n",
    "\n",
    "    def get(self, key: int) -> int:\n",
    "        try:\n",
    "            pos = self.keys.index(key)\n",
    "            return self.values[pos]\n",
    "        except ValueError:\n",
    "            return -1\n",
    "\n",
    "    def remove(self, key: int) -> None:\n",
    "        if key in self.keys:\n",
    "            pos = self.keys.index(key)\n",
    "            self.keys[pos] = None"
   ]
  },
  {
   "cell_type": "markdown",
   "id": "69d4af43",
   "metadata": {},
   "source": [
    "717"
   ]
  },
  {
   "cell_type": "code",
   "execution_count": 146,
   "id": "8bddd482",
   "metadata": {},
   "outputs": [],
   "source": [
    "class Solution:\n",
    "    def isOneBitCharacter(self, bits: List[int]) -> bool:\n",
    "        i = 0\n",
    "        while i < len(bits) - 1:\n",
    "            if bits[i] == 0:\n",
    "                i += 1\n",
    "            else:\n",
    "                i += 2\n",
    "\n",
    "        return i == len(bits) - 1        "
   ]
  },
  {
   "cell_type": "markdown",
   "id": "25ccaea5",
   "metadata": {},
   "source": [
    "724"
   ]
  },
  {
   "cell_type": "code",
   "execution_count": 147,
   "id": "95330b90",
   "metadata": {},
   "outputs": [],
   "source": [
    "class Solution:\n",
    "    def pivotIndex(self, nums: List[int]) -> int:\n",
    "        total = sum(nums)\n",
    "        left_total = 0\n",
    "\n",
    "        for i in range(len(nums)):\n",
    "            right_total = total - left_total - nums[i]\n",
    "\n",
    "            if right_total == left_total:\n",
    "                return i\n",
    "            \n",
    "            left_total += nums[i]\n",
    "        \n",
    "        return -1"
   ]
  },
  {
   "cell_type": "markdown",
   "id": "06b8cf3c",
   "metadata": {},
   "source": [
    "728"
   ]
  },
  {
   "cell_type": "code",
   "execution_count": 148,
   "id": "ee1ef094",
   "metadata": {},
   "outputs": [],
   "source": [
    "class Solution:\n",
    "    def selfDividingNumbers(self, left: int, right: int) -> List[int]:\n",
    "        w=[]\n",
    "        c=0\n",
    "        for i in range(left,right+1,1):\n",
    "            c=0\n",
    "            s=str(i)\n",
    "            for j in s:\n",
    "                j=int(j)\n",
    "                if j!=0 and i%j==0:\n",
    "                    c+=1\n",
    "            if c==len(s):\n",
    "                w.append(i)\n",
    "        return w\n",
    "          "
   ]
  },
  {
   "cell_type": "markdown",
   "id": "903ff98f",
   "metadata": {},
   "source": [
    "733"
   ]
  },
  {
   "cell_type": "code",
   "execution_count": 149,
   "id": "e793e6f1",
   "metadata": {},
   "outputs": [],
   "source": [
    "class Solution:\n",
    "    def floodFill(self, image: List[List[int]], sr: int, sc: int, color: int) -> List[List[int]]:\n",
    "        \n",
    "        start_color = image[sr][sc]\n",
    "        \n",
    "        def flood_fill(x, y):\n",
    "            if x < 0 or x >= len(image): return\n",
    "            if y < 0 or y >= len(image[0]): return\n",
    "            \n",
    "            if image[x][y] == color: return\n",
    "            if image[x][y] != start_color: return\n",
    "            \n",
    "            image[x][y] = color\n",
    "            \n",
    "            flood_fill(x-1, y)\n",
    "            flood_fill(x+1, y)\n",
    "            flood_fill(x, y+1)\n",
    "            flood_fill(x, y-1)\n",
    "        \n",
    "        flood_fill(sr, sc)\n",
    "        return image"
   ]
  },
  {
   "cell_type": "markdown",
   "id": "79c7c63e",
   "metadata": {},
   "source": [
    "744"
   ]
  },
  {
   "cell_type": "code",
   "execution_count": 150,
   "id": "87bbbe4d",
   "metadata": {},
   "outputs": [],
   "source": [
    "class Solution:\n",
    "    def nextGreatestLetter(self, letters: List[str], target: str) -> str:\n",
    "        idx = bisect_right(letters, target)\n",
    "        return letters[idx] if idx < len(letters) else letters[0]"
   ]
  },
  {
   "cell_type": "markdown",
   "id": "e0259fb9",
   "metadata": {},
   "source": [
    "746"
   ]
  },
  {
   "cell_type": "code",
   "execution_count": 151,
   "id": "a7da490f",
   "metadata": {},
   "outputs": [],
   "source": [
    "class Solution:\n",
    "    def minCostClimbingStairs(self, cost: List[int]) -> int:\n",
    "        cost.append(0) # top [10,15,20,0]\n",
    "        \n",
    "        for i in range(len(cost) - 4, -1, -1):\n",
    "            cost[i] += min(cost[i+1], cost[i+2])\n",
    "            \n",
    "        return min(cost[0], cost[1])"
   ]
  },
  {
   "cell_type": "markdown",
   "id": "970e5177",
   "metadata": {},
   "source": [
    "747"
   ]
  },
  {
   "cell_type": "code",
   "execution_count": 152,
   "id": "72cd2f61",
   "metadata": {},
   "outputs": [],
   "source": [
    "class Solution:\n",
    "    def dominantIndex(self, nums: List[int]) -> int:\n",
    "        maxVal=max(nums)\n",
    "        maxIndex=nums.index(maxVal)\n",
    "\n",
    "        for num in nums:\n",
    "            if maxVal<2*num and num!=maxVal:\n",
    "                return -1\n",
    "            \n",
    "        return maxIndex\n",
    "           \n",
    "        "
   ]
  },
  {
   "cell_type": "markdown",
   "id": "c2c2850c",
   "metadata": {},
   "source": [
    "748"
   ]
  },
  {
   "cell_type": "code",
   "execution_count": 153,
   "id": "0262c14b",
   "metadata": {},
   "outputs": [],
   "source": [
    "class Solution:\n",
    "    def shortestCompletingWord(self, licensePlate: str, words: List[str]) -> str:\n",
    "        hidden = []\n",
    "        def hidden_alphabets():\n",
    "            for i in range(len(licensePlate)):\n",
    "                if not licensePlate[i].isdigit():\n",
    "                    if licensePlate[i] != \" \":  \n",
    "                        hidden.append(licensePlate[i].lower())\n",
    "        hidden_alphabets()\n",
    "        index = -1\n",
    "        minimum = float(\"inf\")\n",
    "        flag = False\n",
    "        for i,word in enumerate(words):\n",
    "            flag = False\n",
    "            for one_hidden_alphabet in hidden:\n",
    "                if one_hidden_alphabet in word:\n",
    "                    word = word.replace(one_hidden_alphabet,'', 1)\n",
    "                else:\n",
    "                    flag = True\n",
    "                    break\n",
    "            if minimum > len(word) and not flag:\n",
    "                minimum = len(word)\n",
    "                index = i \n",
    "        return words[index]"
   ]
  },
  {
   "cell_type": "markdown",
   "id": "ab1ed76f",
   "metadata": {},
   "source": [
    "762"
   ]
  },
  {
   "cell_type": "code",
   "execution_count": 154,
   "id": "c7771537",
   "metadata": {},
   "outputs": [],
   "source": [
    "class Solution:\n",
    "    def countPrimeSetBits(self, left: int, right: int) -> int:\n",
    "        primes = {2, 3, 5, 7, 11, 13, 17, 19}\n",
    "        c = 0\n",
    "\n",
    "        for i in range(left, right + 1):\n",
    "            if i.bit_count() in primes:\n",
    "                c += 1\n",
    "                \n",
    "        return c"
   ]
  },
  {
   "cell_type": "markdown",
   "id": "7b701b53",
   "metadata": {},
   "source": [
    "766"
   ]
  },
  {
   "cell_type": "code",
   "execution_count": 155,
   "id": "391da65e",
   "metadata": {},
   "outputs": [],
   "source": [
    "def isToeplitzMatrix(self, matrix: List[List[int]]) -> bool:\n",
    "        for i in range(1,len(matrix)):\n",
    "            for j in range(1,len(matrix[0])):\n",
    "                if matrix[i-1][j-1] != matrix[i][j]:\n",
    "                    return False\n",
    "        return True"
   ]
  },
  {
   "cell_type": "markdown",
   "id": "9c1f6122",
   "metadata": {},
   "source": [
    "783"
   ]
  },
  {
   "cell_type": "code",
   "execution_count": 156,
   "id": "c50300a1",
   "metadata": {},
   "outputs": [],
   "source": [
    "class Solution:\n",
    "    def minDiffInBST(self, root: Optional[TreeNode]) -> int:\n",
    "        minSoFar = float('inf')\n",
    "        prev = float('-inf')\n",
    "\n",
    "        def recur(node):\n",
    "            nonlocal minSoFar\n",
    "            nonlocal prev\n",
    "            \n",
    "            if not node:\n",
    "                return \n",
    "            \n",
    "            recur(node.left)\n",
    "            minSoFar = min(minSoFar, node.val - prev)\n",
    "            prev = node.val\n",
    "            recur(node.right)\n",
    "\n",
    "        recur(root)\n",
    "        return minSoFar"
   ]
  },
  {
   "cell_type": "markdown",
   "id": "36742c8f",
   "metadata": {},
   "source": [
    "796"
   ]
  },
  {
   "cell_type": "code",
   "execution_count": 157,
   "id": "8760afea",
   "metadata": {},
   "outputs": [],
   "source": [
    "class Solution:\n",
    "    def rotateString(self, s: str, goal: str) -> bool:\n",
    "        return len(s) == len(goal) and s in goal+goal "
   ]
  },
  {
   "cell_type": "markdown",
   "id": "30dee738",
   "metadata": {},
   "source": [
    "806"
   ]
  },
  {
   "cell_type": "code",
   "execution_count": 158,
   "id": "fb881289",
   "metadata": {},
   "outputs": [],
   "source": [
    "class Solution:\n",
    "    def numberOfLines(self, widths: List[int], s: str) -> List[int]:\n",
    "        tot=0\n",
    "        lines=0\n",
    "        for i in s:\n",
    "            if tot+widths[ord(i)-97]>100:\n",
    "                tot=0\n",
    "                lines+=1\n",
    "            tot+=widths[ord(i)-97]\n",
    "        return [lines+1,tot]     "
   ]
  },
  {
   "cell_type": "markdown",
   "id": "d77c23f0",
   "metadata": {},
   "source": [
    "812"
   ]
  },
  {
   "cell_type": "code",
   "execution_count": 159,
   "id": "fb5eea15",
   "metadata": {},
   "outputs": [],
   "source": [
    "class Solution:\n",
    "    def largestTriangleArea(self, points: List[List[int]]) -> float:\n",
    "\n",
    "    \n",
    "        return max(abs(0.5*(x1*(y2-y3)+x2*(y3-y1)+x3*(y1-y2))) for [x1,y1], [x2,y2], [x3,y3] in combinations(points, 3))\n",
    "\n",
    "\n",
    "\n",
    "\n"
   ]
  },
  {
   "cell_type": "markdown",
   "id": "ada46ad8",
   "metadata": {},
   "source": [
    "819"
   ]
  },
  {
   "cell_type": "code",
   "execution_count": 160,
   "id": "10304d7f",
   "metadata": {},
   "outputs": [],
   "source": [
    "class Solution:\n",
    "    def mostCommonWord(self, s: str, banned: List[str]) -> str:\n",
    "        k = \"!?',;.\"\n",
    "\n",
    "        s = s.lower()\n",
    "        for char in k:\n",
    "            s = s.replace(char, ' ')\n",
    "\n",
    "        co = Counter(s.split())\n",
    "\n",
    "        mc = \"\"\n",
    "        mf = 0\n",
    "\n",
    "        for c, f in co.items():\n",
    "            if c not in banned and f > mf:\n",
    "                mc = c\n",
    "                mf = f\n",
    "\n",
    "        return mc\n"
   ]
  },
  {
   "cell_type": "markdown",
   "id": "fe33fe49",
   "metadata": {},
   "source": [
    "821"
   ]
  },
  {
   "cell_type": "code",
   "execution_count": 161,
   "id": "7595a022",
   "metadata": {},
   "outputs": [],
   "source": [
    "class Solution:\n",
    "    def shortestToChar(self, s: str, c: str) -> List[int]:\n",
    "        a,n=[],len(s)\n",
    "        for i in range(n):\n",
    "            if s[i]==c:\n",
    "                a.append(i)\n",
    "        answer=[]\n",
    "        j=0\n",
    "        for i in range(n):\n",
    "            if s[i]==c:\n",
    "                answer.append(0)\n",
    "                j+=1\n",
    "            elif i<a[0]:\n",
    "                answer.append(a[0]-i)\n",
    "            elif i>a[-1]:\n",
    "                answer.append(i-a[-1])\n",
    "            else:\n",
    "                answer.append(min((a[j]-i),(i-a[j-1])))\n",
    "        return answer"
   ]
  },
  {
   "cell_type": "markdown",
   "id": "4525620b",
   "metadata": {},
   "source": [
    "824"
   ]
  },
  {
   "cell_type": "code",
   "execution_count": 162,
   "id": "24c96037",
   "metadata": {},
   "outputs": [],
   "source": [
    "class Solution:\n",
    "    def toGoatLatin(self, sentence: str) -> str:\n",
    "        w = sentence.split()\n",
    "        l=[]\n",
    "        v=[]\n",
    "        for i in w:\n",
    "            a = 1*i \n",
    "            if(i[0]=='a'or i[0]=='e'or i[0]=='i' or i[0]=='o' or i[0]=='u' or    i[0]=='A'or i[0]=='E'or i[0]=='I' or i[0]=='O' or i[0]=='U'):\n",
    "                i = i+\"ma\"\n",
    "                l.append(i)\n",
    "            else:\n",
    "                w = i[1:]+i[0]+\"ma\"\n",
    "                l.append(w)\n",
    "        for i in range(len(l)):\n",
    "            q = l[i]+\"a\"*(i+1)\n",
    "            v.append(q)\n",
    "        m = \" \".join(v)\n",
    "\n",
    "        \n",
    "        return m\n",
    "        "
   ]
  },
  {
   "cell_type": "markdown",
   "id": "334f757b",
   "metadata": {},
   "source": [
    "832"
   ]
  },
  {
   "cell_type": "code",
   "execution_count": 163,
   "id": "8d6f0f64",
   "metadata": {},
   "outputs": [],
   "source": [
    "class Solution:\n",
    "    def flipAndInvertImage(self, image: List[List[int]]) -> List[List[int]]:\n",
    "        n = len(image)\n",
    "        for i in range(n):\n",
    "            for j in range((n + 1) // 2):\n",
    "                temp = image[i][j]\n",
    "                image[i][j] = image[i][n - j - 1] ^ 1\n",
    "                image[i][n - j - 1] = temp ^ 1\n",
    "                \n",
    "        return image"
   ]
  },
  {
   "cell_type": "markdown",
   "id": "8cf3a88a",
   "metadata": {},
   "source": [
    "836"
   ]
  },
  {
   "cell_type": "code",
   "execution_count": 164,
   "id": "a5a74a50",
   "metadata": {},
   "outputs": [],
   "source": [
    "class Solution:\n",
    "    def isRectangleOverlap(self, A: List[int], B: List[int]) -> bool:\n",
    "        return A[2] > B[0] and A[3] > B[1] and B[2] > A[0] and B[3] > A[1]"
   ]
  },
  {
   "cell_type": "markdown",
   "id": "e963c4cb",
   "metadata": {},
   "source": [
    "844"
   ]
  },
  {
   "cell_type": "code",
   "execution_count": 165,
   "id": "7dea9470",
   "metadata": {},
   "outputs": [],
   "source": [
    "class Solution:\n",
    "    def backspaceCompare(self, s: str, t: str) -> bool:\n",
    "        text_s = \"\"\n",
    "        text_t = \"\"\n",
    "        for letter in s:\n",
    "            if letter != \"#\":\n",
    "                text_s += letter\n",
    "            else:\n",
    "                text_s = text_s[:-1]\n",
    "        for letter in t:\n",
    "            if letter != \"#\":\n",
    "                text_t += letter\n",
    "            else:\n",
    "                text_t = text_t[:-1]\n",
    "        return text_s == text_t"
   ]
  },
  {
   "cell_type": "markdown",
   "id": "041170a8",
   "metadata": {},
   "source": [
    "859"
   ]
  },
  {
   "cell_type": "code",
   "execution_count": 166,
   "id": "9881009a",
   "metadata": {},
   "outputs": [],
   "source": [
    "class Solution:\n",
    "    def buddyStrings(self, s: str, goal: str) -> bool:\n",
    "        ns = len(s)\n",
    "        ng = len(goal)\n",
    "\n",
    "        if ns != ng:\n",
    "            return False\n",
    "\n",
    "        if s == goal:\n",
    "            farr = [0] * 26\n",
    "            for ch in s:\n",
    "                farr[ord(ch) - ord('a')] += 1\n",
    "            \n",
    "            for count in farr:\n",
    "                if count > 1:\n",
    "                    return True\n",
    "            \n",
    "            return False\n",
    "\n",
    "        ans = []\n",
    "        for i in range(ns):\n",
    "            if s[i] != goal[i]:\n",
    "                ans.append(i)\n",
    "                if len(ans) > 2:\n",
    "                    return False\n",
    "\n",
    "        return len(ans) == 2 and s[ans[0]] == goal[ans[1]] and s[ans[1]] == goal[ans[0]]"
   ]
  },
  {
   "cell_type": "markdown",
   "id": "54657fe2",
   "metadata": {},
   "source": [
    "860"
   ]
  },
  {
   "cell_type": "code",
   "execution_count": 167,
   "id": "72b55c2c",
   "metadata": {},
   "outputs": [],
   "source": [
    "class Solution:\n",
    "    def lemonadeChange(self, bills: List[int]) -> bool:\n",
    "        salary = {5: 0, 10: 0}\n",
    "\n",
    "        for i in bills:\n",
    "            if i == 5:\n",
    "                salary[5] += 1\n",
    "            elif i == 10:\n",
    "                if salary[5] == 0:\n",
    "                    return False\n",
    "                salary[5] -= 1\n",
    "                salary[10] += 1\n",
    "            elif i == 20:\n",
    "                if salary[10] > 0 and salary[5] > 0:\n",
    "                    salary[10] -= 1\n",
    "                    salary[5] -= 1\n",
    "                elif salary[5] >= 3:\n",
    "                    salary[5] -= 3\n",
    "                else:\n",
    "                    return False\n",
    "        \n",
    "        return True"
   ]
  },
  {
   "cell_type": "markdown",
   "id": "54f0079f",
   "metadata": {},
   "source": [
    "867"
   ]
  },
  {
   "cell_type": "code",
   "execution_count": 168,
   "id": "7dc1db6e",
   "metadata": {},
   "outputs": [],
   "source": [
    "class Solution:\n",
    "    def transpose(self, matrix: List[List[int]]) -> List[List[int]]:\n",
    "        res = [[0] * len(matrix) for _ in range(len(matrix[0]))]\n",
    "\n",
    "        for r in range(len(matrix)):\n",
    "            for c in range(len(matrix[0])):\n",
    "                res[c][r] = matrix[r][c]\n",
    "        \n",
    "        return res"
   ]
  },
  {
   "cell_type": "markdown",
   "id": "dfb4697d",
   "metadata": {},
   "source": [
    "868"
   ]
  },
  {
   "cell_type": "code",
   "execution_count": 169,
   "id": "75b37935",
   "metadata": {},
   "outputs": [],
   "source": [
    "class Solution:\n",
    "    def binaryGap(self, n: int) -> int:\n",
    "        a = bin(n)[2:]\n",
    "        ans = 0\n",
    "        count = 0\n",
    "        check = False\n",
    "        for i in range(len(a)):\n",
    "            if not check and a[i] == \"1\":\n",
    "                check = True\n",
    "            elif check and a[i] != \"1\":\n",
    "                count +=1\n",
    "            elif check and a[i] == \"1\":\n",
    "                count +=1\n",
    "                ans = max(ans, count)\n",
    "                count = 0\n",
    "        return ans"
   ]
  },
  {
   "cell_type": "markdown",
   "id": "814b0bfb",
   "metadata": {},
   "source": [
    "872"
   ]
  },
  {
   "cell_type": "code",
   "execution_count": 170,
   "id": "e4e52b93",
   "metadata": {},
   "outputs": [],
   "source": [
    "# Definition for a binary tree node.\n",
    "# class TreeNode:\n",
    "#     def __init__(self, val=0, left=None, right=None):\n",
    "#         self.val = val\n",
    "#         self.left = left\n",
    "#         self.right = right\n",
    "class Solution:\n",
    "    def leafSimilar(self, root1: Optional[TreeNode], root2: Optional[TreeNode]) -> bool:\n",
    "        def dfs(root,leaf):\n",
    "            if not root:\n",
    "                return \n",
    "            if not root.right and not root.left:\n",
    "                leaf.append(root.val)\n",
    "            dfs(root.right,leaf)\n",
    "            dfs(root.left,leaf)\n",
    "        leaf1,leaf2=[],[]\n",
    "        dfs(root1,leaf1)\n",
    "        dfs(root2,leaf2)\n",
    "        return leaf1==leaf2\n",
    "        "
   ]
  },
  {
   "cell_type": "markdown",
   "id": "16746d91",
   "metadata": {},
   "source": [
    "876"
   ]
  },
  {
   "cell_type": "code",
   "execution_count": 171,
   "id": "db705138",
   "metadata": {},
   "outputs": [],
   "source": [
    "class Solution:\n",
    "    def middleNode(self, head: Optional[ListNode]) -> Optional[ListNode]:\n",
    "        start=head\n",
    "        end=head\n",
    "        while start and start.next:\n",
    "            start,end=start.next.next,end.next\n",
    "        return end"
   ]
  },
  {
   "cell_type": "markdown",
   "id": "a0a61d7c",
   "metadata": {},
   "source": [
    "883"
   ]
  },
  {
   "cell_type": "code",
   "execution_count": 172,
   "id": "d6027bfe",
   "metadata": {},
   "outputs": [],
   "source": [
    "class Solution:    \n",
    "    def projectionArea(self, grid: List[List[int]]) -> int:\n",
    "        xy = sum(i > 0 for s in grid for i in s)\n",
    "        xz = sum(max(s) for s in grid)\n",
    "        yz = sum(max(s[i] for s in grid) for i in range(len(grid)))\n",
    "        return xy + xz + yz"
   ]
  },
  {
   "cell_type": "markdown",
   "id": "7c48f4d0",
   "metadata": {},
   "source": [
    "884"
   ]
  },
  {
   "cell_type": "code",
   "execution_count": 173,
   "id": "f5e5eae0",
   "metadata": {},
   "outputs": [],
   "source": [
    "class Solution:\n",
    "    def uncommonFromSentences(self, s1: str, s2: str) -> List[str]:\n",
    "        s1 = s1.split()\n",
    "        s2 = s2.split()\n",
    "        arr1 = [word for word in s1 if s1.count(word) == 1 and word not in s2]\n",
    "        arr2 = [secWord for secWord in s2 if s2.count(secWord) == 1 and secWord not in s1]\n",
    "        return arr1+arr2"
   ]
  },
  {
   "cell_type": "markdown",
   "id": "71f75136",
   "metadata": {},
   "source": [
    "888"
   ]
  },
  {
   "cell_type": "code",
   "execution_count": 174,
   "id": "29e586a9",
   "metadata": {},
   "outputs": [],
   "source": [
    "class Solution:\n",
    "    def fairCandySwap(self, aliceSizes: List[int], bobSizes: List[int]) -> List[int]:\n",
    "        alice = sum(aliceSizes)\n",
    "        bob = sum(bobSizes)\n",
    "        half = (alice + bob) // 2\n",
    "        for i in aliceSizes:\n",
    "            if half - (alice - i) in bobSizes:\n",
    "                return [i, half - (alice - i)]"
   ]
  },
  {
   "cell_type": "markdown",
   "id": "ee30858e",
   "metadata": {},
   "source": [
    "892"
   ]
  },
  {
   "cell_type": "code",
   "execution_count": 175,
   "id": "72c8a0ac",
   "metadata": {},
   "outputs": [],
   "source": [
    "class Solution:\n",
    "    def surfaceArea(self, grid: List[List[int]]) -> int:\n",
    "        \n",
    "        l = len(grid)\n",
    "        area=0\n",
    "        for row in range(l):\n",
    "            for col in range(l):\n",
    "                if grid[row][col]:\n",
    "                    area += (grid[row][col]*4) +2 #surface area of each block if blocks werent connected\n",
    "                if row: #row>0\n",
    "                    area -= min(grid[row][col],grid[row-1][col])*2 #subtracting as area is common among two blocks\n",
    "                if col: #col>0\n",
    "                    area -= min(grid[row][col],grid[row][col-1])*2 #subtracting as area is common among two blocks\n",
    "        return area"
   ]
  },
  {
   "cell_type": "markdown",
   "id": "7e041fcb",
   "metadata": {},
   "source": [
    "896"
   ]
  },
  {
   "cell_type": "code",
   "execution_count": 176,
   "id": "c9de0d3d",
   "metadata": {},
   "outputs": [],
   "source": [
    "class Solution:\n",
    "    def isMonotonic(self, nums: List[int]) -> bool:\n",
    "        return nums == sorted(nums) or nums == sorted(nums, reverse = True) "
   ]
  },
  {
   "cell_type": "markdown",
   "id": "765dcd5b",
   "metadata": {},
   "source": [
    "897"
   ]
  },
  {
   "cell_type": "code",
   "execution_count": 177,
   "id": "da2d5462",
   "metadata": {},
   "outputs": [],
   "source": [
    "class Solution:\n",
    "    def increasingBST(self, node: TreeNode) -> TreeNode:\n",
    "        dummy = tail = TreeNode()\n",
    "        while node is not None:\n",
    "            if node.left is not None:\n",
    "                predecessor = node.left\n",
    "                while predecessor.right is not None:\n",
    "                    predecessor = predecessor.right\n",
    "                \n",
    "                predecessor.right = node\n",
    "                left, node.left = node.left, None\n",
    "                node = left\n",
    "            else:\n",
    "                tail.right = tail = node\n",
    "                node = node.right\n",
    "        \n",
    "        return dummy.right"
   ]
  },
  {
   "cell_type": "markdown",
   "id": "550f11d1",
   "metadata": {},
   "source": [
    "905"
   ]
  },
  {
   "cell_type": "code",
   "execution_count": 178,
   "id": "879a8c81",
   "metadata": {},
   "outputs": [],
   "source": [
    "class Solution:\n",
    "    def sortArrayByParity(self, nums: List[int]) -> List[int]:\n",
    "        left, right = 0, len(nums) - 1\n",
    "        answer = [0] * len(nums)\n",
    "        for i in nums:\n",
    "            if i % 2 == 0:\n",
    "                answer[left] = i\n",
    "                left += 1\n",
    "            else:\n",
    "                answer[right] = i\n",
    "                right -= 1\n",
    "        return answer"
   ]
  },
  {
   "cell_type": "markdown",
   "id": "56ed79e3",
   "metadata": {},
   "source": [
    "908"
   ]
  },
  {
   "cell_type": "code",
   "execution_count": 179,
   "id": "37cb8c60",
   "metadata": {},
   "outputs": [],
   "source": [
    "class Solution:\n",
    "    def smallestRangeI(self, nums: List[int], k: int) -> int:\n",
    "        left = min(nums) + k\n",
    "        right = max(max(nums) - k, left)\n",
    "\n",
    "        return right - left"
   ]
  },
  {
   "cell_type": "markdown",
   "id": "3537463f",
   "metadata": {},
   "source": [
    "914"
   ]
  },
  {
   "cell_type": "code",
   "execution_count": 180,
   "id": "e54d3aad",
   "metadata": {},
   "outputs": [],
   "source": [
    "class Solution:\n",
    "    def hasGroupsSizeX(self, deck: List[int]) -> bool:\n",
    "        cache = Counter(deck)\n",
    "\n",
    "        if len(cache) == 1:\n",
    "            return cache[deck[0]] > 1\n",
    "\n",
    "        x = cache[deck[0]]\n",
    "\n",
    "        for num in cache.values():\n",
    "            x = gcd(x, num)\n",
    "\n",
    "        return x > 1"
   ]
  },
  {
   "cell_type": "markdown",
   "id": "348d245f",
   "metadata": {},
   "source": [
    "917"
   ]
  },
  {
   "cell_type": "code",
   "execution_count": 181,
   "id": "7e22c5ca",
   "metadata": {},
   "outputs": [],
   "source": [
    "class Solution(object):\n",
    "    def reverseOnlyLetters(self, s):\n",
    "        l1 = []\n",
    "        l = list(s)\n",
    "        x = 0\n",
    "        for i in range(len(s)):\n",
    "            if s[i].isalpha():\n",
    "                l1.append(s[i])\n",
    "        l1.reverse()\n",
    "        for i in range(len(s)):\n",
    "            if l[i].isalpha():\n",
    "                l[i] = l1[x]\n",
    "                x = x+1\n",
    "        return ''.join(l)"
   ]
  },
  {
   "cell_type": "markdown",
   "id": "3bd58f7a",
   "metadata": {},
   "source": [
    "922"
   ]
  },
  {
   "cell_type": "code",
   "execution_count": 182,
   "id": "d983256c",
   "metadata": {},
   "outputs": [],
   "source": [
    "class Solution:\n",
    "    def sortArrayByParityII(self, nums: List[int]) -> List[int]:\n",
    "        l1 , l2 = [] , []\n",
    "        for num in nums:\n",
    "            if num%2==0:l1.append(num)\n",
    "            else:l2.append(num)  \n",
    "        nums[0: 2*len(l1) : 2] = l1\n",
    "        nums[1: 2*len(l2) : 2] = l2\n",
    "        return nums"
   ]
  },
  {
   "cell_type": "markdown",
   "id": "d32643b4",
   "metadata": {},
   "source": [
    "925"
   ]
  },
  {
   "cell_type": "code",
   "execution_count": 183,
   "id": "00d56544",
   "metadata": {},
   "outputs": [],
   "source": [
    "class Solution:\n",
    "    def isLongPressedName(self, name: str, typed: str) -> bool:\n",
    "\n",
    "        if len(name) > len(typed):\n",
    "            return False\n",
    "\n",
    "        tracker = \"\"\n",
    "        index = 0\n",
    "        output = True\n",
    "        \n",
    "        while output and index < len(name):\n",
    "            if len(name) > len(typed):\n",
    "                return False\n",
    "            if name[index] == typed[index]:\n",
    "                tracker = name[index]\n",
    "                index += 1\n",
    "            elif (name[index] != typed[index]) and (typed[index] == tracker):\n",
    "                    typed = typed[0: index] + typed[index + 1: ]\n",
    "            else:\n",
    "                output = False\n",
    "        \n",
    "        typed_end = set(typed[len(name): ])\n",
    "        if len(typed_end) != 0:\n",
    "            if set(name[-1]) != typed_end:\n",
    "                output = False\n",
    "                \n",
    "        return output"
   ]
  },
  {
   "cell_type": "markdown",
   "id": "a07c3a20",
   "metadata": {},
   "source": [
    "929"
   ]
  },
  {
   "cell_type": "code",
   "execution_count": 184,
   "id": "d7e6f3c4",
   "metadata": {},
   "outputs": [],
   "source": [
    "class Solution:\n",
    "    def numUniqueEmails(self, emails: List[str]) -> int:\n",
    "\n",
    "        # Loop through each email in the given list of emails\n",
    "\n",
    "        for i in range(len(emails)):\n",
    "            # Split the email into local and domain parts based on '@' symbol\n",
    "            temp = emails[i].split(\"@\")\n",
    "            x = ''\n",
    "\n",
    "            # Iterate through each character in the local part of the email\n",
    "            for j in temp[0]:\n",
    "\n",
    "                if j == '.':\n",
    "                    # If the character is a '.', skip it and continue\n",
    "                    continue\n",
    "                elif j == '+':\n",
    "                    # If the character is '+', break the loop to ignore the rest of the local part\n",
    "                    break\n",
    "                else:\n",
    "                    # Append characters to 'x' until encountering '+' or '.'\n",
    "                    x += j\n",
    "\n",
    "            # Update the email by modifying the local part and keeping the domain part unchanged\n",
    "            emails[i] = x + '@' + temp[1]\n",
    "        \n",
    "        # Return the count of unique emails after modifying them\n",
    "        return len(set(emails))"
   ]
  },
  {
   "cell_type": "markdown",
   "id": "f1fe472f",
   "metadata": {},
   "source": [
    "933"
   ]
  },
  {
   "cell_type": "code",
   "execution_count": 185,
   "id": "d1c110e0",
   "metadata": {},
   "outputs": [],
   "source": [
    "class RecentCounter:\n",
    "\n",
    "    def __init__(self):\n",
    "        self.queue = deque()\n",
    "\n",
    "    def ping(self, t: int) -> int:\n",
    "        self.queue.append(t)\n",
    "        while self.queue[0] <t-3000:\n",
    "            self.queue.popleft()\n",
    "        return len(self.queue)\n",
    "\n",
    "\n",
    "# Your RecentCounter object will be instantiated and called as such:\n",
    "# obj = RecentCounter()\n",
    "# param_1 = obj.ping(t)"
   ]
  },
  {
   "cell_type": "markdown",
   "id": "bb5c1601",
   "metadata": {},
   "source": [
    "938"
   ]
  },
  {
   "cell_type": "code",
   "execution_count": 186,
   "id": "ed79e38e",
   "metadata": {},
   "outputs": [],
   "source": [
    "class Solution:\n",
    "    def rangeSumBST(self, root: Optional[TreeNode], low: int, high: int) -> int:\n",
    "        if root is None:\n",
    "            return 0\n",
    "\n",
    "        if low <= root.val <= high:\n",
    "            return root.val + self.rangeSumBST(root.left, low, high) + self.rangeSumBST(root.right, low, high)\n",
    "        elif low <= root.val:\n",
    "            return self.rangeSumBST(root.left, low, high)\n",
    "        elif root.val <= high:\n",
    "            return self.rangeSumBST(root.right, low, high)"
   ]
  },
  {
   "cell_type": "markdown",
   "id": "8fce7395",
   "metadata": {},
   "source": [
    "941"
   ]
  },
  {
   "cell_type": "code",
   "execution_count": 187,
   "id": "9e8dec2d",
   "metadata": {},
   "outputs": [],
   "source": [
    "class Solution:\n",
    "    def validMountainArray(self, arr: List[int]) -> bool:\n",
    "        return [\n",
    "            k\n",
    "            for k, v in groupby(\n",
    "                (a2 - a1 for a1, a2 in pairwise(arr)),\n",
    "                lambda x: \"p\" * (x > 0) + \"n\" * (x < 0),\n",
    "            )\n",
    "        ] == [\"p\", \"n\"]"
   ]
  },
  {
   "cell_type": "markdown",
   "id": "b3c0e0c1",
   "metadata": {},
   "source": [
    "942"
   ]
  },
  {
   "cell_type": "code",
   "execution_count": 188,
   "id": "7faf054b",
   "metadata": {},
   "outputs": [],
   "source": [
    "from itertools import groupby\n",
    "from collections import deque\n",
    "\n",
    "class Solution:\n",
    "    def diStringMatch(self, s: str) -> List[int]:\n",
    "        answer = list()\n",
    "        dq = deque(list(range(len(s)+1)))\n",
    "\n",
    "        for i in range(len(s)):\n",
    "            if s[i] == \"D\":\n",
    "                answer.append(dq.pop())\n",
    "            else:\n",
    "                answer.append(dq.popleft())\n",
    "        \n",
    "        answer.append(dq.pop())\n",
    "\n",
    "        \n",
    "        return answer"
   ]
  },
  {
   "cell_type": "markdown",
   "id": "28db40ad",
   "metadata": {},
   "source": [
    "944"
   ]
  },
  {
   "cell_type": "code",
   "execution_count": 189,
   "id": "ea6f75eb",
   "metadata": {},
   "outputs": [],
   "source": [
    "class Solution:\n",
    "    def minDeletionSize(self, strs: List[str]) -> int:\n",
    "        char_matrix = []\n",
    "        count = 0\n",
    "        for column in zip(*strs):\n",
    "            char_matrix.append(list(column))\n",
    "        for col in char_matrix:\n",
    "            if col != sorted(col):\n",
    "                count += 1\n",
    "        return count"
   ]
  },
  {
   "cell_type": "markdown",
   "id": "f7f0c94c",
   "metadata": {},
   "source": [
    "953"
   ]
  },
  {
   "cell_type": "code",
   "execution_count": 190,
   "id": "2253ef80",
   "metadata": {},
   "outputs": [],
   "source": [
    "class Solution:\n",
    "    def isAlienSorted(self, words: List[str], order: str) -> bool:\n",
    "        mapper = {chr(i):-1 for i in range(97,97+26)}\n",
    "        def map_value():\n",
    "            nonlocal order\n",
    "            nonlocal mapper\n",
    "            for i in range(len(order)):\n",
    "                mapper[order[i]] = i\n",
    "        map_value()\n",
    "        def helper():\n",
    "            for i in range(len(words)-1):\n",
    "                if len(words[i+1])<len(words[i]) and mapper[words[i+1][0]] <= mapper[words[i][0]] and words[i+1] in words[i]:\n",
    "                    return False\n",
    "                else:\n",
    "                    for j in range(min(len(words[i]), len(words[i+1]))):\n",
    "                        if words[i][j] != words[i+1][j]:\n",
    "                            if mapper[words[i+1][j]] < mapper[words[i][j]]:\n",
    "                                return False\n",
    "                            break\n",
    "            return True\n",
    "        return helper()"
   ]
  },
  {
   "cell_type": "markdown",
   "id": "a53bfeee",
   "metadata": {},
   "source": [
    "961"
   ]
  },
  {
   "cell_type": "code",
   "execution_count": 191,
   "id": "4694669b",
   "metadata": {},
   "outputs": [],
   "source": [
    "class Solution:\n",
    "    def repeatedNTimes(self, nums: List[int]) -> int:\n",
    "        hashMap = defaultdict(int)\n",
    "\n",
    "        for i in nums:\n",
    "            hashMap[i] = hashMap[i] + 1\n",
    "\n",
    "        for key, value in hashMap.items():\n",
    "            if value != 1:\n",
    "                return key\n",
    "        "
   ]
  },
  {
   "cell_type": "markdown",
   "id": "4a49e506",
   "metadata": {},
   "source": [
    "965"
   ]
  },
  {
   "cell_type": "code",
   "execution_count": 192,
   "id": "ddd90b25",
   "metadata": {},
   "outputs": [],
   "source": [
    "class Solution:\n",
    "    def isUnivalTree(self, root: Optional[TreeNode]) -> bool:\n",
    "        if not root:\n",
    "            return True\n",
    "\n",
    "        if root.left:\n",
    "            if root.val != root.left.val:\n",
    "                return False\n",
    "\n",
    "        if root.right:\n",
    "            if root.val != root.right.val:\n",
    "                return False\n",
    "\n",
    "        return self.isUnivalTree(root.left) and self.isUnivalTree(root.right)"
   ]
  },
  {
   "cell_type": "markdown",
   "id": "1473d83a",
   "metadata": {},
   "source": [
    "976"
   ]
  },
  {
   "cell_type": "code",
   "execution_count": 193,
   "id": "8c95e534",
   "metadata": {},
   "outputs": [],
   "source": [
    "class Solution(object):\n",
    "    def largestPerimeter(self, A):\n",
    "        A.sort(reverse=True)\n",
    "\n",
    "        for i in range(len(A)-2):\n",
    "            a = A[i]\n",
    "            b= A[i+1]\n",
    "            c = A[i+2]\n",
    "            if a< b+ c:\n",
    "                return a+b+c\n",
    "            \n",
    "        return 0"
   ]
  },
  {
   "cell_type": "markdown",
   "id": "4f369735",
   "metadata": {},
   "source": [
    "977"
   ]
  },
  {
   "cell_type": "code",
   "execution_count": 194,
   "id": "55b20bbd",
   "metadata": {},
   "outputs": [],
   "source": [
    "class Solution:\n",
    "    def sortedSquares(self, nums: List[int]) -> List[int]:\n",
    "        res = [0] * len(nums)\n",
    "        left = 0\n",
    "        right = len(nums) - 1\n",
    "\n",
    "        for i in range(len(nums) - 1, -1, -1):\n",
    "            if abs(nums[left]) > abs(nums[right]):\n",
    "                res[i] = nums[left] ** 2\n",
    "                left += 1\n",
    "            else:\n",
    "                res[i] = nums[right] ** 2\n",
    "                right -= 1\n",
    "        \n",
    "        return res"
   ]
  },
  {
   "cell_type": "markdown",
   "id": "50fa5389",
   "metadata": {},
   "source": [
    "989"
   ]
  },
  {
   "cell_type": "code",
   "execution_count": 195,
   "id": "bd0b6f88",
   "metadata": {},
   "outputs": [],
   "source": [
    "class Solution:\n",
    "    def addToArrayForm(self, num: list[int], k: int) -> list[int]:\n",
    "        def rdigits(n: int) -> Iterable[int]:\n",
    "            while n: n, r = divmod(n, 10); yield r\n",
    "        \n",
    "        def sum_iter(xs: Iterable[int], ys: Iterable[int]) -> Iterable[int]:\n",
    "            c = 0\n",
    "            for x, y in zip_longest(xs, ys, fillvalue=0):\n",
    "                c, s = divmod(x + y + c, 10)\n",
    "                yield s\n",
    "            if c: yield c\n",
    "        \n",
    "        sum_ = deque()\n",
    "        sum_.extendleft(sum_iter(reversed(num), rdigits(k)))\n",
    "        return sum_\n"
   ]
  },
  {
   "cell_type": "markdown",
   "id": "bbac8a57",
   "metadata": {},
   "source": [
    "993"
   ]
  },
  {
   "cell_type": "code",
   "execution_count": 196,
   "id": "414aecbe",
   "metadata": {},
   "outputs": [],
   "source": [
    "class Solution:\n",
    "    def isCousins(self, root: Optional[TreeNode], x: int, y: int) -> bool:\n",
    "        levelFound = -1\n",
    "        ans = False\n",
    "        foundRoot = -1\n",
    "        def helper(curr = root, level = 0, par = 0):\n",
    "            nonlocal levelFound, ans, foundRoot\n",
    "            if curr:\n",
    "                if curr.val == x or curr.val == y:\n",
    "                    if levelFound + 1 and foundRoot + 1:\n",
    "                        ans = levelFound == level and foundRoot != par\n",
    "                        return\n",
    "                    else:\n",
    "                        levelFound = level\n",
    "                        foundRoot = par\n",
    "                helper(curr.left, level + 1, curr.val)\n",
    "                helper(curr.right, level + 1, curr.val)\n",
    "            return\n",
    "        helper()\n",
    "        return ans"
   ]
  },
  {
   "cell_type": "markdown",
   "id": "95dd6f18",
   "metadata": {},
   "source": [
    "997"
   ]
  },
  {
   "cell_type": "code",
   "execution_count": 197,
   "id": "3fdcbc86",
   "metadata": {},
   "outputs": [],
   "source": [
    "class Solution:\n",
    "    def findJudge(self, n: int, t: List[List[int]]) -> int:\n",
    "        return (n==1)*1 or [x:={a for a,_ in t}] and next((a for a,f in Counter(b for _,b in t).items() if f==n-1 and a not in x),-1)"
   ]
  },
  {
   "cell_type": "markdown",
   "id": "07dc8bfa",
   "metadata": {},
   "source": [
    "999"
   ]
  },
  {
   "cell_type": "code",
   "execution_count": 198,
   "id": "fe40f787",
   "metadata": {},
   "outputs": [],
   "source": [
    "class Solution:\n",
    "    def numRookCaptures(self, board: List[List[str]]) -> int:\n",
    "        c = 0\n",
    "        for y in range(8) :\n",
    "            for x in range(8) :\n",
    "                if board[y][x] == \"R\" :\n",
    "                    pos = (x, y)\n",
    "        x, y = pos[0], pos[1]\n",
    "        left, top, right, bottom = x, y, x, y\n",
    "        while left > 0 :\n",
    "            left -= 1\n",
    "            if board[y][left] in [\"B\", \"p\"] :\n",
    "                if board[y][left] == \"p\" :\n",
    "                    c += 1\n",
    "                break\n",
    "        while top > 0 :\n",
    "            top -= 1\n",
    "            if board[top][x] in [\"B\", \"p\"] :\n",
    "                if board[top][x]== \"p\" :\n",
    "                    c += 1\n",
    "                break\n",
    "        while right < 7 :\n",
    "            right += 1\n",
    "            if board[y][right] in [\"B\", \"p\"] :\n",
    "                if board[y][right] == \"p\" :\n",
    "                    c += 1\n",
    "                break\n",
    "        while bottom < 7 :\n",
    "            bottom += 1\n",
    "            if board[bottom][x] in [\"B\", \"p\"] :\n",
    "                if board[bottom][x] == \"p\" :\n",
    "                    c += 1\n",
    "                break\n",
    "        return c"
   ]
  },
  {
   "cell_type": "markdown",
   "id": "cd9a1555",
   "metadata": {},
   "source": [
    "1002"
   ]
  },
  {
   "cell_type": "code",
   "execution_count": 199,
   "id": "dc67bd4e",
   "metadata": {},
   "outputs": [],
   "source": [
    "class Solution:\n",
    "    def commonChars(self, words: List[str]) -> List[str]:\n",
    "        return reduce(lambda a, b: a & b, map(Counter, words)).elements()"
   ]
  },
  {
   "cell_type": "markdown",
   "id": "8f83f488",
   "metadata": {},
   "source": [
    "1005"
   ]
  },
  {
   "cell_type": "code",
   "execution_count": 200,
   "id": "7adf4419",
   "metadata": {},
   "outputs": [],
   "source": [
    "class Solution:\n",
    "    def largestSumAfterKNegations(self, nums: List[int], k: int) -> int:\n",
    "        heap = []\n",
    "        for n in nums:\n",
    "            heapq.heappush(heap, n)\n",
    "        while k > 0:\n",
    "            minimum = heapq.heappop(heap)\n",
    "            heapq.heappush(heap,-minimum)\n",
    "            k -= 1\n",
    "        return sum(heap)"
   ]
  },
  {
   "cell_type": "markdown",
   "id": "eef801fa",
   "metadata": {},
   "source": [
    "1009"
   ]
  },
  {
   "cell_type": "code",
   "execution_count": 201,
   "id": "9debf228",
   "metadata": {},
   "outputs": [],
   "source": [
    "class Solution:\n",
    "    def bitwiseComplement(self, n: int) -> int:\n",
    "        s=bin(n)[2:]\n",
    "        arr=''\n",
    "        for i in s:\n",
    "            if i=='0':\n",
    "                arr+='1'\n",
    "            else:\n",
    "                arr+='0' \n",
    "        res=0\n",
    "        for i in range(len(arr)-1,-1,-1):\n",
    "            res=res+(int(arr[i])* 2**(len(arr)-i-1))\n",
    "        return res"
   ]
  },
  {
   "cell_type": "markdown",
   "id": "a5229745",
   "metadata": {},
   "source": [
    "1013"
   ]
  },
  {
   "cell_type": "code",
   "execution_count": 202,
   "id": "9e223a53",
   "metadata": {},
   "outputs": [],
   "source": [
    "class Solution:\n",
    "    def canThreePartsEqualSum(self, arr: List[int]) -> bool:\n",
    "        cs = list(accumulate(arr))\n",
    "        try:\n",
    "            i1 = cs.index(cs[-1] // 3)\n",
    "            i2 = cs.index(2 * cs[-1] // 3, i1 + 1, len(arr) - 1)\n",
    "            return cs[-1] % 3 == 0\n",
    "        except ValueError:\n",
    "            return False"
   ]
  },
  {
   "cell_type": "markdown",
   "id": "f1c95c11",
   "metadata": {},
   "source": [
    "1018"
   ]
  },
  {
   "cell_type": "code",
   "execution_count": 203,
   "id": "1974b479",
   "metadata": {},
   "outputs": [],
   "source": [
    "class Solution:\n",
    "    def prefixesDivBy5(self, nums: List[int]) -> List[bool]:\n",
    "        res = []\n",
    "        num = 0\n",
    "        \n",
    "        for n in nums:\n",
    "            num = (num * 2 + n) % 5\n",
    "            res.append(num == 0)\n",
    "            \n",
    "        return res"
   ]
  },
  {
   "cell_type": "markdown",
   "id": "72f34c60",
   "metadata": {},
   "source": [
    "1022"
   ]
  },
  {
   "cell_type": "code",
   "execution_count": 204,
   "id": "d0235c21",
   "metadata": {},
   "outputs": [],
   "source": [
    "class Solution:\n",
    "    def sumRootToLeaf(self, root: Optional[TreeNode]) -> int:\n",
    "        def dfs(node, path):\n",
    "            if not node: return 0\n",
    "\n",
    "            path = (path << 1) + node.val\n",
    "\t\t\t\n",
    "            if not node.left and not node.right:\n",
    "                return path\n",
    "            \n",
    "            return dfs(node.left, path) + dfs(node.right, path)\n",
    "            \n",
    "        return dfs(root, 0)"
   ]
  },
  {
   "cell_type": "markdown",
   "id": "b3ab68be",
   "metadata": {},
   "source": [
    "1025"
   ]
  },
  {
   "cell_type": "code",
   "execution_count": 205,
   "id": "77c9fb1a",
   "metadata": {},
   "outputs": [],
   "source": [
    "class Solution:\n",
    "    def divisorGame(self, n: int) -> bool:\n",
    "        if n%2==0:\n",
    "            return True\n",
    "        else:\n",
    "            return False"
   ]
  },
  {
   "cell_type": "markdown",
   "id": "3a480a34",
   "metadata": {},
   "source": [
    "1035"
   ]
  },
  {
   "cell_type": "code",
   "execution_count": 206,
   "id": "a3213d40",
   "metadata": {},
   "outputs": [],
   "source": [
    "class Solution:\n",
    "    def allCellsDistOrder(self, R: int, C: int, r0: int,c0: int) -> List[List[int]]:\n",
    "        return sorted([(i, j) for i in range(R) for j in range(C)], key=lambda p: abs(p[0] - r0) + abs(p[1] - c0))"
   ]
  },
  {
   "cell_type": "markdown",
   "id": "32456b15",
   "metadata": {},
   "source": [
    "1037"
   ]
  },
  {
   "cell_type": "code",
   "execution_count": 207,
   "id": "f362eb17",
   "metadata": {},
   "outputs": [],
   "source": [
    "class Solution:\n",
    "    def isBoomerang(self, points: List[List[int]]) -> bool:\n",
    "        return (points[1][0] - points[0][0]) * (points[2][1] - points[1][1]) != (points[1][1] - points[0][1]) * (points[2][0] - points[1][0])"
   ]
  },
  {
   "cell_type": "markdown",
   "id": "ff0deefb",
   "metadata": {},
   "source": [
    "1046"
   ]
  },
  {
   "cell_type": "code",
   "execution_count": 208,
   "id": "ff09b8af",
   "metadata": {},
   "outputs": [],
   "source": [
    "import heapq\n",
    "class Solution:\n",
    "    def lastStoneWeight(self, stones: List[int]) -> int:\n",
    "        res = [-1*i for i in stones]\n",
    "        heapq.heapify(res)\n",
    "        while len(res)>1:\n",
    "            a = heapq.heappop(res)\n",
    "            b = heapq.heappop(res)\n",
    "            heapq.heappush(res,-1*abs(a-b))\n",
    "        return -1*res[0]\n"
   ]
  },
  {
   "cell_type": "markdown",
   "id": "d1744fe0",
   "metadata": {},
   "source": [
    "1047"
   ]
  },
  {
   "cell_type": "code",
   "execution_count": 209,
   "id": "24db4ff3",
   "metadata": {},
   "outputs": [],
   "source": [
    "class Solution:\n",
    "    def removeDuplicates(self, s: str) -> str:\n",
    "        lis=[s[0]]\n",
    "        for i in range(1,len(s)):\n",
    "            if len(lis)==0 or lis[len(lis)-1]!=s[i]:\n",
    "                lis.append(s[i])\n",
    "            else:\n",
    "                lis=lis[:len(lis)-1]        \n",
    "        s=\"\".join(lis)\n",
    "        return s    "
   ]
  },
  {
   "cell_type": "markdown",
   "id": "a052857e",
   "metadata": {},
   "source": [
    "1071"
   ]
  },
  {
   "cell_type": "code",
   "execution_count": 210,
   "id": "a39e67d3",
   "metadata": {},
   "outputs": [],
   "source": [
    "class Solution:\n",
    "    def gcdOfStrings(self, str1: str, str2: str) -> str:\n",
    "        # Check if concatenated strings are equal or not, if not return \"\"\n",
    "        if str1 + str2 != str2 + str1:\n",
    "            return \"\"\n",
    "        # If strings are equal than return the substring from 0 to gcd of size(str1), size(str2)\n",
    "        from math import gcd\n",
    "        return str1[:gcd(len(str1), len(str2))]"
   ]
  },
  {
   "cell_type": "markdown",
   "id": "10bb77ce",
   "metadata": {},
   "source": [
    "1078"
   ]
  },
  {
   "cell_type": "code",
   "execution_count": 211,
   "id": "04eefea4",
   "metadata": {},
   "outputs": [],
   "source": [
    "\n",
    "class Solution:\n",
    "    def findOcurrences(self, text: str, first: str, second: str) -> List[str]:\n",
    "        words = text.split()  # Split the text into words.\n",
    "        ans = []  # List to hold the answers.\n",
    "\n",
    "        # Iterate through words, stopping before the last two to avoid index errors.\n",
    "        for i in range(len(words) - 2):\n",
    "            # If the current word and the next word match `first` and `second`, add the third word.\n",
    "            if words[i] == first and words[i + 1] == second:\n",
    "                ans.append(words[i + 2])\n",
    "\n",
    "        return ans"
   ]
  },
  {
   "cell_type": "markdown",
   "id": "b6eb107c",
   "metadata": {},
   "source": [
    "1089"
   ]
  },
  {
   "cell_type": "code",
   "execution_count": 212,
   "id": "a578967e",
   "metadata": {},
   "outputs": [],
   "source": [
    "class Solution:\n",
    "    def duplicateZeros(self, arr: List[int]) -> None:\n",
    "        zeroes = arr.count(0)\n",
    "        n = len(arr)\n",
    "        for i in range(n-1, -1, -1):\n",
    "            if i + zeroes < n:\n",
    "                arr[i + zeroes] = arr[i]\n",
    "            if arr[i] == 0: \n",
    "                zeroes -= 1\n",
    "                if i + zeroes < n:\n",
    "                    arr[i + zeroes] = 0"
   ]
  },
  {
   "cell_type": "markdown",
   "id": "aa6160b2",
   "metadata": {},
   "source": [
    "1103"
   ]
  },
  {
   "cell_type": "code",
   "execution_count": 213,
   "id": "a1e16985",
   "metadata": {},
   "outputs": [],
   "source": [
    "class Solution:\n",
    "    def distributeCandies(self, candies: int, num_people: int) -> List[int]:\n",
    "        ans = [0] * num_people\n",
    "        k = 0\n",
    "        while candies > 0:\n",
    "            if candies >= (k+1):\n",
    "                candies -= (k+1)\n",
    "                ans[k % num_people] += k + 1\n",
    "            else:\n",
    "                ans[k % num_people] += candies\n",
    "                candies = 0\n",
    "            k += 1\n",
    "        return ans\n",
    "\n",
    "            \n",
    "        \n",
    "        "
   ]
  },
  {
   "cell_type": "markdown",
   "id": "70f553c3",
   "metadata": {},
   "source": [
    "1137"
   ]
  },
  {
   "cell_type": "code",
   "execution_count": 214,
   "id": "5899eb5d",
   "metadata": {},
   "outputs": [],
   "source": [
    "class Solution:\n",
    "    def tribonacci(self, n: int) -> int:\n",
    "\n",
    "        t0,t1,t2 = 0,1,1\n",
    "        for i in range(n):\n",
    "            t0,t1,t2 = t1,t2,(t0+t1+t2)\n",
    "\n",
    "        return t0"
   ]
  },
  {
   "cell_type": "markdown",
   "id": "c51e0868",
   "metadata": {},
   "source": [
    "1157"
   ]
  },
  {
   "cell_type": "code",
   "execution_count": 215,
   "id": "5ff93ab5",
   "metadata": {},
   "outputs": [],
   "source": [
    "class Solution:\n",
    "    def dayOfYear(self, date: str) -> int:\n",
    "        y,m,d = map(int, date.split('-'))\n",
    "        if (y%400==0 or (y%100!=0 and y%4==0)) and m>2: d+=1\n",
    "        months = [31, 28, 31, 30, 31, 30, 31, 31, 30, 31, 30, 31]\n",
    "        for i in range(1, m):\n",
    "            d+=months[i-1]\n",
    "        return d\n",
    "        "
   ]
  },
  {
   "cell_type": "markdown",
   "id": "52da1762",
   "metadata": {},
   "source": [
    "1160"
   ]
  },
  {
   "cell_type": "code",
   "execution_count": 216,
   "id": "3f3b61b8",
   "metadata": {},
   "outputs": [],
   "source": [
    "class Solution:\n",
    "    def myFunc(self, s: str):\n",
    "        dc = {}\n",
    "        for i in s:\n",
    "            if i in dc:\n",
    "                dc[i] += 1\n",
    "            else:\n",
    "                dc[i] = 1\n",
    "\n",
    "        return dc\n",
    "    \n",
    "    def countCharacters(self, words: List[str], chars: str) -> int:\n",
    "        result = 0\n",
    "        for i in words:\n",
    "            check = 0\n",
    "            cur = self.myFunc(i)\n",
    "            for j in cur:\n",
    "                if cur[j] <= chars.count(j):\n",
    "                    check = 1\n",
    "                else:\n",
    "                    check = 0\n",
    "                    break\n",
    "            if check == 1:\n",
    "                result += len(i)\n",
    "        return result"
   ]
  },
  {
   "cell_type": "code",
   "execution_count": 219,
   "id": "cd5787fc",
   "metadata": {},
   "outputs": [],
   "source": [
    "2888\n",
    "def concatenateTables(a: pd.DataFrame, b: pd.DataFrame) -> pd.DataFrame:\n",
    "    return pd.concat([a, b])"
   ]
  },
  {
   "cell_type": "code",
   "execution_count": 220,
   "id": "cb645fd7",
   "metadata": {},
   "outputs": [],
   "source": [
    "2769\n",
    "class Solution:\n",
    "    def theMaximumAchievableX(self, num: int, t: int) -> int:\n",
    "        return num + t * 2"
   ]
  },
  {
   "cell_type": "code",
   "execution_count": 221,
   "id": "e05e83ab",
   "metadata": {},
   "outputs": [],
   "source": [
    "2884\n",
    "import pandas as pd\n",
    "\n",
    "def modifySalaryColumn(df: pd.DataFrame) -> pd.DataFrame:\n",
    "  df['salary'] *= 2\n",
    "  return df"
   ]
  },
  {
   "cell_type": "code",
   "execution_count": 222,
   "id": "d6aaf9a5",
   "metadata": {},
   "outputs": [],
   "source": [
    "2879\n",
    "import pandas as pd\n",
    "\n",
    "def selectFirstRows(employees: pd.DataFrame) -> pd.DataFrame:\n",
    "    return employees.head(3)"
   ]
  },
  {
   "cell_type": "code",
   "execution_count": 223,
   "id": "993e891e",
   "metadata": {},
   "outputs": [],
   "source": [
    "2894\n",
    "class Solution:\n",
    "    def differenceOfSums(self, n: int, m: int) -> int:\n",
    "        s = n * (n + 1) // 2\n",
    "        t = n // m\n",
    "        m_s = m * t * (t + 1) // 2\n",
    "        return s - 2 * m_s"
   ]
  },
  {
   "cell_type": "code",
   "execution_count": 224,
   "id": "a7f5057e-28dd-4b84-9fcb-7fc2b861a53c",
   "metadata": {},
   "outputs": [],
   "source": [
    "3289\n",
    "class Solution:\n",
    "    def getSneakyNumbers(self, nums: List[int]) -> List[int]:\n",
    "\n",
    "        ctr = Counter(nums)\n",
    "        return nlargest(2, ctr, key = lambda x: ctr[x])"
   ]
  },
  {
   "cell_type": "code",
   "execution_count": 225,
   "id": "9e822eff-89a2-4ef5-a385-b61c71e6d3b7",
   "metadata": {},
   "outputs": [],
   "source": [
    "3190\n",
    "class Solution:\n",
    "    def minimumOperations(self, nums: List[int]) -> int:\n",
    "        \n",
    "        nums = [num %3 for num in nums]\n",
    "        ctr =  Counter(nums)\n",
    "        \n",
    "        return ctr[1] + ctr[2]"
   ]
  },
  {
   "cell_type": "code",
   "execution_count": 226,
   "id": "5d9d3ead-7243-4b64-b7e0-3ffc0873fa7e",
   "metadata": {},
   "outputs": [],
   "source": [
    "3280\n",
    "class Solution:\n",
    "    def convertDateToBinary(self, date: str) -> str:\n",
    "\n",
    "        arr = date.split('-')                       # <-- 1)\n",
    "        arr = map(lambda x: bin(int(x))[2:], arr)   # <-- 2)\n",
    "        \n",
    "        return \"-\".join(arr)                      # <-- 3)"
   ]
  },
  {
   "cell_type": "code",
   "execution_count": 231,
   "id": "dce6547e-0358-4ea5-8682-e8ea304c98fd",
   "metadata": {},
   "outputs": [],
   "source": [
    "1431\n",
    "class Solution:\n",
    "    def kidsWithCandies(self, candies: List[int], extraCandies: int) -> List[bool]:\n",
    "        # Find the maximum number of candies any kid currently has\n",
    "        maxCandies = max(candies)\n",
    "        \n",
    "        # List to store results\n",
    "        greatestCandies = []\n",
    "        \n",
    "        # Check each kid's candies after adding extraCandies\n",
    "        for candy in candies:\n",
    "            greatestCandies.append(candy + extraCandies >= maxCandies)\n",
    "        \n",
    "        return greatestCandies"
   ]
  },
  {
   "cell_type": "code",
   "execution_count": 232,
   "id": "a058d665-96ea-49e7-8a1a-e9be8b758502",
   "metadata": {},
   "outputs": [],
   "source": [
    "2413\n",
    "class Solution:\n",
    "    def smallestEvenMultiple(self, n: int) -> int:\n",
    "        if n % 2 == 1:\n",
    "            return n * 2\n",
    "\n",
    "        return n"
   ]
  },
  {
   "cell_type": "code",
   "execution_count": 233,
   "id": "6a59736f-8bc4-4334-aab9-6ff48412c526",
   "metadata": {},
   "outputs": [],
   "source": [
    "1603\n",
    "class ParkingSystem:\n",
    "    def __init__(self, big: int, medium: int, small: int):\n",
    "        self.vehicle  =[big,medium,small]\n",
    "\n",
    "    def addCar(self, carType: int) -> bool:\n",
    "        if carType == 1 :\n",
    "            if self.vehicle[0] > 0:\n",
    "                self.vehicle[0]-=1\n",
    "                return True\n",
    "        elif carType == 2:\n",
    "            if self.vehicle[1] > 0:\n",
    "                self.vehicle[1]-=1\n",
    "                return True\n",
    "        elif carType == 3:\n",
    "            if self.vehicle[2] > 0:\n",
    "                self.vehicle[2]-=1\n",
    "                return True\n",
    "        return False"
   ]
  },
  {
   "cell_type": "code",
   "execution_count": 236,
   "id": "a1a892ab-efcf-4b3f-8ea9-5842f4e4fb1d",
   "metadata": {},
   "outputs": [],
   "source": [
    "2235\n",
    "def sum(self, num1: int, num2: int) -> int:\n",
    "        return num1 + num2"
   ]
  },
  {
   "cell_type": "code",
   "execution_count": 237,
   "id": "85c5b3c7-5d88-4925-9b5a-9fdef67a50b3",
   "metadata": {},
   "outputs": [],
   "source": [
    "3285\n",
    "class Solution:\n",
    "    def stableMountains(self, height: List[int], threshold: int) -> List[int]:\n",
    "\n",
    "        ans = []\n",
    "\n",
    "        for i, (prv, mtn) in enumerate(pairwise(height)):\n",
    "            if prv > threshold: ans.append(i+1)\n",
    "\n",
    "        return ans   "
   ]
  },
  {
   "cell_type": "code",
   "execution_count": 238,
   "id": "c7d2dc41-bdcb-416f-bfb3-36d8f8e38c9e",
   "metadata": {},
   "outputs": [],
   "source": [
    "1480\n",
    "class Solution(object):\n",
    "    def runningSum(self, nums):\n",
    "        for i in range(1,len(nums)):\n",
    "            nums[i]+=nums[i-1]\n",
    "        return nums"
   ]
  },
  {
   "cell_type": "code",
   "execution_count": 240,
   "id": "9af1e4cf-5afd-40af-bd64-76310a5176c6",
   "metadata": {},
   "outputs": [],
   "source": [
    "2886\n",
    "import pandas as pd\n",
    "\n",
    "def changeDatatype(students: pd.DataFrame) -> pd.DataFrame:\n",
    "    df = pd.DataFrame(students)\n",
    "    df['grade'] = df[['grade']].astype(int) # changing datatype to int.\n",
    "    return df"
   ]
  },
  {
   "cell_type": "code",
   "execution_count": 241,
   "id": "3503b4b5-bb95-4a84-b198-6386cfedf8e8",
   "metadata": {},
   "outputs": [],
   "source": [
    "2037\n",
    "class Solution:\n",
    "    def minMovesToSeat(self, seats: List[int], students: List[int]) -> int:\n",
    "        return sum(abs(x-y) for x, y in zip(sorted(seats), sorted(students)))\n",
    "        "
   ]
  },
  {
   "cell_type": "code",
   "execution_count": 242,
   "id": "c1800bd3-9350-4951-8ee6-825eb2332f45",
   "metadata": {},
   "outputs": [],
   "source": [
    "2220\n",
    "class Solution:\n",
    "    def minBitFlips(self, start: int, goal: int) -> int:\n",
    "        xor_value = start ^ goal\n",
    "        return bin(xor_value).count('1')\n",
    "        "
   ]
  },
  {
   "cell_type": "code",
   "execution_count": 243,
   "id": "43bc6e0f-bdd8-4ee6-8cb4-3f3956409a5f",
   "metadata": {},
   "outputs": [],
   "source": [
    "1720\n",
    "class Solution:\n",
    "    def decode(self, encoded: List[int], first: int) -> List[int]:\n",
    "        r = [first]\n",
    "        for i in encoded:\n",
    "            r.append(r[-1]^i)\n",
    "        return r"
   ]
  },
  {
   "cell_type": "code",
   "execution_count": 244,
   "id": "e20a18aa-db78-4355-b1d3-7c796dda3767",
   "metadata": {},
   "outputs": [],
   "source": [
    "1281\n",
    "class Solution:\n",
    "    def subtractProductAndSum(self, n: int) -> int:\n",
    "        arr = list(str(n))\n",
    "        \n",
    "        prod = 1\n",
    "        Sum = 0\n",
    "        \n",
    "        for i in arr:\n",
    "            prod *= int(i)\n",
    "            Sum += int(i)\n",
    "        \n",
    "        return prod - Sum"
   ]
  },
  {
   "cell_type": "code",
   "execution_count": 245,
   "id": "805f3214-aff8-4af2-a2cb-8dee703ee7a2",
   "metadata": {},
   "outputs": [],
   "source": [
    "1791\n",
    "class Solution:\n",
    "    def findCenter(self, edges: List[List[int]]) -> int:\n",
    "        edge1, edge2 = edges[:2]\n",
    "        return [element for element in edge1 if element in edge2][0]\n",
    "#if you upvote you will hear good news inn 10 mins (those who are waiting for a job will get job offer in a week)"
   ]
  },
  {
   "cell_type": "code",
   "execution_count": 246,
   "id": "3cb54ed5-2459-4ded-aa4e-a1287e18589e",
   "metadata": {},
   "outputs": [],
   "source": [
    "1379\n",
    "class Solution:    \n",
    "    def getTargetCopy(self, node1: TreeNode, node2: TreeNode, target: TreeNode) -> TreeNode:        \n",
    "        if not node1 or target == node1:  # if node1 is null, node2 will also be null\n",
    "            return node2\n",
    "        \n",
    "        return self.getTargetCopy(node1.left, node2.left, target) or self.getTargetCopy(node1.right, node2.right, target)        "
   ]
  },
  {
   "cell_type": "code",
   "execution_count": 247,
   "id": "26f32d96-e6a1-4588-92b0-96c640c6657b",
   "metadata": {},
   "outputs": [],
   "source": [
    "2859\n",
    "class Solution:\n",
    "    def sumIndicesWithKSetBits(self, nums: List[int], k: int) -> int:\n",
    "        return sum(x for i, x in enumerate(nums) if bin(i).count('1') == k)"
   ]
  },
  {
   "cell_type": "code",
   "execution_count": 248,
   "id": "ae73f12d-5c6c-4bf5-a92c-43d68bb6a1e8",
   "metadata": {},
   "outputs": [],
   "source": [
    "1389\n",
    "class Solution:\n",
    "    def createTargetArray(self, nums: List[int], index: List[int]) -> List[int]:\n",
    "        target = []\n",
    "        #Iterate through nums and index simultaneously using 'zip'.\n",
    "        for (num,idx) in zip(nums,index):\n",
    "            #Insert num at index idx in target in each iteration.\n",
    "            target.insert(idx,num)\n",
    "        return target"
   ]
  },
  {
   "cell_type": "code",
   "execution_count": 249,
   "id": "92ff441f-219a-4f64-8f1a-755d4df4417b",
   "metadata": {},
   "outputs": [],
   "source": [
    "2890\n",
    "import pandas as pd\n",
    "def meltTable(report: pd.DataFrame) -> pd.DataFrame:\n",
    "    return pd.melt(report, id_vars=['product'], var_name='quarter', value_name='sales')"
   ]
  },
  {
   "cell_type": "code",
   "execution_count": 250,
   "id": "c6762bb4-e873-4e72-9e2f-49a07d60813a",
   "metadata": {},
   "outputs": [],
   "source": [
    "1486\n",
    "class Solution:\n",
    "    def xorOperation(self, n: int, start: int) -> int:\n",
    "        ## RC ##\n",
    "        ## APPROACH : MATH ##\n",
    "        res = 0\n",
    "        for i in range(n):\n",
    "            res ^= start + 2 * i\n",
    "        return res"
   ]
  },
  {
   "cell_type": "code",
   "execution_count": 251,
   "id": "ce2a454e-d7b4-42c8-ba3c-292d5838f89e",
   "metadata": {},
   "outputs": [],
   "source": [
    "1688\n",
    "class Solution:\n",
    "    def numberOfMatches(self, n: int) -> int:\n",
    "        return n-1"
   ]
  },
  {
   "cell_type": "code",
   "execution_count": 252,
   "id": "cc6e225e-c525-4a2d-b64b-384c85a6027e",
   "metadata": {},
   "outputs": [],
   "source": [
    "3162\n",
    "class Solution:\n",
    "    def numberOfPairs(self, nums1: List[int], \n",
    "                            nums2: List[int], k: int, ans = 0) -> int:\n",
    "\n",
    "        nums1 = list(map(lambda x: x//k, filter(lambda x: x%k == 0, nums1)))\n",
    "        \n",
    "        for n1, n2 in product(nums1, nums2):\n",
    "            \n",
    "            if n1%n2 == 0: ans+= 1\n",
    "\n",
    "        return ans"
   ]
  },
  {
   "cell_type": "code",
   "execution_count": 253,
   "id": "4117fdc8-e047-40d4-b3cd-caa05858918e",
   "metadata": {},
   "outputs": [],
   "source": [
    "3065\n",
    "class Solution:\n",
    "    def minOperations(self, nums, k):\n",
    "        count = 0\n",
    "        for i in nums:\n",
    "            if i < k:\n",
    "                count += 1\n",
    "        return count"
   ]
  },
  {
   "cell_type": "code",
   "execution_count": 254,
   "id": "d5f04812-8ac6-49de-8701-d089a57d2ae3",
   "metadata": {},
   "outputs": [],
   "source": [
    "1313\n",
    "class Solution:\n",
    "    def decompressRLElist(self, nums: List[int]) -> List[int]:\n",
    "        i = 0\n",
    "        n = len(nums)\n",
    "        result = []\n",
    "        while i < n:\n",
    "            l = [nums[i+1]] * nums[i]\n",
    "            result += l\n",
    "            i += 2\n",
    "        return result"
   ]
  },
  {
   "cell_type": "code",
   "execution_count": 255,
   "id": "d7836a84-b68a-48b6-926d-1e39569721c1",
   "metadata": {},
   "outputs": [],
   "source": [
    "2652\n",
    "class Solution:\n",
    "    def sumOfMultiples(self, n: int) -> int:\n",
    "\n",
    "        a, b, c, d, e, f, g = n//3, n//5, n//7, n//15, n//21, n//35, n//105\n",
    "\n",
    "        return (\n",
    "                  3*a*(a+1)     #\n",
    "                + 5*b*(b+1)     # <-- three venn circles\n",
    "                + 7*c*(c+1)     # \n",
    "\n",
    "                - 15*d*(d+1)    #\n",
    "                - 21*e*(e+1)    # <-- three venn lunes\n",
    "                - 35*f*(f+1)    #\n",
    "            \n",
    "                + 105*g*(g+1)   # <-- one venn circular triangle \n",
    "               )//2"
   ]
  },
  {
   "cell_type": "code",
   "execution_count": 256,
   "id": "eca26181-2ea8-4a84-9fb4-151f79e2d529",
   "metadata": {},
   "outputs": [],
   "source": [
    "1342\n",
    "class Solution:\n",
    "    def numberOfSteps(self, num: int) -> int:\n",
    "        ct = 0\n",
    "        while num != 0:\n",
    "            num = num/2 if num%2 == 0 else num-1\n",
    "            ct += 1\n",
    "        return ct"
   ]
  },
  {
   "cell_type": "code",
   "execution_count": 257,
   "id": "7646e08e-dafc-4ffb-b08e-0b22085fb2d3",
   "metadata": {},
   "outputs": [],
   "source": [
    "2885\n",
    "def renameColumns(students: pd.DataFrame) -> pd.DataFrame:\n",
    "    return students.rename(columns={\n",
    "        'id': 'student_id',\n",
    "        'first': 'first_name',\n",
    "        'last': 'last_name',\n",
    "        'age': 'age_in_years',\n",
    "    })"
   ]
  },
  {
   "cell_type": "code",
   "execution_count": 258,
   "id": "88b9d1e7-eabf-4c70-b3fd-65579f0046c5",
   "metadata": {},
   "outputs": [],
   "source": [
    "2882\n",
    "import pandas as pd\n",
    "\n",
    "def dropDuplicateEmails(customers: pd.DataFrame) -> pd.DataFrame:\n",
    "    return customers.drop_duplicates(subset=['email'])\n",
    "\n",
    "    # OR\n",
    "\n",
    "    customers.drop_duplicates(subset='email', keep='first', inplace=True)\n",
    "    return customers"
   ]
  },
  {
   "cell_type": "code",
   "execution_count": 259,
   "id": "c7487707-e3a8-44f1-aa92-032950998db3",
   "metadata": {},
   "outputs": [],
   "source": [
    "2798\n",
    "class Solution:\n",
    "    def numberOfEmployeesWhoMetTarget(self, hours: List[int], target: int) -> int:\n",
    "        return sum(h >= target for h in hours)"
   ]
  },
  {
   "cell_type": "code",
   "execution_count": 260,
   "id": "3020d34b-c965-49f3-96dd-d1d1d8b2918b",
   "metadata": {},
   "outputs": [],
   "source": [
    "3264\n",
    "from heapq import heappush, heappop\n",
    "from typing import List\n",
    "\n",
    "class Solution:\n",
    "    def getFinalState(self, nums: List[int], k: int, multiplier: int) -> List[int]:\n",
    "        # Priority queue (min-heap) to store pairs of (value, index)\n",
    "        pq = []\n",
    "        for i, num in enumerate(nums):\n",
    "            heappush(pq, (num, i))\n",
    "\n",
    "        # Perform k operations\n",
    "        while k > 0:\n",
    "            value, idx = heappop(pq)  # Get the smallest element\n",
    "            value *= multiplier       # Multiply the value\n",
    "            heappush(pq, (value, idx))  # Push it back to the heap\n",
    "            k -= 1\n",
    "\n",
    "        # Update the original array with the final values from the heap\n",
    "        while pq:\n",
    "            value, idx = heappop(pq)\n",
    "            nums[idx] = value\n",
    "\n",
    "        return nums"
   ]
  },
  {
   "cell_type": "code",
   "execution_count": 261,
   "id": "76452e8b-3c9d-47f2-a356-4e6cd355f576",
   "metadata": {},
   "outputs": [],
   "source": [
    "2878\n",
    "import pandas as pd\n",
    "\n",
    "def getDataframeSize(players: pd.DataFrame) -> list[int]:\n",
    "    return list(players.shape)"
   ]
  },
  {
   "cell_type": "code",
   "execution_count": 262,
   "id": "7fc8adbb-edb3-499b-8941-a9936ce25dba",
   "metadata": {},
   "outputs": [],
   "source": [
    "2006\n",
    "class Solution:\n",
    "    def countKDifference(self, nums: List[int], k: int) -> int:\n",
    "        seen = defaultdict(int)\n",
    "        counter = 0\n",
    "        for num in nums:\n",
    "            tmp, tmp2 = num - k, num + k\n",
    "            if tmp in seen:\n",
    "                counter += seen[tmp]\n",
    "            if tmp2 in seen:\n",
    "                counter += seen[tmp2]\n",
    "            \n",
    "            seen[num] += 1\n",
    "        \n",
    "        return counter"
   ]
  },
  {
   "cell_type": "code",
   "execution_count": 263,
   "id": "fc2ea0ce-b108-4e9c-9c9d-1ac27149d284",
   "metadata": {},
   "outputs": [],
   "source": [
    "1656\n",
    "class OrderedStream:\n",
    "\n",
    "    def __init__(self, n: int):\n",
    "        self.data = [None]*n\n",
    "        self.ptr = 0 # 0-indexed \n",
    "\n",
    "    def insert(self, id: int, value: str) -> List[str]:\n",
    "        id -= 1 # 0-indexed \n",
    "        self.data[id] = value \n",
    "        if id > self.ptr: return [] # not reaching ptr \n",
    "        \n",
    "        while self.ptr < len(self.data) and self.data[self.ptr]: self.ptr += 1 # update self.ptr \n",
    "        return self.data[id:self.ptr]"
   ]
  },
  {
   "cell_type": "code",
   "execution_count": 265,
   "id": "894d3129-1b64-4483-893c-760e384a1e17",
   "metadata": {},
   "outputs": [],
   "source": [
    "2367\n",
    "class Solution:\n",
    "    def arithmeticTriplets(self, nums: List[int], diff: int) -> int:\n",
    "        res = 0\n",
    "        for i in range(len(nums)):\n",
    "            for j in range(i + 1, len(nums)):\n",
    "                for k in range(j + 1, len(nums)):\n",
    "                    if nums[j] - nums[i] == diff and nums[k] - nums[j] == diff:\n",
    "                        res += 1\n",
    "        return res"
   ]
  },
  {
   "cell_type": "code",
   "execution_count": 266,
   "id": "c1181fda-9886-4e80-8fb7-b4baa1ee4178",
   "metadata": {},
   "outputs": [],
   "source": [
    "2353\n",
    "class Solution:\n",
    "    def differenceOfSum(self, nums: List[int]) -> int:\n",
    "\n",
    "        digitSum = sum((map(int, ''.join(map(str,nums)))))\n",
    "\n",
    "        return sum(nums) - digitSum"
   ]
  },
  {
   "cell_type": "code",
   "execution_count": 267,
   "id": "fe09ac3f-bbe9-44b6-b18a-50575586ee15",
   "metadata": {},
   "outputs": [],
   "source": [
    "3194\n",
    "class Solution:\n",
    "    def minimumAverage(self, nums: List[int]) -> float:\n",
    "        nums.sort()\n",
    "        return min((nums[i] + nums[~i]) / 2 for i in range(len(nums)//2))"
   ]
  },
  {
   "cell_type": "code",
   "execution_count": 268,
   "id": "8ab38fd4-0505-49f3-8cae-556c38640937",
   "metadata": {},
   "outputs": [],
   "source": [
    "2236\n",
    "# Definition for a binary tree node.\n",
    "# class TreeNode(object):\n",
    "#     def __init__(self, val=0, left=None, right=None):\n",
    "#         self.val = val\n",
    "#         self.left = left\n",
    "#         self.right = right\n",
    "class Solution(object):\n",
    "    def checkTree(self, root):\n",
    "        \"\"\"\n",
    "        :type root: Optional[TreeNode]\n",
    "        :rtype: bool\n",
    "        \"\"\"\n",
    "        return root.val == (root.right.val+root.left.val)"
   ]
  },
  {
   "cell_type": "code",
   "execution_count": 269,
   "id": "2f1590b2-0dbd-4e1d-b522-1110a168fc0b",
   "metadata": {},
   "outputs": [],
   "source": [
    "2418\n",
    "class Solution:\n",
    "    def sortPeople(self, names: list[str], heights: list[int]) -> list[str]:\n",
    "        n: int = len(names)\n",
    "        mapping: dict[int, str] = {}  # height -> name (heights are distinct)\n",
    "        for ind in range(n):\n",
    "            mapping[heights[ind]] = names[ind]\n",
    "\n",
    "        heights.sort(reverse=True)\n",
    "        for ind in range(n):\n",
    "            h: int = heights[ind]\n",
    "            names[ind] = mapping[h]\n",
    "\n",
    "        return names"
   ]
  },
  {
   "cell_type": "code",
   "execution_count": 270,
   "id": "d8a410de-0b56-4a9d-a5ef-747a5de113d4",
   "metadata": {},
   "outputs": [],
   "source": [
    "2965\n",
    "class Solution:\n",
    "    def findIntersectionValues(self, n1: List[int], n2: List[int]) -> List[int]:\n",
    "        return [(Counter(n1) & Counter({n: 100 for n in n2})).total(), (Counter(n2) & Counter({n: 100 for n in n1})).total()]"
   ]
  },
  {
   "cell_type": "code",
   "execution_count": 272,
   "id": "c7b65f1f-d658-4d27-955f-247685899f0a",
   "metadata": {},
   "outputs": [],
   "source": [
    "2485\n",
    "class Solution:\n",
    "    def pivotInteger(self, n: int) -> int:\n",
    "        x = sqrt(n * (n + 1) / 2)\n",
    "\n",
    "        if x % 1 != 0:\n",
    "            return -1\n",
    "        else:\n",
    "            return int(x)"
   ]
  },
  {
   "cell_type": "code",
   "execution_count": 273,
   "id": "f37e5fc8-31e5-4545-95c0-b049a529855b",
   "metadata": {},
   "outputs": [],
   "source": [
    "3300\n",
    "class Solution:\n",
    "    def minElement(self, nums: List[int]) -> int:\n",
    "        mini=float('inf')\n",
    "        for num in nums:\n",
    "            r=0\n",
    "            while num>0:\n",
    "                r+= num%10\n",
    "                num//=10\n",
    "            mini= min(mini, r)\n",
    "        return mini"
   ]
  },
  {
   "cell_type": "code",
   "execution_count": 274,
   "id": "c6c8d51b-73ba-4be4-bc34-0134234de3ec",
   "metadata": {},
   "outputs": [],
   "source": [
    "1732\n",
    "class Solution:\n",
    "    def largestAltitude(self, gain: List[int]) -> int:\n",
    "        curr = 0\n",
    "        ans = [0]\n",
    "        for i in gain:\n",
    "            curr += i\n",
    "            ans.append(curr)\n",
    "        return max(ans)\n",
    "\n",
    "        "
   ]
  },
  {
   "cell_type": "code",
   "execution_count": 276,
   "id": "ff5df106-3e7c-475f-aab3-734c385ad4fb",
   "metadata": {},
   "outputs": [],
   "source": [
    "3242\n",
    "\n",
    "class NeighborSum:\n",
    "\n",
    "    def __init__(self, grid: List[List[int]]):\n",
    "        self.grid = grid\n",
    "        self.size = len(grid)\n",
    "        self.positions = [None] * self.size ** 2\n",
    "        \n",
    "        for i, j in product(range(self.size), range(self.size)):\n",
    "            self.positions[grid[i][j]] = i, j\n",
    "\n",
    "    def adjacentSum(self, value: int) -> int:\n",
    "        i, j = self.positions[value]\n",
    "        sm = 0\n",
    "        sm += self.grid[i-1][j] if i >= 1 else 0 # top\n",
    "        sm += self.grid[i+1][j] if i+1 < self.size else 0 # bottom\n",
    "        sm += self.grid[i][j-1] if j >= 1 else 0 # left\n",
    "        sm += self.grid[i][j+1] if j+1 < self.size else 0 # right\n",
    "\n",
    "        return sm\n",
    "\n",
    "    \n",
    "    def diagonalSum(self, value: int) -> int:\n",
    "        i, j = self.positions[value]\n",
    "        sm = 0\n",
    "        sm += self.grid[i-1][j-1] if i >= 1 and j >= 1 else 0 # top left\n",
    "        sm += self.grid[i+1][j+1] if i+1 < self.size and j+1 < self.size else 0 # bottom right\n",
    "        sm += self.grid[i-1][j+1] if i >= 1 and j+1 < self.size else 0 # top right\n",
    "        sm += self.grid[i+1][j-1] if i+1 < self.size and j >= 1 else 0 # bottome left\n",
    "\n",
    "        return sm\n"
   ]
  },
  {
   "cell_type": "code",
   "execution_count": 277,
   "id": "0556e470-177f-4b69-8241-00759d689c32",
   "metadata": {},
   "outputs": [],
   "source": [
    "1913\n",
    "class Solution:\n",
    "    def maxProductDifference(self, nums: List[int]) -> int:\n",
    "        first_big = second_big = 0\n",
    "        first_small = second_small = float(\"inf\")\n",
    "\n",
    "        for n in nums:\n",
    "            if n < first_small:\n",
    "                second_small, first_small = first_small, n                \n",
    "            elif n < second_small:                \n",
    "                second_small = n                \n",
    "\n",
    "            if n > first_big:\n",
    "                second_big, first_big = first_big, n\n",
    "            elif n > second_big:\n",
    "                second_big = n        \n",
    "\n",
    "        return first_big * second_big - first_small * second_small"
   ]
  },
  {
   "cell_type": "code",
   "execution_count": 278,
   "id": "06ba43a0-dee7-4f92-96c8-e0d09e6bd44a",
   "metadata": {},
   "outputs": [],
   "source": [
    "3099\n",
    "class Solution:\n",
    "    def sumOfTheDigitsOfHarshadNumber(self, x: int) -> int:\n",
    "\n",
    "        smDigits = sum(map(int,str(x)))\n",
    "\n",
    "        return smDigits if x % smDigits == 0 else -1"
   ]
  },
  {
   "cell_type": "code",
   "execution_count": 279,
   "id": "cebfa621-a67b-4d0e-8cb2-4d8971040168",
   "metadata": {},
   "outputs": [],
   "source": [
    "1475\n",
    "class Solution:\n",
    "    def finalPrices(self, prices: List[int]) -> List[int]:\n",
    "        for i in range(len(prices)):\n",
    "            for j in range(i + 1, len(prices)):\n",
    "                if prices[j] <= prices[i]:\n",
    "                    prices[i] -= prices[j]\n",
    "                    break\n",
    "        return prices"
   ]
  },
  {
   "cell_type": "code",
   "execution_count": null,
   "id": "2043b207-582f-4bd6-bf11-53054d44497b",
   "metadata": {},
   "outputs": [],
   "source": [
    "1464\n",
    "class Solution:\n",
    "    def maxProduct(self, nums: List[int]) -> int:\n",
    "        ans = 0\n",
    "        for i in range(len(nums)):\n",
    "            for j in range(i + 1, len(nums)):\n",
    "                ans = max(ans, (nums[i] - 1) * (nums[j] - 1))\n",
    "        \n",
    "        return ans"
   ]
  },
  {
   "cell_type": "code",
   "execution_count": 280,
   "id": "028b5bca-c0af-4c73-b849-0b02275e0674",
   "metadata": {},
   "outputs": [],
   "source": [
    "289\n",
    "import pandas as pd\n",
    "\n",
    "def pivotTable(weather: pd.DataFrame) -> pd.DataFrame:\n",
    "    return weather.pivot(index = 'month', columns = 'city', values =        'temperature')\n",
    "    "
   ]
  },
  {
   "cell_type": "code",
   "execution_count": 281,
   "id": "ee0c18b4-08b8-450d-b557-a19ddeeebb97",
   "metadata": {},
   "outputs": [],
   "source": [
    "3340\n",
    "class Solution:\n",
    "    def isBalanced(self, num: str) -> bool:\n",
    "        currSum = 0\n",
    "        for i in range(len(num)):\n",
    "            if i%2:\n",
    "                currSum += int(num[i])\n",
    "            else:\n",
    "                currSum -= int(num[i])\n",
    "\n",
    "        return currSum == 0"
   ]
  },
  {
   "cell_type": "code",
   "execution_count": 282,
   "id": "0b92b2cc-f0f1-4a46-9312-b40cffcc3718",
   "metadata": {},
   "outputs": [],
   "source": [
    "1588\n",
    "class Solution(object):\n",
    "    def sumOddLengthSubarrays(self, arr):\n",
    "        \"\"\"\n",
    "        :type arr: List[int]\n",
    "        :rtype: int\n",
    "        \"\"\"\n",
    "\t\t#We declare our output variable with the initial value as the sum of all elements as this is the 1st iteration of the sum of all individual elements.\n",
    "        result = sum(arr)\n",
    "\t\t#Saving length of the input array beforehand for ease of writing\n",
    "        length = len(arr)\n",
    "\t\t#As we already summed up the individual elements, now its time to start groups starting from 3,5,7 and so onnn\n",
    "        for j in range(3,length+1,2):\n",
    "\t\t#Now we need to create pairs for each element with the previous loop sizes\n",
    "            for i in range(length):\n",
    "\t\t\t#This condition is to make we dont search for indexes outside our list\n",
    "                if (i+j) > length:\n",
    "                    break\n",
    "\t\t\t\t\t#We continously add the sum of each sublist to our output variable\n",
    "                result += sum(arr[i:i+j])\n",
    "        return result"
   ]
  },
  {
   "cell_type": "code",
   "execution_count": 283,
   "id": "45c18ae5-0ada-45b1-b343-49677bc6bb7f",
   "metadata": {},
   "outputs": [],
   "source": [
    "1266\n",
    "class Solution:\n",
    "    def minTimeToVisitAllPoints(self, points: List[List[int]]) -> int:\n",
    "        point=0\n",
    "        for i in range(0,len(points)-1):\n",
    "            point+=max(abs(points[i][0]-points[i+1][0]),abs(points[i][1]-points[i+1][1]))\n",
    "        return point\n",
    "\n",
    "        "
   ]
  },
  {
   "cell_type": "code",
   "execution_count": null,
   "id": "ae56c666-a8bb-4812-bfa7-1114830434f0",
   "metadata": {},
   "outputs": [],
   "source": [
    "1323\n",
    "class Solution:\n",
    "    def maximum69Number(self, num: int) -> int:\n",
    "        num = list(str(num))\n",
    "        count = 0\n",
    "        ans = \"\"\n",
    "        for i in range(len(num)):\n",
    "            if num[i] == \"6\" and count == 0:\n",
    "                num[i] = \"9\"\n",
    "                count += 1\n",
    "            ans += num[i]\n",
    "        return int(ans)\n"
   ]
  },
  {
   "cell_type": "code",
   "execution_count": 284,
   "id": "94ebaaac-c9cb-43f5-8833-47b2848592af",
   "metadata": {},
   "outputs": [],
   "source": [
    "3248\n",
    "class Solution:\n",
    "    def finalPositionOfSnake(self, gridSize: int, commands: List[str]) -> int:\n",
    "        x, y = 0, 0\n",
    "        for command in commands:\n",
    "            if command == \"UP\":\n",
    "                x -= 1\n",
    "            elif command == \"DOWN\":\n",
    "                x += 1\n",
    "            elif command == \"RIGHT\":\n",
    "                y += 1\n",
    "            elif command == \"LEFT\":\n",
    "                y -= 1\n",
    "        \n",
    "        return (x * gridSize) + y"
   ]
  },
  {
   "cell_type": "code",
   "execution_count": 285,
   "id": "f6e60aa2-82f1-4113-9be5-ceee4959b369",
   "metadata": {},
   "outputs": [],
   "source": [
    "2331\n",
    "class Solution:\n",
    "    def evaluateTree(self, r: Optional[TreeNode]) -> bool:\n",
    "        return (f:=lambda n:not n or (xor,or_,or_,and_)[n.val](f(n.left),f(n.right)))(r)"
   ]
  },
  {
   "cell_type": "code",
   "execution_count": 286,
   "id": "95a6dfb7-f562-4d14-acb5-c52846a9fc9d",
   "metadata": {},
   "outputs": [],
   "source": [
    "3232\n",
    "class Solution:\n",
    "    def canAliceWin(self, nums):\n",
    "        count1 = 0\n",
    "        count2 = 0\n",
    "        for num in nums:\n",
    "            if num < 10:\n",
    "                count1 += num\n",
    "            else:\n",
    "                count2 += num\n",
    "        return count1 != count2"
   ]
  },
  {
   "cell_type": "code",
   "execution_count": 290,
   "id": "c053180d-8da0-4022-a1b8-096e33938205",
   "metadata": {},
   "outputs": [],
   "source": [
    "1768\n",
    "class Solution:\n",
    "    def mergeAlternately(self, word1: str, word2: str) -> str:\n",
    "        merged = []\n",
    "\n",
    "        for a, b in zip(word1, word2):\n",
    "            merged.append(a + b)\n",
    "        \n",
    "        merged.append(word1[len(word2):])\n",
    "        merged.append(word2[len(word1):])\n",
    "\n",
    "        return \"\".join(merged)"
   ]
  },
  {
   "cell_type": "code",
   "execution_count": 291,
   "id": "1ff4b78a-68af-4019-8de6-1d1df9389377",
   "metadata": {},
   "outputs": [],
   "source": [
    "2877\n",
    "import pandas as pd\n",
    "\n",
    "def createDataframe(student_data: List[List[int]]) -> pd.DataFrame:\n",
    "    column_names = ['student_id', 'age']\n",
    "    result = pd.DataFrame(student_data, columns=column_names)\n",
    "    return result"
   ]
  },
  {
   "cell_type": "code",
   "execution_count": 292,
   "id": "19b9176d-4efb-42d0-b076-de264307d0df",
   "metadata": {},
   "outputs": [],
   "source": [
    "2697\n",
    "class Solution:\n",
    "    def makeSmallestPalindrome(self, s: str) -> str:\n",
    "        pal=''.join([min(a,b) for a,b in zip(s[:len(s)//2],s[::-1])])\n",
    "        return pal + s[len(s)//2]*(len(s)%2) + pal[::-1]"
   ]
  },
  {
   "cell_type": "code",
   "execution_count": 293,
   "id": "1c0f2208-8c95-49bd-839a-7b06393e5821",
   "metadata": {},
   "outputs": [],
   "source": [
    "1534\n",
    "class Solution:\n",
    "    def countGoodTriplets(self, arr: List[int], a: int, b: int, c: int) -> int:\n",
    "        \n",
    "        size = len(arr)\n",
    "        \n",
    "        good_count = 0\n",
    "        \n",
    "        for i in range(size-2):\n",
    "            for j in range(i+1, size-1):\n",
    "                for k in range(j+1, size):\n",
    "                    \n",
    "                    ok_a = abs(arr[i] - arr[j]) <= a\n",
    "                    ok_b = abs(arr[j] - arr[k]) <= b\n",
    "                    ok_c = abs(arr[i] - arr[k]) <= c\n",
    "                    \n",
    "                    if all((ok_a, ok_b, ok_c)):\n",
    "                        good_count += 1\n",
    "                        \n",
    "                        \n",
    "        return good_count"
   ]
  },
  {
   "cell_type": "code",
   "execution_count": 294,
   "id": "05d36f65-525b-4b04-8338-12c5a304380c",
   "metadata": {},
   "outputs": [],
   "source": [
    "2656\n",
    "class Solution:\n",
    "    def maximizeSum(self, nums: List[int], k: int) -> int:\n",
    "        \n",
    "        n = max(nums)\n",
    "\n",
    "        return k*(2*n+k-1)//2"
   ]
  },
  {
   "cell_type": "code",
   "execution_count": 295,
   "id": "5cbac011-3cc9-4cdd-b134-1e045bf11147",
   "metadata": {},
   "outputs": [],
   "source": [
    "1844\n",
    "class Solution:\n",
    "    def replaceDigits(self, s: str) -> str:\n",
    "        def shift(c, x):\n",
    "            return chr(ord(c) + x)\n",
    "        result = []\n",
    "        t = list(s)\n",
    "        for i in range(len(t)):\n",
    "            if t[i].isdigit():\n",
    "                result.append(shift(t[i-1], int(t[i])))\n",
    "            else:\n",
    "                result.append(t[i])\n",
    "                \n",
    "        return \"\".join(result)"
   ]
  },
  {
   "cell_type": "code",
   "execution_count": 296,
   "id": "ac5f55e4-daf8-448a-be49-43754c63a4b0",
   "metadata": {},
   "outputs": [],
   "source": [
    "2913\n",
    "class Solution:\n",
    "    def sumCounts(self, nums: List[int]) -> int:\n",
    "        \n",
    "        res = 0\n",
    "        n = len(nums)\n",
    "        \n",
    "        for i in range(n):\n",
    "            distinct = set()\n",
    "            for j in range(i,n):\n",
    "                distinct.add(nums[j])\n",
    "                res += len(distinct) ** 2\n",
    "                \n",
    "        return res"
   ]
  },
  {
   "cell_type": "code",
   "execution_count": 297,
   "id": "54c22254-f48e-4f87-82ca-5c09d8b1889d",
   "metadata": {},
   "outputs": [],
   "source": [
    "3131\n",
    "class Solution:\n",
    "    def addedInteger(self, nums1: List[int], nums2: List[int]) -> int:\n",
    "        nums1.sort()\n",
    "        nums2.sort()\n",
    "        x = min(nums2) - min(nums1)\n",
    "        return x"
   ]
  },
  {
   "cell_type": "code",
   "execution_count": 298,
   "id": "68c3954e-c3d1-41e6-bba0-36cbfd188ece",
   "metadata": {},
   "outputs": [],
   "source": [
    "2053\n",
    "\n",
    "class Solution:\n",
    "    def kthDistinct(self, arr: List[str], k: int) -> str:\n",
    "        distinct_count = 0\n",
    "        for i in range(len(arr)):\n",
    "            if self.isDistinct(arr, i):\n",
    "                distinct_count += 1\n",
    "                if distinct_count == k:\n",
    "                    return arr[i]\n",
    "        return \"\"\n",
    "\n",
    "    def isDistinct(self, arr: List[str], index: int) -> bool:\n",
    "        return arr.count(arr[index]) == 1"
   ]
  },
  {
   "cell_type": "code",
   "execution_count": 299,
   "id": "d79ee941-ed08-471b-9d0a-41fc070f7601",
   "metadata": {},
   "outputs": [],
   "source": [
    "2119\n",
    "class Solution:\n",
    "    def isSameAfterReversals(self, num: int) -> bool:\n",
    "        return False if num % 10 ==0 and num != 0 else True"
   ]
  },
  {
   "cell_type": "code",
   "execution_count": 301,
   "id": "2d1b15f6-671a-4873-bda7-e4c3cbca112e",
   "metadata": {},
   "outputs": [],
   "source": [
    "2103\n",
    "class Solution:\n",
    "    def countPoints(self, rings: str) -> int:\n",
    "        c=0\n",
    "        l=[\"\"]*10\n",
    "        for i in range(1,len(rings),+2):\n",
    "            l[int(rings[i])]+=rings[i-1]\n",
    "        for j in l:\n",
    "            if 'R' in j and 'G' in j and 'B' in j:\n",
    "                c+=1\n",
    "        return c"
   ]
  },
  {
   "cell_type": "code",
   "execution_count": 302,
   "id": "3c631594-7f07-4e47-ac0f-150c230e63fb",
   "metadata": {},
   "outputs": [],
   "source": [
    "3158\n",
    "class Solution:\n",
    "    def duplicateNumbersXOR(self, nums: List[int]) -> int:\n",
    "        duplicates = [num for num, cnt in Counter(nums).items() if cnt == 2]\n",
    "        return reduce(lambda x, y: x ^ y, duplicates, 0)"
   ]
  },
  {
   "cell_type": "code",
   "execution_count": 303,
   "id": "bd1e4539-eb85-4801-a5cb-97a6b8938f4e",
   "metadata": {},
   "outputs": [],
   "source": [
    "1051\n",
    "class Solution:\n",
    "    def heightChecker(self, heights: List[int]) -> int:\n",
    "        return sum(h1 != h2 for h1, h2 in zip(heights, sorted(heights)))"
   ]
  },
  {
   "cell_type": "code",
   "execution_count": 304,
   "id": "08a60e0e-0369-44ca-9bf4-ce370a856f20",
   "metadata": {},
   "outputs": [],
   "source": [
    "2778\n",
    "class Solution:\n",
    "    def sumOfSquares(self, nums: List[int]) -> int:\n",
    "        #count of the sum of squares\n",
    "        count=0\n",
    "        #length of nums\n",
    "        n=len(nums) \n",
    "        for i in range(0,n) :\n",
    "            if  n%(i+1)==0:\n",
    "                count+=nums[i]**2\n",
    "        return count"
   ]
  },
  {
   "cell_type": "code",
   "execution_count": 305,
   "id": "8e9147fc-aed9-45c6-b3ff-e253c2bb458f",
   "metadata": {},
   "outputs": [],
   "source": [
    "2744\n",
    "class Solution:\n",
    "    def maximumNumberOfStringPairs(self, words: List[str]) -> int:\n",
    "        total = 0\n",
    "        c = set()\n",
    "        for i in range(len(words)):\n",
    "            for j in range(i + 1, len(words)):\n",
    "                word1 = words[i]\n",
    "                word2 = words[j]\n",
    "\n",
    "                if word1 == word2[::-1] and word1 not in c and word2 not in c:\n",
    "                    total += 1\n",
    "                    c.add(word1)\n",
    "                    c.add(word2)\n",
    "        return total"
   ]
  },
  {
   "cell_type": "code",
   "execution_count": 306,
   "id": "f222a43c-e066-4306-bdb4-1c03f63df63f",
   "metadata": {},
   "outputs": [],
   "source": [
    "1290\n",
    "# Definition for singly-linked list.\n",
    "# class ListNode:\n",
    "#     def __init__(self, val=0, next=None):\n",
    "#         self.val = val\n",
    "#         self.next = next\n",
    "\n",
    "class Solution:\n",
    "    def getDecimalValue(self, head: Optional[ListNode]) -> int:\n",
    "        num = \"\"\n",
    "        \n",
    "        while head:\n",
    "            num += str(head.val)\n",
    "            head = head.next\n",
    "        \n",
    "        return int(num, 2)"
   ]
  },
  {
   "cell_type": "code",
   "execution_count": 307,
   "id": "c1db3331-7b7a-4c9f-85a3-da3218c3a46e",
   "metadata": {},
   "outputs": [],
   "source": [
    "3168\n",
    "class Solution:\n",
    "    def minimumChairs(self, s: str) -> int:\n",
    "        currentOccupancy = 0\n",
    "        maxOccupancy = 0\n",
    "\n",
    "        for event in s:\n",
    "            if event == 'E':\n",
    "                currentOccupancy += 1\n",
    "            else:\n",
    "                currentOccupancy -= 1\n",
    "            if currentOccupancy > maxOccupancy:\n",
    "                maxOccupancy = currentOccupancy\n",
    "\n",
    "        return maxOccupancy"
   ]
  },
  {
   "cell_type": "code",
   "execution_count": 308,
   "id": "f706bf30-2a2a-45e2-9143-021c68da8f66",
   "metadata": {},
   "outputs": [],
   "source": [
    "1636\n",
    "class Solution:\n",
    "    def frequencySort(self, nums: List[int]) -> List[int]:\n",
    "        freq=[0]*201\n",
    "        for x in nums:\n",
    "            freq[x+100]-=1 \n",
    "        return sorted(nums, key=lambda x:(freq[x+100], x), reverse=True)\n",
    "        "
   ]
  },
  {
   "cell_type": "code",
   "execution_count": 311,
   "id": "64726b7c-87e0-49ce-b195-76f170c52ddc",
   "metadata": {},
   "outputs": [],
   "source": [
    "1309\n",
    "class Solution:\n",
    "    def freqAlphabets(self, s: str) -> str:\n",
    "        res=''\n",
    "        i=0\n",
    "        while i<len(s):\n",
    "            if i+2<len(s) and s[i+2]=='#':\n",
    "                val=chr(int(s[i:i+2])+ord('a')-1)\n",
    "                i+=3\n",
    "            else:\n",
    "                val=chr(int(s[i])+ord('a')-1)\n",
    "                i+=1\n",
    "            res+=val\n",
    "        return res"
   ]
  },
  {
   "cell_type": "code",
   "execution_count": 312,
   "id": "0232dd9b-444e-4526-917e-a9e235b3f7b3",
   "metadata": {},
   "outputs": [],
   "source": [
    "2215\n",
    "class Solution:\n",
    "    def findDifference(self, nums1, nums2):\n",
    "        s1, s2 = set(nums1), set(nums2)\n",
    "        ans = [[], []]\n",
    "\n",
    "        for i in s1:\n",
    "            if i not in s2:\n",
    "                ans[0].append(i)\n",
    "        \n",
    "        for i in s2:\n",
    "            if i not in s1:\n",
    "                ans[1].append(i)\n",
    "        \n",
    "        return ans"
   ]
  },
  {
   "cell_type": "code",
   "execution_count": 313,
   "id": "658ad500-5f1b-4d88-9019-78c80b3d03c3",
   "metadata": {},
   "outputs": [],
   "source": [
    "3019\n",
    "class Solution:\n",
    "    def countKeyChanges(self, s: str) -> int:\n",
    "        n = len(s)\n",
    "        c = 0\n",
    "        for i in range(1, n):\n",
    "            if (ord(s[i]) - ord('a') == ord(s[i - 1]) - ord('A')) or (ord(s[i]) - ord('A') == ord(s[i - 1]) - ord('a')) or s[i] == s[i - 1]:\n",
    "                c += 1\n",
    "        return n - 1 - c"
   ]
  },
  {
   "cell_type": "code",
   "execution_count": 314,
   "id": "2f192a80-758a-4f06-b8e7-6777568ecfca",
   "metadata": {},
   "outputs": [],
   "source": [
    "1827\n",
    "class Solution:\n",
    "    def minOperations(self, nums: List[int]) -> int:\n",
    "        c=0\n",
    "        for i in range(1,len(nums)):\n",
    "            if nums[i]<=nums[i-1]:\n",
    "                diff=nums[i-1]-nums[i]+1\n",
    "                nums[i]=nums[i-1]+1\n",
    "                c+=diff\n",
    "        return c"
   ]
  },
  {
   "cell_type": "code",
   "execution_count": 315,
   "id": "5834f804-df2a-4061-ba1e-bfe5a4e180f2",
   "metadata": {},
   "outputs": [],
   "source": [
    "590\n",
    "#Python3 Code\n",
    "\"\"\"\n",
    "# Definition for a Node.\n",
    "class Node:\n",
    "    def __init__(self, val=None, children=None):\n",
    "        self.val = val\n",
    "        self.children = children\n",
    "\"\"\"\n",
    "\n",
    "class Solution:\n",
    "    def postorder(self, root: 'Node') -> List[int]:\n",
    "        res = []\n",
    "        \n",
    "        def postOrder(root):\n",
    "            if not root:\n",
    "                return\n",
    "            for node in root.children:\n",
    "                postOrder(node)\n",
    "                res.append(node.val)\n",
    "        \n",
    "        if not root:\n",
    "            return []\n",
    "        postOrder(root)\n",
    "        res.append(root.val)\n",
    "        return res"
   ]
  },
  {
   "cell_type": "code",
   "execution_count": 316,
   "id": "8318c083-a8e9-4feb-aff8-c45979455022",
   "metadata": {},
   "outputs": [],
   "source": [
    "2880\n",
    "import pandas as pd\n",
    "\n",
    "def selectData(students: pd.DataFrame) -> pd.DataFrame:\n",
    "    return students.loc[students[\"student_id\"] == 101, [\"name\", \"age\"]]\n",
    "    #OR\n",
    "    return students.loc[students[\"student_id\"] == 101, \"name\" :]\n",
    "    #OR\n",
    "    return students[students['student_id'] == 101][['name', 'age']]"
   ]
  },
  {
   "cell_type": "code",
   "execution_count": 317,
   "id": "bd63a8fc-b749-4a7c-aa7b-9474e20833f4",
   "metadata": {},
   "outputs": [],
   "source": [
    "1652\n",
    "class Solution:\n",
    "    def decrypt(self, code: List[int], k: int) -> List[int]:\n",
    "        n=len(code)\n",
    "        ans=[0]*n\n",
    "        if k==0: return ans\n",
    "        if k>0:\n",
    "            ans[0]=wsum=sum(code[1:k+1])\n",
    "            for l in range(1, n):\n",
    "                r=(l+k)%n\n",
    "                wsum+=-code[l]+code[r]\n",
    "                ans[l]=wsum\n",
    "            return ans\n",
    "        # Python has minus index\n",
    "        ans[0]=wsum=sum(code[-1:k-1:-1])\n",
    "        for l in range(1, n):\n",
    "            r=(l-k)%n\n",
    "            wsum+=-code[-l]+code[-r]\n",
    "            ans[-l]=wsum\n",
    "        return ans\n",
    "        \n",
    "        "
   ]
  },
  {
   "cell_type": "code",
   "execution_count": 318,
   "id": "8130a7f7-7a00-4eb8-9bc9-b5bcaf64e07b",
   "metadata": {},
   "outputs": [],
   "source": [
    "2467\n",
    "class Solution:\n",
    "    def commonFactors(self, a: int, b: int) -> int:\n",
    "        return sum(not(a%i or b%i) for i in range(1,min(a,b)+1))\n",
    "        "
   ]
  },
  {
   "cell_type": "code",
   "execution_count": 319,
   "id": "8292e3b3-19c6-4eb9-ac49-b58d3d40e465",
   "metadata": {},
   "outputs": [],
   "source": [
    "2176\n",
    "class Solution:\n",
    "    def countPairs(self, nums: List[int], k: int) -> int:\n",
    "        n=len(nums)\n",
    "        c=0\n",
    "        for i in range(0,n):\n",
    "            for j in range(i+1,n):\n",
    "                if nums[i]==nums[j] and ((i*j)%k==0):\n",
    "                    c+=1\n",
    "        return c   "
   ]
  },
  {
   "cell_type": "code",
   "execution_count": 320,
   "id": "8be6f390-206c-49d2-9cd0-e3a72aa3f1cc",
   "metadata": {},
   "outputs": [],
   "source": [
    "1436\n",
    "class Solution:\n",
    "    def destCity(self, paths: List[List[str]]) -> str:\n",
    "        check = {}\n",
    "\n",
    "        for path in paths:\n",
    "            check[path[0]] = \"out\"\n",
    "            if path[1] not in check:\n",
    "                check[path[1]] = \"in\"\n",
    "\n",
    "        for item in check:\n",
    "            if check[item] == \"in\":\n",
    "                return item\n",
    "\n",
    "        return \"\""
   ]
  },
  {
   "cell_type": "code",
   "execution_count": null,
   "id": "2bdfc021-3ad3-46b6-bf78-ac164cdebfbd",
   "metadata": {},
   "outputs": [],
   "source": [
    "2960\n",
    "class Solution:\n",
    "    # Function to count the number of tested devices\n",
    "    def countTestedDevices(self, bp):\n",
    "        n = len(bp)  # Size of the battery percentage array\n",
    "        cnt = 0  # Counter for tested devices\n",
    "        \n",
    "        for i in range(n):\n",
    "            if bp[i] > 0:\n",
    "                cnt += 1  # Increment tested devices count\n",
    "                for j in range(i + 1, n):\n",
    "                    # Decrement battery percentage by 1, ensuring it doesn't go below 0\n",
    "                    bp[j] = max(0, bp[j] - 1)\n",
    "        \n",
    "        return cnt  # Return the count of tested devices\n",
    "\n",
    "\n"
   ]
  },
  {
   "cell_type": "code",
   "execution_count": 321,
   "id": "8a6928cf-1b86-4f31-b983-1e64669f3de6",
   "metadata": {},
   "outputs": [],
   "source": [
    "561\n",
    "class Solution:\n",
    "    def arrayPairSum(self, nums: List[int]) -> int:\n",
    "        return sum(sorted(nums)[::2])\n"
   ]
  },
  {
   "cell_type": "code",
   "execution_count": 322,
   "id": "9cdef48e-db2e-4216-b045-9ad24638d427",
   "metadata": {},
   "outputs": [],
   "source": [
    "2553\n",
    "class Solution:\n",
    "    def separateDigits(self, nums: List[int]) -> List[int]:\n",
    "\n",
    "                                            # Example: nums = [13,25,83,77]\n",
    "                                            # –––––––––––––––––––––––––––––––––––\n",
    "        strngLst = map(str,nums)            # 1)  strngLst = ['13', '25', '83', '77']    \n",
    "      \n",
    "        strng = ''.join(map(str,nums) )     # 2)     strng = \"13258377\"\n",
    "      \n",
    "        digitLst = list(strng)              # 3)  digitLst = ['1','3','2','5','8','3','7','7']\n",
    "      \n",
    "        intLst = list(map(int,digitLst))    # 4)    intLst = [1,3,2,5,8,3,7,7]\n",
    "\n",
    "        return list(intLst)                 #    return [1,3,2,5,8,3,7,7]"
   ]
  },
  {
   "cell_type": "code",
   "execution_count": 323,
   "id": "c0c0c150-da4f-427c-a872-6c6a313cda8b",
   "metadata": {},
   "outputs": [],
   "source": [
    "1380\n",
    "class Solution:\n",
    "    def luckyNumbers(self, matrix):\n",
    "        N = len(matrix)\n",
    "        M = len(matrix[0])\n",
    "\n",
    "        rowMin = []\n",
    "        for i in range(N):\n",
    "            rMin = float('inf')\n",
    "            for j in range(M):\n",
    "                rMin = min(rMin, matrix[i][j])\n",
    "            rowMin.append(rMin)\n",
    "\n",
    "        colMax = []\n",
    "        for i in range(M):\n",
    "            cMax = float('-inf')\n",
    "            for j in range(N):\n",
    "                cMax = max(cMax, matrix[j][i])\n",
    "            colMax.append(cMax)\n",
    "\n",
    "        luckyNumbers = []\n",
    "        for i in range(N):\n",
    "            for j in range(M):\n",
    "                if matrix[i][j] == rowMin[i] and matrix[i][j] == colMax[j]:\n",
    "                    luckyNumbers.append(matrix[i][j])\n",
    "\n",
    "        return luckyNumbers"
   ]
  },
  {
   "cell_type": "code",
   "execution_count": null,
   "id": "6c95ac02-b0bd-4947-b241-5fc63994d815",
   "metadata": {},
   "outputs": [],
   "source": [
    "1295\n",
    "func findNumbers(nums []int) int {\n",
    "    cnt := 0\n",
    "    for _, num := range nums {\n",
    "        size := 0\n",
    "        for num > 0 {\n",
    "            size++\n",
    "            num /= 10\n",
    "        }\n",
    "        if size & 1 == 0 {\n",
    "            cnt++\n",
    "        }\n",
    "    }\n",
    "    return cnt\n",
    "}"
   ]
  },
  {
   "cell_type": "code",
   "execution_count": 324,
   "id": "652539a3-fa04-4758-b3c7-6485eecb744c",
   "metadata": {},
   "outputs": [],
   "source": [
    "1295\n",
    "class Solution:\n",
    "    def findNumbers(self, nums: List[int]) -> int:\n",
    "\t    # We are going to take advantage of the fact that the array only contains positive integers.\n",
    "\t\t# A common formula for finding the number of digits in a positive number is digits = floor(log10(num)) + 1\n",
    "\t\t# Even if the array contained negatives, you could just do the same with the absolute value of num.\n",
    "\t\t# This turns the runtime into O(N) and there is no additional space needed so O(1) space.\n",
    "\t\t# You also don't need to convert this into a string which a lot of other solutions do and has other implications in terms of space complexity.\n",
    "\t\t# https://brilliant.org/wiki/finding-digits-of-a-number/\n",
    "        result = 0\n",
    "        \n",
    "        for num in nums:\n",
    "            num_digits = floor(log10(num)) + 1\n",
    "            if num_digits % 2 == 0:\n",
    "                result += 1\n",
    "                \n",
    "        return result"
   ]
  },
  {
   "cell_type": "code",
   "execution_count": 325,
   "id": "900c992e-1c85-4272-8fe4-6cc93de60f8d",
   "metadata": {},
   "outputs": [],
   "source": [
    "1837\n",
    "class Solution:\n",
    "    def sumBase(self, n: int, k: int) -> int:\n",
    "        output_sum = 0\n",
    "        while (n > 0) :\n",
    "            rem = n % k\n",
    "            output_sum = output_sum + rem \n",
    "            n = int(n / k)\n",
    "        return output_sum"
   ]
  },
  {
   "cell_type": "code",
   "execution_count": 326,
   "id": "56a3afb7-f937-45ef-a78b-34ea0efe5022",
   "metadata": {},
   "outputs": [],
   "source": [
    "1207\n",
    "class Solution:\n",
    "    def uniqueOccurrences(self, arr: List[int]) -> bool:\n",
    "        # cl here is used to store the count of each element in the list\n",
    "        cl=[]\n",
    "        for i in set(arr):#here we use set(arr) to remove the duplicates\n",
    "            cl.append(arr.count(i))#using the count methord we caluculate the count of each element and then append the count in cl list\n",
    "        for i in range(len(cl)):\n",
    "            for j in range(i+1,len(cl)):\n",
    "                #here we check whether the cl list consist any duplicate element if there are duplicate elements then we return false if not true\n",
    "                if(cl[i]==cl[j]):\n",
    "                    return False\n",
    "        return True\n",
    "\n",
    "\n",
    "        "
   ]
  },
  {
   "cell_type": "code",
   "execution_count": 329,
   "id": "0b65ba9a-bc76-483c-9a70-09bb87629ddd",
   "metadata": {},
   "outputs": [],
   "source": [
    "1812\n",
    "class Solution:\n",
    "    def squareIsWhite(self, coordinates: str) -> bool:\n",
    "        if (ord(coordinates[0])+int(coordinates[1]))%2 == 0:\n",
    "            return False\n",
    "        return True\n",
    "        "
   ]
  },
  {
   "cell_type": "code",
   "execution_count": null,
   "id": "62da5377-aed9-4f3c-9075-6c25b200be37",
   "metadata": {},
   "outputs": [],
   "source": [
    "338\n",
    "class Solution:\n",
    "    def countBits(self, n: int) -> List[int]:\n",
    "        ans = [0] * (n + 1)\n",
    "        for i in range(1, n + 1):\n",
    "            if i % 2 == 0:\n",
    "                ans[i] = ans[i // 2]\n",
    "            else:\n",
    "                ans[i] = ans[i - 1] + 1\n",
    "        return ans"
   ]
  },
  {
   "cell_type": "code",
   "execution_count": 330,
   "id": "bc000575-41f9-44aa-b754-a7abc3e92b62",
   "metadata": {},
   "outputs": [],
   "source": [
    "3258\n",
    "class Solution:\n",
    "    def countKConstraintSubstrings(self, s: str, k: int) -> int:\n",
    "        \n",
    "        res = 0\n",
    "        l = Counter(list(s))\n",
    "        if l['0'] <= k or l['1'] <= k:\n",
    "            res += 1\n",
    "\n",
    "        def slide(n, cnt):\n",
    "\n",
    "            st = 0\n",
    "            end = n\n",
    "            while end <= len(s):\n",
    "\n",
    "                print(s[st:end])\n",
    "                l = Counter(list(s[st:end]))\n",
    "                \n",
    "                if l['0'] <= k or l['1'] <= k:\n",
    "                    cnt += 1\n",
    "\n",
    "                st += 1\n",
    "                end += 1\n",
    "\n",
    "            return cnt\n",
    "        \n",
    "\n",
    "        for i in range(1, len(s)):\n",
    "            res += slide(i, 0)\n",
    "\n",
    "        return res\n",
    "\n",
    "\n",
    "        "
   ]
  },
  {
   "cell_type": "code",
   "execution_count": null,
   "id": "00d2240f-da5a-4e2b-ae56-90644aef3c2a",
   "metadata": {},
   "outputs": [],
   "source": [
    "1295\n",
    "class Solution:\n",
    "    def findNumbers(self, nums):\n",
    "        count = 0\n",
    "        for x in nums:\n",
    "            if self.isEven(x):\n",
    "                count += 1\n",
    "        return count\n",
    "\n",
    "    def isEven(self, num):\n",
    "        num_digits = self.nod(num)\n",
    "\n",
    "        return num_digits % 2 == 0\n",
    "\n",
    "    def nod(self, num):\n",
    "        if num < 0:\n",
    "            num *= -1\n",
    "\n",
    "        return int(math.log10(num)) + 1\n"
   ]
  },
  {
   "cell_type": "code",
   "execution_count": null,
   "id": "be39d879-5343-4908-b20b-775b6632bb23",
   "metadata": {},
   "outputs": [],
   "source": []
  },
  {
   "cell_type": "code",
   "execution_count": null,
   "id": "718b2519-42e1-4b65-a761-49ffa4e399af",
   "metadata": {},
   "outputs": [],
   "source": []
  }
 ],
 "metadata": {
  "kernelspec": {
   "display_name": "Python 3 (ipykernel)",
   "language": "python",
   "name": "python3"
  },
  "language_info": {
   "codemirror_mode": {
    "name": "ipython",
    "version": 3
   },
   "file_extension": ".py",
   "mimetype": "text/x-python",
   "name": "python",
   "nbconvert_exporter": "python",
   "pygments_lexer": "ipython3",
   "version": "3.11.5"
  }
 },
 "nbformat": 4,
 "nbformat_minor": 5
}
