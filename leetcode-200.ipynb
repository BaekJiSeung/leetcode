{
 "cells": [
  {
   "cell_type": "code",
   "execution_count": 7,
   "id": "4dc343f3",
   "metadata": {},
   "outputs": [],
   "source": [
    "from typing import Optional, List\n",
    "import numpy as np\n",
    "import matplotlib.pyplot as plt\n",
    "from collections import defaultdict"
   ]
  },
  {
   "cell_type": "markdown",
   "id": "f8dd830e",
   "metadata": {},
   "source": [
    "2047"
   ]
  },
  {
   "cell_type": "code",
   "execution_count": 2,
   "id": "2db351fc",
   "metadata": {},
   "outputs": [],
   "source": [
    "class Solution:\n",
    "    def countValidWords(self, sentence: str) -> int:\n",
    "        numValidWords = 0\n",
    "        for token in sentence.split():\n",
    "            if isValidWord(token):\n",
    "                numValidWords += 1\n",
    "        return numValidWords\n",
    "\n",
    "def isValidWord(token):\n",
    "    return satisfyFirst(token) and satisfySecond(token) and satisfyThird(token)\n",
    "\n",
    "def satisfyFirst(token):\n",
    "    for char in token:\n",
    "        if char.isdigit():\n",
    "            return False\n",
    "    return True\n",
    "\n",
    "\n",
    "def satisfySecond(token):\n",
    "    count = token.count('-')\n",
    "    if count == 0:\n",
    "        return True\n",
    "    if count ==1:\n",
    "        idx = token.find('-')\n",
    "        lowercase_letters = 'qwertyuiopasdfghjklzxcvbnm'\n",
    "        if idx == 0:\n",
    "            return False\n",
    "        if token[idx-1] not in lowercase_letters:\n",
    "            return False\n",
    "        if idx == len(token)-1:\n",
    "            return False\n",
    "        if token[idx+1] not in lowercase_letters:\n",
    "            return False\n",
    "        return True\n",
    "    return False\n",
    "\n",
    "\n",
    "def satisfyThird(token):\n",
    "    n = len(token) - 1\n",
    "    for idx, char in enumerate(token):\n",
    "        if char in '!,.' and idx != n:\n",
    "            return False\n",
    "    return True"
   ]
  },
  {
   "cell_type": "code",
   "execution_count": 3,
   "id": "98f5c104",
   "metadata": {},
   "outputs": [
    {
     "data": {
      "text/plain": [
       "3"
      ]
     },
     "execution_count": 3,
     "metadata": {},
     "output_type": "execute_result"
    }
   ],
   "source": [
    "sentence = \"cat and dog.\"\n",
    "\n",
    "s= Solution()\n",
    "s.countValidWords(sentence)"
   ]
  },
  {
   "cell_type": "markdown",
   "id": "6542352a",
   "metadata": {},
   "source": [
    "2520"
   ]
  },
  {
   "cell_type": "code",
   "execution_count": 4,
   "id": "e9f33765",
   "metadata": {},
   "outputs": [],
   "source": [
    "class Solution:\n",
    "    def countDigits(self, num: int) -> int:\n",
    "        out = 0\n",
    "        for i in str(num):\n",
    "            if num%int(i)==0:\n",
    "                out+=1\n",
    "        return out"
   ]
  },
  {
   "cell_type": "code",
   "execution_count": 5,
   "id": "6bc43180",
   "metadata": {},
   "outputs": [
    {
     "data": {
      "text/plain": [
       "4"
      ]
     },
     "execution_count": 5,
     "metadata": {},
     "output_type": "execute_result"
    }
   ],
   "source": [
    "num = 1248\n",
    "s= Solution()\n",
    "s.countDigits(num)"
   ]
  },
  {
   "cell_type": "markdown",
   "id": "6a451b37",
   "metadata": {},
   "source": [
    "2255"
   ]
  },
  {
   "cell_type": "code",
   "execution_count": 6,
   "id": "7bfa9a70",
   "metadata": {},
   "outputs": [],
   "source": [
    "class Solution:\n",
    "    def countPrefixes(self, words: List[str], s: str) -> int:\n",
    "        out = 0\n",
    "        for word in words:\n",
    "            if s.startswith(word):\n",
    "\n",
    "                out += 1\n",
    "        return out"
   ]
  },
  {
   "cell_type": "code",
   "execution_count": 7,
   "id": "81f0399f",
   "metadata": {},
   "outputs": [
    {
     "data": {
      "text/plain": [
       "3"
      ]
     },
     "execution_count": 7,
     "metadata": {},
     "output_type": "execute_result"
    }
   ],
   "source": [
    "words = [\"a\",\"b\",\"c\",\"ab\",\"bc\",\"abc\"]\n",
    "s = \"abc\"\n",
    "ss=Solution()\n",
    "ss.countPrefixes(words,s)"
   ]
  },
  {
   "cell_type": "markdown",
   "id": "e780db34",
   "metadata": {},
   "source": [
    "1941"
   ]
  },
  {
   "cell_type": "code",
   "execution_count": 8,
   "id": "88717bc5",
   "metadata": {},
   "outputs": [],
   "source": [
    "class Solution:\n",
    "    def areOccurrencesEqual(self, s: str) -> bool:\n",
    "        d = {}\n",
    "        for char in s:\n",
    "            d[char] = d.get(char,0) +1\n",
    "        return len(set(d.values())) == 1"
   ]
  },
  {
   "cell_type": "code",
   "execution_count": 9,
   "id": "8112905a",
   "metadata": {},
   "outputs": [
    {
     "data": {
      "text/plain": [
       "False"
      ]
     },
     "execution_count": 9,
     "metadata": {},
     "output_type": "execute_result"
    }
   ],
   "source": [
    "s = \"aaabb\"\n",
    "ss=Solution()\n",
    "ss.areOccurrencesEqual(s)"
   ]
  },
  {
   "cell_type": "markdown",
   "id": "c5fb261e",
   "metadata": {},
   "source": [
    "1967"
   ]
  },
  {
   "cell_type": "code",
   "execution_count": 10,
   "id": "030f1a78",
   "metadata": {},
   "outputs": [],
   "source": [
    "class Solution:\n",
    "    def numOfStrings(self, patterns: List[str], word: str) -> int:\n",
    "        out = 0\n",
    "        for pattern in patterns:\n",
    "            if pattern in word:\n",
    "                out +=1\n",
    "        return out"
   ]
  },
  {
   "cell_type": "code",
   "execution_count": 11,
   "id": "bde0b108",
   "metadata": {},
   "outputs": [
    {
     "data": {
      "text/plain": [
       "3"
      ]
     },
     "execution_count": 11,
     "metadata": {},
     "output_type": "execute_result"
    }
   ],
   "source": [
    "patterns = [\"a\",\"abc\",\"bc\",\"d\"]\n",
    "word = \"abc\"\n",
    "ss=Solution()\n",
    "ss.numOfStrings(patterns,word)"
   ]
  },
  {
   "cell_type": "markdown",
   "id": "2a1e99b5",
   "metadata": {},
   "source": [
    "28"
   ]
  },
  {
   "cell_type": "code",
   "execution_count": 12,
   "id": "e2a7bb21",
   "metadata": {},
   "outputs": [],
   "source": [
    "class Solution:\n",
    "    def strStr(self, haystack: str, needle: str) -> int:\n",
    "        return haystack.find(needle) "
   ]
  },
  {
   "cell_type": "code",
   "execution_count": 13,
   "id": "605a0226",
   "metadata": {},
   "outputs": [
    {
     "data": {
      "text/plain": [
       "0"
      ]
     },
     "execution_count": 13,
     "metadata": {},
     "output_type": "execute_result"
    }
   ],
   "source": [
    "haystack = \"sadbutsad\"\n",
    "needle = \"sad\"\n",
    "ss=Solution()\n",
    "ss.strStr(haystack,needle)"
   ]
  },
  {
   "cell_type": "markdown",
   "id": "c291e05f",
   "metadata": {},
   "source": [
    "2678"
   ]
  },
  {
   "cell_type": "code",
   "execution_count": 14,
   "id": "09a3649d",
   "metadata": {},
   "outputs": [],
   "source": [
    "class Solution:\n",
    "    def countSeniors(self, details: List[str]) -> int:\n",
    "        out = 0\n",
    "        for detail in details:\n",
    "            if int(detail[-4:-2]) > 60:\n",
    "                out += 1\n",
    "        return out"
   ]
  },
  {
   "cell_type": "code",
   "execution_count": 15,
   "id": "08ba78e8",
   "metadata": {},
   "outputs": [
    {
     "data": {
      "text/plain": [
       "2"
      ]
     },
     "execution_count": 15,
     "metadata": {},
     "output_type": "execute_result"
    }
   ],
   "source": [
    "details = [\"7868190130M7522\",\"5303914400F9211\",\"9273338290F4010\"]\n",
    "ss=Solution()\n",
    "ss.countSeniors(details)"
   ]
  },
  {
   "cell_type": "markdown",
   "id": "e11d0b61",
   "metadata": {},
   "source": [
    "2000"
   ]
  },
  {
   "cell_type": "code",
   "execution_count": 16,
   "id": "31036c18",
   "metadata": {},
   "outputs": [],
   "source": [
    "class Solution:\n",
    "    def reversePrefix(self, word: str, ch: str) -> str:\n",
    "        idx = word.find(ch)\n",
    "        if idx ==-1:\n",
    "            return word\n",
    "        return word[:idx+1][::-1] + word[idx+1:]"
   ]
  },
  {
   "cell_type": "code",
   "execution_count": 17,
   "id": "520ea48d",
   "metadata": {},
   "outputs": [
    {
     "data": {
      "text/plain": [
       "'dcbaefd'"
      ]
     },
     "execution_count": 17,
     "metadata": {},
     "output_type": "execute_result"
    }
   ],
   "source": [
    "word = \"abcdefd\"\n",
    "ch = \"d\"\n",
    "ss=Solution()\n",
    "ss.reversePrefix(word,ch)"
   ]
  },
  {
   "cell_type": "markdown",
   "id": "57da9f54",
   "metadata": {},
   "source": [
    "3033"
   ]
  },
  {
   "cell_type": "code",
   "execution_count": 18,
   "id": "1964277f",
   "metadata": {},
   "outputs": [],
   "source": [
    "import numpy as np\n",
    "class Solution:\n",
    "    def modifiedMatrix(self, matrix: List[List[int]]) -> List[List[int]]:\n",
    "        A=np.array(matrix)\n",
    "        A_column_max = np.max(A,axis = 0)\n",
    "        B = A.copy()\n",
    "        m,n = A.shape\n",
    "        for i in range(m):\n",
    "            for j in range(n):\n",
    "                if A[i,j] == -1:\n",
    "                    B[i,j] = A_column_max[j]\n",
    "        return B"
   ]
  },
  {
   "cell_type": "code",
   "execution_count": 19,
   "id": "c1f2e6d5",
   "metadata": {},
   "outputs": [
    {
     "data": {
      "text/plain": [
       "array([[1, 2, 9],\n",
       "       [4, 8, 6],\n",
       "       [7, 8, 9]])"
      ]
     },
     "execution_count": 19,
     "metadata": {},
     "output_type": "execute_result"
    }
   ],
   "source": [
    "matrix = [[1,2,-1],[4,-1,6],[7,8,9]]\n",
    "ss=Solution()\n",
    "ss.modifiedMatrix(matrix)"
   ]
  },
  {
   "cell_type": "markdown",
   "id": "470e966e",
   "metadata": {},
   "source": [
    "2399"
   ]
  },
  {
   "cell_type": "code",
   "execution_count": 20,
   "id": "a85fd298",
   "metadata": {},
   "outputs": [],
   "source": [
    "class Solution:\n",
    "    def checkDistances(self, s: str, distance: List[int]) -> bool:\n",
    "        d = defaultdict(int)\n",
    "        for i, c in enumerate(s, 1):\n",
    "            if d[c] and i - d[c] - 1 != distance[ord(c) - ord('a')]:\n",
    "                return False\n",
    "            d[c] = i\n",
    "        return True"
   ]
  },
  {
   "cell_type": "code",
   "execution_count": 21,
   "id": "15071c40",
   "metadata": {},
   "outputs": [
    {
     "data": {
      "text/plain": [
       "True"
      ]
     },
     "execution_count": 21,
     "metadata": {},
     "output_type": "execute_result"
    }
   ],
   "source": [
    "s = \"abaccb\"\n",
    "distance = [1,3,0,5,0,0,0,0,0,0,0,0,0,0,0,0,0,0,0,0,0,0,0,0,0,0]\n",
    "ss=Solution()\n",
    "ss.checkDistances(s,distance)"
   ]
  },
  {
   "cell_type": "markdown",
   "id": "9d667074",
   "metadata": {},
   "source": [
    "22"
   ]
  },
  {
   "cell_type": "code",
   "execution_count": 22,
   "id": "d9cb09e5",
   "metadata": {},
   "outputs": [],
   "source": [
    "class Solution:\n",
    "    def generateParenthesis(self, n: int) -> List[str]:\n",
    "        def get_next(state:str, count:int, stack:int) -> List[str]:\n",
    "            if count == 0 == stack: return [state]\n",
    "\n",
    "            result = []\n",
    "            if count > 0:\n",
    "                result += get_next(state+'(', count-1, stack+1)\n",
    "            if stack > 0:\n",
    "                result += get_next(state+')', count, stack-1)\n",
    "\n",
    "            return result\n",
    "        \n",
    "        return get_next('', n, 0)"
   ]
  },
  {
   "cell_type": "code",
   "execution_count": 23,
   "id": "3fc488d7",
   "metadata": {},
   "outputs": [
    {
     "data": {
      "text/plain": [
       "['((()))', '(()())', '(())()', '()(())', '()()()']"
      ]
     },
     "execution_count": 23,
     "metadata": {},
     "output_type": "execute_result"
    }
   ],
   "source": [
    "n = 3\n",
    "ss=Solution()\n",
    "ss.generateParenthesis(n)"
   ]
  },
  {
   "cell_type": "markdown",
   "id": "b8db9b3b",
   "metadata": {},
   "source": [
    "1"
   ]
  },
  {
   "cell_type": "code",
   "execution_count": 24,
   "id": "cf32c5fe",
   "metadata": {},
   "outputs": [],
   "source": [
    "class Solution:\n",
    "    def twoSum(self, nums: List[int], target: int) -> List[int]:\n",
    "        length = len(nums)\n",
    "        \n",
    "        dic = {}\n",
    "        for idx, num in enumerate(nums):\n",
    "            if target - num in dic:\n",
    "                return [idx, dic[target - num]]\n",
    "            \n",
    "            dic[num] = idx\n",
    "        "
   ]
  },
  {
   "cell_type": "code",
   "execution_count": 25,
   "id": "fdfd949b",
   "metadata": {},
   "outputs": [
    {
     "data": {
      "text/plain": [
       "[1, 0]"
      ]
     },
     "execution_count": 25,
     "metadata": {},
     "output_type": "execute_result"
    }
   ],
   "source": [
    "nums = [2,7,11,15]\n",
    "target = 9\n",
    "ss=Solution()\n",
    "ss.twoSum(nums,target)"
   ]
  },
  {
   "cell_type": "markdown",
   "id": "7e1d802f",
   "metadata": {},
   "source": [
    "9"
   ]
  },
  {
   "cell_type": "code",
   "execution_count": 26,
   "id": "0d8ea2ab",
   "metadata": {},
   "outputs": [],
   "source": [
    "class Solution:\n",
    "    def isPalindrome(self, x: int) -> bool:\n",
    "        x = str(x)\n",
    "        return x == x[::-1]"
   ]
  },
  {
   "cell_type": "code",
   "execution_count": null,
   "id": "3aa7a310",
   "metadata": {},
   "outputs": [],
   "source": []
  },
  {
   "cell_type": "markdown",
   "id": "fb6372bd",
   "metadata": {},
   "source": [
    "13"
   ]
  },
  {
   "cell_type": "code",
   "execution_count": 27,
   "id": "fcd9ece9",
   "metadata": {},
   "outputs": [],
   "source": [
    "class Solution:\n",
    "    def romanToInt(self, s: str) -> int:\n",
    "        dic={'M':1000,'CM':900,'D':500,'CD':400,'C':100,'XC':90,'L':50,'XL':40,'X':10,'IX':9,'V':5,'IV':4,'I':1}\n",
    "        sum = 0\n",
    "\n",
    "        for i in range(0,len(s)-1):\n",
    "            if dic[s[i]]>=dic[s[i+1]]:\n",
    "                sum = sum+dic[s[i]]\n",
    "            else :\n",
    "                sum = sum-dic[s[i]]\n",
    "        return sum+dic[s[-1]]"
   ]
  },
  {
   "cell_type": "code",
   "execution_count": null,
   "id": "cc7d508c",
   "metadata": {},
   "outputs": [],
   "source": []
  },
  {
   "cell_type": "markdown",
   "id": "6f4da701",
   "metadata": {},
   "source": [
    "14"
   ]
  },
  {
   "cell_type": "code",
   "execution_count": 28,
   "id": "6f60841d",
   "metadata": {},
   "outputs": [],
   "source": [
    "class Solution:\n",
    "    def longestCommonPrefix(self, strs: List[str]) -> str:\n",
    "        minStr = min(strs, key = len)\n",
    "        for i, x in enumerate(minStr):\n",
    "            for other in strs: \n",
    "                if other[i] !=x:\n",
    "                     return minStr[:i]\n",
    "        return minStr"
   ]
  },
  {
   "cell_type": "code",
   "execution_count": null,
   "id": "f22b171a",
   "metadata": {},
   "outputs": [],
   "source": []
  },
  {
   "cell_type": "markdown",
   "id": "24ba7060",
   "metadata": {},
   "source": [
    "20"
   ]
  },
  {
   "cell_type": "code",
   "execution_count": 29,
   "id": "fb755683",
   "metadata": {},
   "outputs": [],
   "source": [
    "class Solution:\n",
    "    def isValid(self, s: str) -> bool:\n",
    "        dic = {'}':'{',')':'(',']':'['}\n",
    "        stack = []\n",
    "        for c in s:\n",
    "            if c in dic.values():\n",
    "                stack.append(c)\n",
    "            elif c in dic.keys():\n",
    "                if not stack or dic[c]!=stack.pop():\n",
    "                    return False\n",
    "        return not stack"
   ]
  },
  {
   "cell_type": "code",
   "execution_count": 30,
   "id": "770c1a21",
   "metadata": {},
   "outputs": [
    {
     "data": {
      "text/plain": [
       "True"
      ]
     },
     "execution_count": 30,
     "metadata": {},
     "output_type": "execute_result"
    }
   ],
   "source": [
    "ss=Solution()\n",
    "ss.isValid('[]()')"
   ]
  },
  {
   "cell_type": "markdown",
   "id": "06af829d",
   "metadata": {},
   "source": [
    "21"
   ]
  },
  {
   "cell_type": "code",
   "execution_count": 31,
   "id": "0f62b942",
   "metadata": {},
   "outputs": [],
   "source": [
    "\n",
    "class ListNode:\n",
    "    def __init__(self, val=0, next=None):\n",
    "        self.val = val\n",
    "        self.next = next\n",
    "class Solution:\n",
    "    def mergeTwoLists(self, list1: Optional[ListNode], list2: Optional[ListNode]) -> Optional[ListNode]:\n",
    "        merge = ListNode()\n",
    "        node = merge\n",
    "\n",
    "        while list1 and list2:\n",
    "            if list1.val <= list2.val:\n",
    "                node.next = ListNode(list1.val)\n",
    "                list1 = list1.next\n",
    "            else:\n",
    "                node.next = ListNode(list2.val)\n",
    "                list2 = list2.next\n",
    "\n",
    "            node = node.next               \n",
    "\n",
    "        node.next = list1 or list2\n",
    "        return merge.next"
   ]
  },
  {
   "cell_type": "markdown",
   "id": "b4b03ec1",
   "metadata": {},
   "source": [
    "26"
   ]
  },
  {
   "cell_type": "code",
   "execution_count": 32,
   "id": "2fb1fee5",
   "metadata": {},
   "outputs": [],
   "source": [
    "class Solution:\n",
    "    def removeDuplicates(self, nums):\n",
    "        if not nums:\n",
    "            return 0\n",
    "        \n",
    "        k = 1  # Initialize the count of unique elements to 1\n",
    "        for i in range(1, len(nums)):\n",
    "            if nums[i] != nums[i - 1]:\n",
    "                nums[k] = nums[i]  # Overwrite the next unique element\n",
    "                k += 1\n",
    "        \n",
    "        return k"
   ]
  },
  {
   "cell_type": "code",
   "execution_count": null,
   "id": "79ff4066",
   "metadata": {},
   "outputs": [],
   "source": []
  },
  {
   "cell_type": "markdown",
   "id": "69ffbf39",
   "metadata": {},
   "source": [
    "27"
   ]
  },
  {
   "cell_type": "code",
   "execution_count": 33,
   "id": "5e49ca99",
   "metadata": {},
   "outputs": [],
   "source": [
    "class Solution:\n",
    "    def removeElement(self, nums: List[int], val: int) -> int:\n",
    "        index = 0\n",
    "        for i in range(len(nums)):\n",
    "            if nums[i] != val:\n",
    "                nums[index] = nums[i]\n",
    "                index += 1\n",
    "        return index"
   ]
  },
  {
   "cell_type": "code",
   "execution_count": null,
   "id": "861beccd",
   "metadata": {},
   "outputs": [],
   "source": []
  },
  {
   "cell_type": "markdown",
   "id": "a5a8a381",
   "metadata": {},
   "source": [
    "35"
   ]
  },
  {
   "cell_type": "code",
   "execution_count": 34,
   "id": "32368843",
   "metadata": {},
   "outputs": [],
   "source": [
    "class Solution:\n",
    "    def searchInsert(self, nums: List[int], target: int) -> int:\n",
    "        left, right = 0, len(nums) - 1\n",
    "        \n",
    "        while left <= right:\n",
    "            mid = left + (right - left) // 2\n",
    "            \n",
    "            if nums[mid] == target:\n",
    "                return mid\n",
    "            elif nums[mid] < target:\n",
    "                left = mid + 1\n",
    "            else:\n",
    "                right = mid - 1\n",
    "        \n",
    "        return left"
   ]
  },
  {
   "cell_type": "markdown",
   "id": "bbbdbff6",
   "metadata": {},
   "source": [
    "58"
   ]
  },
  {
   "cell_type": "code",
   "execution_count": 35,
   "id": "ac4116fb",
   "metadata": {},
   "outputs": [],
   "source": [
    "class Solution:\n",
    "    def lengthOfLastWord(self, s: str) -> int:\n",
    "        return len(s.strip().split(' ')[-1])"
   ]
  },
  {
   "cell_type": "markdown",
   "id": "af84da85",
   "metadata": {},
   "source": [
    "66"
   ]
  },
  {
   "cell_type": "code",
   "execution_count": 36,
   "id": "2b22b646",
   "metadata": {},
   "outputs": [],
   "source": [
    "class Solution:\n",
    "    def plusOne(self, digits: List[int]) -> List[int]:\n",
    "        return list(map(int, str(int(''.join(map(str, digits))) + 1)))"
   ]
  },
  {
   "cell_type": "markdown",
   "id": "10959386",
   "metadata": {},
   "source": [
    "67"
   ]
  },
  {
   "cell_type": "code",
   "execution_count": 37,
   "id": "df6bc866",
   "metadata": {},
   "outputs": [],
   "source": [
    "class Solution:\n",
    "    def addBinary(self, a: str, b: str) -> str:\n",
    "        return format(int(a,2) + int(b,2),'b')"
   ]
  },
  {
   "cell_type": "markdown",
   "id": "37b88c41",
   "metadata": {},
   "source": [
    "69"
   ]
  },
  {
   "cell_type": "code",
   "execution_count": 38,
   "id": "ba559d4b",
   "metadata": {},
   "outputs": [],
   "source": [
    "class Solution:\n",
    "    def mySqrt(self, x: int) -> int:\n",
    "        b = x\n",
    "        while b * b > x:\n",
    "            b = (b + x // b) // 2\n",
    "        return b"
   ]
  },
  {
   "cell_type": "code",
   "execution_count": 39,
   "id": "d09516a6",
   "metadata": {},
   "outputs": [
    {
     "data": {
      "text/plain": [
       "3"
      ]
     },
     "execution_count": 39,
     "metadata": {},
     "output_type": "execute_result"
    }
   ],
   "source": [
    "x = 10\n",
    "ss= Solution()\n",
    "ss.mySqrt(x)"
   ]
  },
  {
   "cell_type": "markdown",
   "id": "776c0082",
   "metadata": {},
   "source": [
    "70"
   ]
  },
  {
   "cell_type": "code",
   "execution_count": 40,
   "id": "c4b1a39b",
   "metadata": {},
   "outputs": [],
   "source": [
    "class Solution:\n",
    "    def climbStairs(self, n: int) -> int:\n",
    "        ways = 1\n",
    "\n",
    "        for i in range(1, (n // 2) + 1):\n",
    "            product = 1\n",
    "\n",
    "            for j in range(i, 2 * i):\n",
    "                product *= (n - j) / (j - i + 1)\n",
    "\n",
    "            ways += product\n",
    "\n",
    "        return int(ways)"
   ]
  },
  {
   "cell_type": "markdown",
   "id": "3be4f2d0",
   "metadata": {},
   "source": [
    "83"
   ]
  },
  {
   "cell_type": "code",
   "execution_count": 41,
   "id": "96e744ba",
   "metadata": {},
   "outputs": [],
   "source": [
    "class ListNode:\n",
    "    def __init__(self, val=0, next=None):\n",
    "        self.val = val\n",
    "        self.next = next\n",
    "class Solution:\n",
    "    def deleteDuplicates(self, head: Optional[ListNode]) -> Optional[ListNode]:\n",
    "        res = head\n",
    "\n",
    "        while head and head.next:\n",
    "            if head.val == head.next.val:\n",
    "                head.next = head.next.next\n",
    "            else:\n",
    "                head = head.next\n",
    "        \n",
    "        return res"
   ]
  },
  {
   "cell_type": "markdown",
   "id": "d4ad6c96",
   "metadata": {},
   "source": [
    "88"
   ]
  },
  {
   "cell_type": "code",
   "execution_count": 42,
   "id": "31afb981",
   "metadata": {},
   "outputs": [],
   "source": [
    "class Solution:\n",
    "    def merge(self, nums1: List[int], m: int, nums2: List[int], n: int) -> None:\n",
    "        nums1[m:] = nums2\n",
    "        nums1.sort()"
   ]
  },
  {
   "cell_type": "markdown",
   "id": "a0772221",
   "metadata": {},
   "source": [
    "94"
   ]
  },
  {
   "cell_type": "code",
   "execution_count": 43,
   "id": "e3f611a6",
   "metadata": {},
   "outputs": [],
   "source": [
    "class TreeNode:\n",
    "    def __init__(self, val=0, left=None, right=None):        \n",
    "        self.val = val\n",
    "        self.left = left\n",
    "        self.right = right\n",
    "class Solution:\n",
    "    def inorderTraversal(self, root: Optional[TreeNode]) -> List[int]:\n",
    "        \n",
    "        \n",
    "        def In(root,arr):   \n",
    "            if root is None:\n",
    "                return \n",
    "            else:\n",
    "                In(root.left,arr)\n",
    "                arr.append(root.val)\n",
    "                In(root.right,arr)\n",
    "            return arr\n",
    "        return In(root,[])     \n",
    "\n",
    "\n",
    "                    \n",
    "        "
   ]
  },
  {
   "cell_type": "markdown",
   "id": "a7f2cffa",
   "metadata": {},
   "source": [
    "125"
   ]
  },
  {
   "cell_type": "code",
   "execution_count": 44,
   "id": "56d92bac",
   "metadata": {},
   "outputs": [],
   "source": [
    "class Solution:\n",
    "    def isPalindrome(self, s: str) -> bool:\n",
    "\n",
    "        letters = [a.lower() for a in s if a.isalnum()]\n",
    "\n",
    "        return letters == letters[::-1]\t# 리스트를 반대로 뒤집기"
   ]
  },
  {
   "cell_type": "markdown",
   "id": "7a8617de",
   "metadata": {},
   "source": [
    "168"
   ]
  },
  {
   "cell_type": "code",
   "execution_count": 45,
   "id": "d2b1ca5f",
   "metadata": {},
   "outputs": [],
   "source": [
    "class Solution:\n",
    "    def convertToTitle(self, columnNumber: int) -> str:\n",
    "        if not columnNumber:\n",
    "            return \"\"\n",
    "        columnNumber, remainder = divmod(columnNumber - 1, 26)\n",
    "        return self.convertToTitle(columnNumber) + chr(65 + remainder)"
   ]
  },
  {
   "cell_type": "markdown",
   "id": "5e51e61f",
   "metadata": {},
   "source": [
    "171"
   ]
  },
  {
   "cell_type": "code",
   "execution_count": 46,
   "id": "b168cb7c",
   "metadata": {},
   "outputs": [],
   "source": [
    "class Solution:\n",
    "    def titleToNumber(self, columnTitle: str) -> int:\n",
    "        ans, pos = 0, 0\n",
    "        for letter in reversed(columnTitle):\n",
    "            digit = ord(letter)-64\n",
    "            ans += digit * 26**pos\n",
    "            pos += 1\n",
    "            \n",
    "        return ans"
   ]
  },
  {
   "cell_type": "markdown",
   "id": "2649caf1",
   "metadata": {},
   "source": [
    "205"
   ]
  },
  {
   "cell_type": "code",
   "execution_count": 47,
   "id": "77f20932",
   "metadata": {},
   "outputs": [],
   "source": [
    "class Solution:\n",
    "    def isIsomorphic(self, s: str, t: str) -> bool:\n",
    "        shm = {}\n",
    "        thm = {}\n",
    "        for i in range(len(s)):\n",
    "            if not shm.get(s[i]):\n",
    "                shm[s[i]] = t[i]\n",
    "            if not thm.get(t[i]):\n",
    "                thm[t[i]] = s[i]\n",
    "            if shm[s[i]] != t[i] or thm[t[i]] != s[i]:\n",
    "                return 0\n",
    "        return 1\n",
    "\n",
    "    "
   ]
  },
  {
   "cell_type": "markdown",
   "id": "8f7ee0f1",
   "metadata": {},
   "source": [
    "242"
   ]
  },
  {
   "cell_type": "code",
   "execution_count": 48,
   "id": "2bf2ee6f",
   "metadata": {},
   "outputs": [],
   "source": [
    "class Solution:\n",
    "    def isAnagram(self, s: str, t: str) -> bool:\n",
    "        sorted_s = sorted(s)\n",
    "        sorted_t = sorted(t)\n",
    "        return sorted_s == sorted_t"
   ]
  },
  {
   "cell_type": "markdown",
   "id": "f58955ba",
   "metadata": {},
   "source": [
    "257"
   ]
  },
  {
   "cell_type": "code",
   "execution_count": 49,
   "id": "334f696f",
   "metadata": {},
   "outputs": [],
   "source": [
    "class Solution:\n",
    "    def binaryTreePaths(self, root: Optional[TreeNode]) -> List[str]:\n",
    "        def dfs(node, path, result):\n",
    "            if not node:\n",
    "                return\n",
    "            path += str(node.val)\n",
    "            if not node.left and not node.right:\n",
    "                result.append(path)\n",
    "            else:\n",
    "                dfs(node.left, path + '->', result)\n",
    "                dfs(node.right, path + '->', result)\n",
    "\n",
    "        result = []\n",
    "        dfs(root, '', result)\n",
    "        return result "
   ]
  },
  {
   "cell_type": "markdown",
   "id": "17480117",
   "metadata": {},
   "source": [
    "290"
   ]
  },
  {
   "cell_type": "code",
   "execution_count": 50,
   "id": "a1070983",
   "metadata": {},
   "outputs": [],
   "source": [
    "class Solution:\n",
    "    def wordPattern(self, pattern: str, s: str) -> bool:\n",
    "\n",
    "        s = s.split()\n",
    "\n",
    "        return (len(set(pattern)) ==\n",
    "                len(set(s)) ==\n",
    "                len(set(zip_longest(pattern,s))))"
   ]
  },
  {
   "cell_type": "markdown",
   "id": "7a94e16d",
   "metadata": {},
   "source": [
    "344"
   ]
  },
  {
   "cell_type": "code",
   "execution_count": 51,
   "id": "55832e51",
   "metadata": {},
   "outputs": [],
   "source": [
    "class Solution:\n",
    "    def reverseString(self, s: List[str]) -> None:\n",
    "        s[:] = s[::-1]"
   ]
  },
  {
   "cell_type": "markdown",
   "id": "2fbda1de",
   "metadata": {},
   "source": [
    "345"
   ]
  },
  {
   "cell_type": "code",
   "execution_count": 52,
   "id": "7c9318e8",
   "metadata": {},
   "outputs": [],
   "source": [
    "class Solution:\n",
    "    def reverseVowels(self, s: str) -> str:\n",
    "        vowels = {'a', 'e', 'i', 'o', 'u', 'A', 'E', 'I', 'O', 'U'}\n",
    "        li1 = []\n",
    "        li2 = []\n",
    "        for i in range(len(s)):\n",
    "            if s[i] in vowels:\n",
    "                li1.append(s[i])\n",
    "                li2.append(i)\n",
    "        for j in range(len(li2)):\n",
    "            s = s[:li2[j]] + li1[-j-1] + s[li2[j]+1:]\n",
    "        return s\n"
   ]
  },
  {
   "cell_type": "markdown",
   "id": "bf4f43d7",
   "metadata": {},
   "source": [
    "383"
   ]
  },
  {
   "cell_type": "code",
   "execution_count": 53,
   "id": "8ea591f0",
   "metadata": {},
   "outputs": [],
   "source": [
    "class Solution:\n",
    "    def canConstruct(self, ransomNote: str, magazine: str) -> bool:\n",
    "        count = Counter(magazine)\n",
    "       \n",
    "        for c in ransomNote:\n",
    "            if c not in count or count[c] == 0:\n",
    "                return False\n",
    "            else:\n",
    "                count[c] -= 1\n",
    "\n",
    "        return True\n",
    "            \n",
    "     "
   ]
  },
  {
   "cell_type": "markdown",
   "id": "e8e663d7",
   "metadata": {},
   "source": [
    "387"
   ]
  },
  {
   "cell_type": "code",
   "execution_count": 54,
   "id": "292bd566",
   "metadata": {},
   "outputs": [],
   "source": [
    "from collections import Counter\n",
    "class Solution:\n",
    "    def firstUniqChar(self, s: str) -> int:\n",
    "        l = Counter(s)\n",
    "        for i,j in l.items():\n",
    "            if j==1: \n",
    "                return s.index(i)\n",
    "        return -1"
   ]
  },
  {
   "cell_type": "markdown",
   "id": "e5de0906",
   "metadata": {},
   "source": [
    "389"
   ]
  },
  {
   "cell_type": "code",
   "execution_count": 55,
   "id": "9f104749",
   "metadata": {},
   "outputs": [],
   "source": [
    "class Solution:\n",
    "    def findTheDifference(self, s: str, t: str) -> str:\n",
    "        if len(s)> len(t):\n",
    "            for i in s:\n",
    "                if s.count(i)>t.count(i):\n",
    "                    return(i)\n",
    "                    break\n",
    "        if len(t)>len(s):\n",
    "            for i in t:\n",
    "                if t.count(i)>s.count(i):\n",
    "                    return(i)\n",
    "                    break"
   ]
  },
  {
   "cell_type": "markdown",
   "id": "6c491664",
   "metadata": {},
   "source": [
    "392"
   ]
  },
  {
   "cell_type": "code",
   "execution_count": 56,
   "id": "88de4253",
   "metadata": {},
   "outputs": [],
   "source": [
    "class Solution:\n",
    "    def isSubsequence(self, s: str, t: str) -> bool:\n",
    "        sp = tp = 0\n",
    "\n",
    "        while sp < len(s) and tp < len(t):\n",
    "            if s[sp] == t[tp]:\n",
    "                sp += 1\n",
    "            tp += 1\n",
    "        \n",
    "        return sp == len(s)"
   ]
  },
  {
   "cell_type": "markdown",
   "id": "2c46c1ac",
   "metadata": {},
   "source": [
    "409"
   ]
  },
  {
   "cell_type": "code",
   "execution_count": 57,
   "id": "5f70033a",
   "metadata": {},
   "outputs": [],
   "source": [
    "class Solution:\n",
    "    def longestPalindrome(self, s: str) -> int:\n",
    "        odd_count = 0\n",
    "        d = {}\n",
    "        for ch in s:\n",
    "            if ch in d:\n",
    "                d[ch] += 1\n",
    "            else:\n",
    "                d[ch] = 1\n",
    "            if d[ch] % 2 == 1:\n",
    "                odd_count += 1\n",
    "            else:\n",
    "                odd_count -= 1\n",
    "        if odd_count > 1:\n",
    "            return len(s) - odd_count + 1\n",
    "        return len(s)"
   ]
  },
  {
   "cell_type": "markdown",
   "id": "73d8da33",
   "metadata": {},
   "source": [
    "412"
   ]
  },
  {
   "cell_type": "code",
   "execution_count": 58,
   "id": "d8e98088",
   "metadata": {},
   "outputs": [],
   "source": [
    "class Solution:\n",
    "    def fizzBuzz(self,n):\n",
    "        aList=list()\n",
    "        i = 1\n",
    "        while i<=n:\n",
    "            if i%3==0 and i%5==0:\n",
    "                aList.append(\"FizzBuzz\")\n",
    "            elif i%5==0:\n",
    "                aList.append(\"Buzz\")\n",
    "            elif i%3==0:\n",
    "                aList.append(\"Fizz\")\n",
    "            else:\n",
    "                aList.append(str(i))\n",
    "            i+=1\n",
    "        return aList"
   ]
  },
  {
   "cell_type": "markdown",
   "id": "48676e93",
   "metadata": {},
   "source": [
    "415"
   ]
  },
  {
   "cell_type": "code",
   "execution_count": 59,
   "id": "7a55e3cc",
   "metadata": {},
   "outputs": [],
   "source": [
    "class Solution:\n",
    "    def addStrings(self, num1: str, num2: str) -> str:\n",
    "        sys.set_int_max_str_digits(10000)\n",
    "        return str(int(num1) + int(num2))"
   ]
  },
  {
   "cell_type": "markdown",
   "id": "e90ac418",
   "metadata": {},
   "source": [
    "434"
   ]
  },
  {
   "cell_type": "code",
   "execution_count": 60,
   "id": "048fd839",
   "metadata": {},
   "outputs": [],
   "source": [
    "class Solution:\n",
    "    def countSegments(self, s: str) -> int:\n",
    "        if s == \"\":\n",
    "            return 0\n",
    "\n",
    "        if s.replace(\" \", \"\") == \"\":\n",
    "            return 0\n",
    "\n",
    "        return len([x for x in s.split(\" \") if x != \"\"])"
   ]
  },
  {
   "cell_type": "markdown",
   "id": "07836533",
   "metadata": {},
   "source": [
    "459"
   ]
  },
  {
   "cell_type": "code",
   "execution_count": 61,
   "id": "2d82133f",
   "metadata": {},
   "outputs": [],
   "source": [
    "class Solution:\n",
    "    def repeatedSubstringPattern(self, s: str) -> bool: \n",
    "        ss = (s + s)[1:-1]\n",
    "        if ss.find(s) != -1:\n",
    "            return (True)\n",
    "        else: return (False)\n"
   ]
  },
  {
   "cell_type": "markdown",
   "id": "67d0e776",
   "metadata": {},
   "source": [
    "482"
   ]
  },
  {
   "cell_type": "code",
   "execution_count": 62,
   "id": "ae8fef4f",
   "metadata": {},
   "outputs": [],
   "source": [
    "class Solution:\n",
    "    def licenseKeyFormatting(self, s: str, k: int) -> str:\n",
    "        # Remove any dashes and convert all characters to uppercase\n",
    "        s = s.replace(\"-\", \"\").upper()\n",
    "\n",
    "        # Calculate the length of the first group\n",
    "        first_group_len = len(s) % k\n",
    "\n",
    "        # Initialize the reformatted license key with the first group\n",
    "        reformatted = s[:first_group_len]\n",
    "\n",
    "        # Iterate over the remaining groups and add them to the reformatted license key\n",
    "        for i in range(first_group_len, len(s), k):\n",
    "            if reformatted:\n",
    "                reformatted += \"-\"\n",
    "            reformatted += s[i:i+k]\n",
    "\n",
    "        return reformatted"
   ]
  },
  {
   "cell_type": "markdown",
   "id": "9f740f05",
   "metadata": {},
   "source": [
    "500"
   ]
  },
  {
   "cell_type": "code",
   "execution_count": 63,
   "id": "c4cac650",
   "metadata": {},
   "outputs": [],
   "source": [
    "class Solution:\n",
    "    def findWords(self, words: List[str]) -> List[str]:\n",
    "        l1=\"qwertyuiop\"\n",
    "        l2=\"asdfghjkl\"\n",
    "        l3=\"zxcvbnm\"\n",
    "        res=[]\n",
    "        for word in words:\n",
    "            w=word.lower()\n",
    "            if len(set(l1+w))==len(l1) or len(set(l2+w))==len(l2) or len(set(l3+w))==len(l3) :\n",
    "                res.append(word)\n",
    "        return res"
   ]
  },
  {
   "cell_type": "markdown",
   "id": "6e59aa14",
   "metadata": {},
   "source": [
    "520"
   ]
  },
  {
   "cell_type": "code",
   "execution_count": 64,
   "id": "479d4801",
   "metadata": {},
   "outputs": [],
   "source": [
    "class Solution:\n",
    "    def detectCapitalUse(self, s: str) -> bool:\n",
    "        if s.isupper() or s.islower() or s.title() == s:\n",
    "            return True\n",
    "        else:\n",
    "            return False"
   ]
  },
  {
   "cell_type": "markdown",
   "id": "ed60bd7a",
   "metadata": {},
   "source": [
    "521"
   ]
  },
  {
   "cell_type": "code",
   "execution_count": 65,
   "id": "2561a345",
   "metadata": {},
   "outputs": [],
   "source": [
    "class Solution:\n",
    "    def findLUSlength(self, A: str, B: str) -> int:\n",
    "        if A == B:\n",
    "            return -1\n",
    "        return max(len(A), len(B))"
   ]
  },
  {
   "cell_type": "markdown",
   "id": "3799b029",
   "metadata": {},
   "source": [
    "541"
   ]
  },
  {
   "cell_type": "code",
   "execution_count": 66,
   "id": "22a3576e",
   "metadata": {},
   "outputs": [],
   "source": [
    "class Solution:\n",
    "    def reverseStr(self, s: str, k: int) -> str:\n",
    "        mylist = list(s)\n",
    "        for i in range(0, len(mylist), k + k):\n",
    "            mylist[i:k + i] = reversed(mylist[i:k + i])\n",
    "        return \"\".join(mylist)"
   ]
  },
  {
   "cell_type": "code",
   "execution_count": null,
   "id": "ee13adef",
   "metadata": {},
   "outputs": [],
   "source": []
  },
  {
   "cell_type": "markdown",
   "id": "529f1ddb",
   "metadata": {},
   "source": [
    "551"
   ]
  },
  {
   "cell_type": "code",
   "execution_count": 67,
   "id": "ccc1aafa",
   "metadata": {},
   "outputs": [],
   "source": [
    "class Solution:\n",
    "    def checkRecord(self, s: str) -> bool:\n",
    "    \n",
    "        return s.count('A')<2 and s.find('LLL') ==-1"
   ]
  },
  {
   "cell_type": "markdown",
   "id": "99555d30",
   "metadata": {},
   "source": [
    "4"
   ]
  },
  {
   "cell_type": "code",
   "execution_count": 68,
   "id": "c340bd5d",
   "metadata": {},
   "outputs": [],
   "source": [
    "class Solution:\n",
    "    def findMedianSortedArrays(self, nums1: List[int], nums2: List[int]) -> float:\n",
    "        nums1.extend(nums2)\n",
    "        nums1.sort()\n",
    "\n",
    "        if len(nums1) % 2 == 0:\n",
    "            return (nums1[len(nums1)//2] + nums1[len(nums1) // 2 - 1]) / 2\n",
    "        else:\n",
    "            return nums1[len(nums1)//2]"
   ]
  },
  {
   "cell_type": "markdown",
   "id": "0888640b",
   "metadata": {},
   "source": [
    "41"
   ]
  },
  {
   "cell_type": "code",
   "execution_count": 69,
   "id": "f5613a28",
   "metadata": {},
   "outputs": [],
   "source": [
    "class Solution:\n",
    "    def firstMissingPositive(self, nums: List[int]) -> int:\n",
    "        s=set()\n",
    "        sp=1\n",
    "        for n in nums:\n",
    "            s.add(n)\n",
    "            while sp in s:\n",
    "                sp+=1\n",
    "        return sp"
   ]
  },
  {
   "cell_type": "markdown",
   "id": "bee32ee6",
   "metadata": {},
   "source": [
    "108"
   ]
  },
  {
   "cell_type": "code",
   "execution_count": 70,
   "id": "ebec8a45",
   "metadata": {},
   "outputs": [],
   "source": [
    "class Solution:\n",
    "    def sortedArrayToBST(self, nums: List[int]):\n",
    "        total_nums = len(nums)\n",
    "        if not total_nums:\n",
    "            return None\n",
    "\n",
    "        mid_node = total_nums // 2\n",
    "        return TreeNode(\n",
    "            nums[mid_node], \n",
    "            self.sortedArrayToBST(nums[:mid_node]), self.sortedArrayToBST(nums[mid_node + 1 :])\n",
    "        )"
   ]
  },
  {
   "cell_type": "markdown",
   "id": "1914488b",
   "metadata": {},
   "source": [
    "268"
   ]
  },
  {
   "cell_type": "code",
   "execution_count": 71,
   "id": "5fad423a",
   "metadata": {},
   "outputs": [],
   "source": [
    "class Solution:\n",
    "    def missingNumber(self, nums: List[int]) -> int:\n",
    "        res = len(nums)\n",
    "\n",
    "        for i in range(len(nums)):\n",
    "            res += i - nums[i]\n",
    "        \n",
    "        return res"
   ]
  },
  {
   "cell_type": "markdown",
   "id": "48430fcf",
   "metadata": {},
   "source": [
    "1929"
   ]
  },
  {
   "cell_type": "code",
   "execution_count": 72,
   "id": "c9b33098",
   "metadata": {},
   "outputs": [],
   "source": [
    "class Solution:\n",
    "    def getConcatenation(self, nums: List[int]) -> List[int]:\n",
    "        return nums + nums "
   ]
  },
  {
   "cell_type": "markdown",
   "id": "70b31095",
   "metadata": {},
   "source": [
    "1920"
   ]
  },
  {
   "cell_type": "code",
   "execution_count": 73,
   "id": "d371cd78",
   "metadata": {},
   "outputs": [],
   "source": [
    "class Solution:\n",
    "    def buildArray(self, nums: List[int]) -> List[int]:\n",
    "        return [nums[i] for i in nums]"
   ]
  },
  {
   "cell_type": "markdown",
   "id": "ebad677e",
   "metadata": {},
   "source": [
    "2011"
   ]
  },
  {
   "cell_type": "code",
   "execution_count": 74,
   "id": "4cf52f15",
   "metadata": {},
   "outputs": [],
   "source": [
    "class Solution:\n",
    "    def finalValueAfterOperations(self, op: List[str]) -> int:\n",
    "        ans = 0\n",
    "        for x in op:\n",
    "            if x[1] == \"+\":\n",
    "                ans+=1\n",
    "            else:\n",
    "                ans -= 1\n",
    "\n",
    "        return ans"
   ]
  },
  {
   "cell_type": "markdown",
   "id": "b5ae58fd",
   "metadata": {},
   "source": [
    "1512"
   ]
  },
  {
   "cell_type": "code",
   "execution_count": 75,
   "id": "f058ae62",
   "metadata": {},
   "outputs": [],
   "source": [
    "class Solution:\n",
    "    def numIdenticalPairs(self, nums: List[int]) -> int:\n",
    "        return sum([math.comb(n, 2) for n in collections.Counter(nums).values()])      "
   ]
  },
  {
   "cell_type": "code",
   "execution_count": null,
   "id": "91a79e9b",
   "metadata": {},
   "outputs": [],
   "source": []
  },
  {
   "cell_type": "markdown",
   "id": "c411d934",
   "metadata": {},
   "source": [
    "1470"
   ]
  },
  {
   "cell_type": "code",
   "execution_count": 48,
   "id": "d44e2113",
   "metadata": {},
   "outputs": [],
   "source": [
    "class Solution:\n",
    "    def shuffle(self, nums: List[int], n: int) -> List[int]:\n",
    "        new = []\n",
    "        half_index = len(nums) // 2\n",
    "        for i in range(len(nums) // 2):\n",
    "            new.append(nums[i])\n",
    "            new.append(nums[i + half_index])\n",
    "        return new\n",
    "            "
   ]
  },
  {
   "cell_type": "markdown",
   "id": "d0caf4d0",
   "metadata": {},
   "source": [
    "2942"
   ]
  },
  {
   "cell_type": "code",
   "execution_count": 49,
   "id": "e403e8bb",
   "metadata": {},
   "outputs": [],
   "source": [
    "class Solution:\n",
    "    def findWordsContaining(self, words: List[str], x: str) -> List[int]:\n",
    "\n",
    "        answer = []\n",
    "        for i in range(len(words)):\n",
    "            for letter in words[i]:\n",
    "                if letter == x:\n",
    "                    answer.append(i)\n",
    "                    break\n",
    "        return answer"
   ]
  },
  {
   "cell_type": "markdown",
   "id": "55ca2f9c",
   "metadata": {},
   "source": [
    "2373"
   ]
  },
  {
   "cell_type": "code",
   "execution_count": 50,
   "id": "9ef07d2c",
   "metadata": {},
   "outputs": [],
   "source": [
    "class Solution:\n",
    "    def largestLocal(self, grid: List[List[int]]) -> List[List[int]]:\n",
    "        n, res = len(grid), []\n",
    "\n",
    "        for i in range(1, n - 1):\n",
    "            temp_row = []\n",
    "            for j in range(1, n - 1):\n",
    "                temp = 0\n",
    "\n",
    "                for k in range(i - 1, i + 2):\n",
    "                    for l in range(j - 1, j + 2):\n",
    "                        temp = max(temp, grid[k][l])\n",
    "\n",
    "                temp_row.append(temp)\n",
    "            res.append(temp_row)\n",
    "\n",
    "        return res"
   ]
  },
  {
   "cell_type": "markdown",
   "id": "ac18d1ec",
   "metadata": {},
   "source": [
    "1672"
   ]
  },
  {
   "cell_type": "code",
   "execution_count": 51,
   "id": "66e39289",
   "metadata": {},
   "outputs": [],
   "source": [
    "class Solution:\n",
    "    def maximumWealth(self, accounts: List[List[int]]) -> int:\n",
    "        wealth = 0\n",
    "        for i in accounts:\n",
    "            money = 0\n",
    "            for j in i:\n",
    "                money += j\n",
    "            if money > wealth:\n",
    "                wealth = money\n",
    "        return wealth"
   ]
  },
  {
   "cell_type": "markdown",
   "id": "32f01f0e",
   "metadata": {},
   "source": [
    "1863"
   ]
  },
  {
   "cell_type": "code",
   "execution_count": 52,
   "id": "fbcb6f1f",
   "metadata": {},
   "outputs": [],
   "source": [
    "class Solution:\n",
    "    def subsetXORSum(self, nums: List[int]) -> int:\n",
    "        n = len(nums)\n",
    "        total_sum = 0\n",
    "        # Iterate through all possible subsets\n",
    "        for i in range(1 << n):\n",
    "            subset_xor = 0\n",
    "            for j in range(n):\n",
    "                # Check if the j-th element is in the i-th subset\n",
    "                if i & (1 << j):\n",
    "                    subset_xor ^= nums[j]\n",
    "            total_sum += subset_xor\n",
    "        return total_sum"
   ]
  },
  {
   "cell_type": "markdown",
   "id": "9b4a00e3",
   "metadata": {},
   "source": [
    "3110"
   ]
  },
  {
   "cell_type": "code",
   "execution_count": 53,
   "id": "8b61b349",
   "metadata": {},
   "outputs": [],
   "source": [
    "class Solution:\n",
    "    def scoreOfString(self, s: str) -> int:\n",
    "        total = 0\n",
    "        for i in range(len(s) - 1):\n",
    "            total += abs(ord(s[i]) - ord(s[i + 1]))\n",
    "        return total"
   ]
  },
  {
   "cell_type": "markdown",
   "id": "8599f092",
   "metadata": {},
   "source": [
    "3146"
   ]
  },
  {
   "cell_type": "code",
   "execution_count": 54,
   "id": "99f74fbe",
   "metadata": {},
   "outputs": [
    {
     "name": "stdout",
     "output_type": "stream",
     "text": [
      "2\n",
      "12\n"
     ]
    }
   ],
   "source": [
    "class Solution:\n",
    "    def findPermutationDifference(self, s: str, t: str) -> int:\n",
    "        indices_s = {char: index for index, char in enumerate(s)}\n",
    "        indices_t = {char: index for index, char in enumerate(t)}\n",
    "        permutation_difference = 0\n",
    "        \n",
    "        for char in s:\n",
    "            permutation_difference += abs(indices_s[char] - indices_t[char])\n",
    "        \n",
    "        return permutation_difference\n",
    "\n",
    "# Example usage:\n",
    "solution = Solution()\n",
    "print(solution.findPermutationDifference(\"abc\", \"bac\"))  # Output: 2\n",
    "print(solution.findPermutationDifference(\"abcde\", \"edbac\"))  # Output: 12"
   ]
  },
  {
   "cell_type": "markdown",
   "id": "40a946ef",
   "metadata": {},
   "source": [
    "1108"
   ]
  },
  {
   "cell_type": "code",
   "execution_count": 55,
   "id": "b1045d46",
   "metadata": {},
   "outputs": [],
   "source": [
    "class Solution:\n",
    "    def defangIPaddr(self, address: str) -> str:\n",
    "        return address.replace(\".\", \"[.]\")"
   ]
  },
  {
   "cell_type": "markdown",
   "id": "bc8cdcf9",
   "metadata": {},
   "source": [
    "771"
   ]
  },
  {
   "cell_type": "code",
   "execution_count": 56,
   "id": "9082297d",
   "metadata": {},
   "outputs": [],
   "source": [
    "class Solution:\n",
    "    def numJewelsInStones(self, jw: str, st: str) -> int:\n",
    "        count = 0\n",
    "        for i in range(len(jw)):\n",
    "            for j in range(len(st)):\n",
    "                if jw[i] is st[j]:\n",
    "                    count += 1\n",
    "        return count"
   ]
  },
  {
   "cell_type": "markdown",
   "id": "7b14fc44",
   "metadata": {},
   "source": [
    "1678"
   ]
  },
  {
   "cell_type": "code",
   "execution_count": 57,
   "id": "c0e94f34",
   "metadata": {},
   "outputs": [],
   "source": [
    "class Solution:\n",
    "    def interpret(self, command: str) -> str:\n",
    "        return command.replace('()','o').replace('(al)','al')"
   ]
  },
  {
   "cell_type": "markdown",
   "id": "6a51355e",
   "metadata": {},
   "source": [
    "2114"
   ]
  },
  {
   "cell_type": "code",
   "execution_count": 58,
   "id": "488eb726",
   "metadata": {},
   "outputs": [],
   "source": [
    "class Solution:\n",
    "    def mostWordsFound(self, sentences: List[str]) -> int:\n",
    "        answer = 0\n",
    "        for sentence in sentences:\n",
    "            answer = max(answer, len(sentence.split()))\n",
    "\n",
    "\n",
    "        return answer"
   ]
  },
  {
   "cell_type": "markdown",
   "id": "3cebaa2b",
   "metadata": {},
   "source": [
    "1221"
   ]
  },
  {
   "cell_type": "code",
   "execution_count": 59,
   "id": "8c43eebd",
   "metadata": {},
   "outputs": [],
   "source": [
    "class Solution:\n",
    "    def balancedStringSplit(self, s: str) -> int:\n",
    "        s = s.replace(\"R\", \"-1,\").replace(\"L\", \"1,\")\n",
    "        ls = list(map(lambda x : 1 if x == \"1\" else -1, s[:-1].split(\",\")))\n",
    "        c = 0\n",
    "        k = 0\n",
    "        for i in ls :\n",
    "            if k == 0 :\n",
    "                c += 1\n",
    "            k += i\n",
    "        return c"
   ]
  },
  {
   "cell_type": "markdown",
   "id": "7f72e9b8",
   "metadata": {},
   "source": [
    "1662"
   ]
  },
  {
   "cell_type": "code",
   "execution_count": 60,
   "id": "3a6dcf26",
   "metadata": {},
   "outputs": [],
   "source": [
    "class Solution:\n",
    "    def arrayStringsAreEqual(self, word1: List[str], word2: List[str]) -> bool:\n",
    "        pointer1, idx1, pointer2, idx2 = 0, 0, 0, 0  # Pointers and indices for both words\n",
    "\n",
    "        while pointer1 < len(word1) and pointer2 < len(word2):\n",
    "            # Get the current characters from both words\n",
    "            char1, char2 = word1[pointer1][idx1], word2[pointer2][idx2]\n",
    "\n",
    "            # Compare characters\n",
    "            if char1 != char2:\n",
    "                return False\n",
    "\n",
    "            # Move to the next character in the current word\n",
    "            idx1 += 1\n",
    "            idx2 += 1\n",
    "\n",
    "            # Move to the next word if the end of the current word is reached\n",
    "            if idx1 == len(word1[pointer1]):\n",
    "                idx1, pointer1 = 0, pointer1 + 1 # Move to the next word in word1\n",
    "\n",
    "            if idx2 == len(word2[pointer2]):\n",
    "                idx2, pointer2 = 0, pointer2 + 1 # Move to the next word in word2\n",
    "\n",
    "        # Check if both pointers have reached the end of their respective arrays\n",
    "        return pointer1 == len(word1) and pointer2 == len(word2)        "
   ]
  },
  {
   "cell_type": "markdown",
   "id": "1aca92a4",
   "metadata": {},
   "source": [
    "1816"
   ]
  },
  {
   "cell_type": "code",
   "execution_count": 61,
   "id": "0fe03222",
   "metadata": {},
   "outputs": [],
   "source": [
    "class Solution:\n",
    "    def truncateSentence(self, s: str, k: int) -> str:\n",
    "        return \" \".join(s.split(\" \")[:k])"
   ]
  },
  {
   "cell_type": "markdown",
   "id": "647d91ba",
   "metadata": {},
   "source": [
    "1773"
   ]
  },
  {
   "cell_type": "code",
   "execution_count": 62,
   "id": "30ac6716",
   "metadata": {},
   "outputs": [],
   "source": [
    "class Solution:\n",
    "    def countMatches(self, items: List[List[str]], ruleKey: str, ruleValue: str) -> int:\n",
    "        if(ruleKey==\"type\"):\n",
    "            k=0\n",
    "        elif(ruleKey==\"color\"):\n",
    "            k=1\n",
    "        else:\n",
    "            k=2\n",
    "        c=0\n",
    "        for i in items:\n",
    "            if(i[k]==ruleValue):\n",
    "                c=c+1\n",
    "        return c"
   ]
  },
  {
   "cell_type": "markdown",
   "id": "7a32fa76",
   "metadata": {},
   "source": [
    "1528"
   ]
  },
  {
   "cell_type": "code",
   "execution_count": 63,
   "id": "ed14ab2e",
   "metadata": {},
   "outputs": [],
   "source": [
    "class Solution:\n",
    "    def restoreString(self, s: str, indices: List[int]) -> str:\n",
    "        a=\"\"\n",
    "        indices=list(indices)\n",
    "        for i in range(len(s)):\n",
    "            b=indices.index(i)\n",
    "            a+=s[b]\n",
    "        return a"
   ]
  },
  {
   "cell_type": "markdown",
   "id": "632ccfe1",
   "metadata": {},
   "source": [
    "2325"
   ]
  },
  {
   "cell_type": "code",
   "execution_count": 64,
   "id": "7bb31fa7",
   "metadata": {},
   "outputs": [],
   "source": [
    "class Solution:\n",
    "    def unique_everseen(self, iterable):\n",
    "        seen = set(\" \")\n",
    "        for element in filterfalse(seen.__contains__, iterable):\n",
    "            seen.add(element)\n",
    "            yield element\n",
    "\n",
    "    def decodeMessage(self, key: str, message: str) -> str:\n",
    "        key_uniq = list(self.unique_everseen(key))\n",
    "        d = dict(zip(key_uniq, ascii_lowercase)) | {\" \": \" \"}\n",
    "        return \"\".join(map(d.__getitem__, message))"
   ]
  },
  {
   "cell_type": "markdown",
   "id": "95e89181",
   "metadata": {},
   "source": [
    "2194"
   ]
  },
  {
   "cell_type": "code",
   "execution_count": 65,
   "id": "a9cc4a7e",
   "metadata": {},
   "outputs": [],
   "source": [
    "class Solution:\n",
    "    def cellsInRange(self, s: str) -> List[str]:\n",
    "        return [f'{chr(ch)}{i}' for ch in range(ord(s[0]), ord(s[3])+1) for i in range(int(s[1]), int(s[4])+1)]"
   ]
  },
  {
   "cell_type": "markdown",
   "id": "7fbe2b1d",
   "metadata": {},
   "source": [
    "2108"
   ]
  },
  {
   "cell_type": "code",
   "execution_count": 66,
   "id": "e40b4fa7",
   "metadata": {},
   "outputs": [],
   "source": [
    "class Solution:\n",
    "    def firstPalindrome(self, words: List[str]) -> str:\n",
    "        return next((word for word in words if word == word[::-1]), \"\")"
   ]
  },
  {
   "cell_type": "markdown",
   "id": "2973c3d2",
   "metadata": {},
   "source": [
    "1614"
   ]
  },
  {
   "cell_type": "code",
   "execution_count": 67,
   "id": "2011772c",
   "metadata": {},
   "outputs": [],
   "source": [
    "class Solution:\n",
    "    def maxDepth(self, s: str) -> int:\n",
    "        return max(accumulate((c=='(')-(c==')') for c in s))"
   ]
  },
  {
   "cell_type": "markdown",
   "id": "05460737",
   "metadata": {},
   "source": [
    "2810"
   ]
  },
  {
   "cell_type": "code",
   "execution_count": 68,
   "id": "37fca265",
   "metadata": {},
   "outputs": [],
   "source": [
    "class Solution:\n",
    "    def finalString(self, s: str) -> str:\n",
    "        result = []\n",
    "        reverse = False\n",
    "        for char in s:\n",
    "            if char == 'i':\n",
    "                reverse = not reverse\n",
    "            else:\n",
    "                if reverse:\n",
    "                    result.insert(0, char)\n",
    "                else:\n",
    "                    result.append(char)\n",
    "        if reverse:\n",
    "            result.reverse()\n",
    "        return ''.join(result)"
   ]
  },
  {
   "cell_type": "markdown",
   "id": "92538929",
   "metadata": {},
   "source": [
    "709"
   ]
  },
  {
   "cell_type": "code",
   "execution_count": 69,
   "id": "0357011e",
   "metadata": {},
   "outputs": [],
   "source": [
    "class Solution:\n",
    "    def toLowerCase(self, s: str) -> str:\n",
    "        answerString = \"\"\n",
    "        for i in s:\n",
    "            if 'A' <= i <= 'Z':\n",
    "                answerString = answerString + chr(ord(i)+32)\n",
    "            else:\n",
    "                 answerString = answerString + i\n",
    "\n",
    "        return answerString\n",
    "            "
   ]
  },
  {
   "cell_type": "markdown",
   "id": "44672265",
   "metadata": {},
   "source": [
    "1832"
   ]
  },
  {
   "cell_type": "code",
   "execution_count": 70,
   "id": "779722a3",
   "metadata": {},
   "outputs": [],
   "source": [
    "class Solution:\n",
    "    def checkIfPangram(self, sentence: str) -> bool:\n",
    "        return len(set(sentence)) == 26"
   ]
  },
  {
   "cell_type": "markdown",
   "id": "1c565240",
   "metadata": {},
   "source": [
    "1684"
   ]
  },
  {
   "cell_type": "code",
   "execution_count": 71,
   "id": "a264b1a4",
   "metadata": {},
   "outputs": [],
   "source": [
    "class Solution:\n",
    "    def countConsistentStrings(self, allowed: str, words: List[str]) -> int:\n",
    "        count = 0\n",
    "        flag = 0\n",
    "        for word in words:\n",
    "            flag = 0\n",
    "            for i in word:\n",
    "                if i not in allowed:\n",
    "                    flag = 1\n",
    "                    break\n",
    "            if flag:\n",
    "                continue\n",
    "            \n",
    "            count += 1\n",
    "        return count\n"
   ]
  },
  {
   "cell_type": "markdown",
   "id": "eac282d6",
   "metadata": {},
   "source": [
    "1859"
   ]
  },
  {
   "cell_type": "code",
   "execution_count": 72,
   "id": "28f96f0c",
   "metadata": {},
   "outputs": [],
   "source": [
    "class Solution:\n",
    "    def sortSentence(self, s: str) -> str:\n",
    "        a = s.split()\n",
    "        b = [0] * len(a)\n",
    "        for i in a:\n",
    "            b[int(i[-1]) - 1] = i[0:-1]\n",
    "        return \" \".join(b)"
   ]
  },
  {
   "cell_type": "markdown",
   "id": "71e7d771",
   "metadata": {},
   "source": [
    "557"
   ]
  },
  {
   "cell_type": "code",
   "execution_count": 73,
   "id": "c708f2ed",
   "metadata": {},
   "outputs": [],
   "source": [
    "class Solution:\n",
    "    def reverseWords(self, s: str) -> str:\n",
    "        # Split the input string into words and reverse each word\n",
    "        words = s.split()\n",
    "        reversed_words = [word[::-1] for word in words]\n",
    "\n",
    "        # Join the reversed words to form the final result\n",
    "        return ' '.join(reversed_words)"
   ]
  },
  {
   "cell_type": "markdown",
   "id": "b07e72d5",
   "metadata": {},
   "source": [
    "2864"
   ]
  },
  {
   "cell_type": "code",
   "execution_count": 74,
   "id": "8007398a",
   "metadata": {},
   "outputs": [],
   "source": [
    "class Solution:\n",
    "    def maximumOddBinaryNumber(self, s: str) -> str:\n",
    "        ones = 0\n",
    "        s = list(s)\n",
    "\n",
    "        for i in range(len(s)):\n",
    "            if s[i] == '1':\n",
    "                s[i] = '0'\n",
    "                ones += 1\n",
    "\n",
    "        if ones > 1:\n",
    "            for i in range(ones - 1):\n",
    "                s[i] = '1'\n",
    "        s[-1] = '1'\n",
    "\n",
    "        return ''.join(s)"
   ]
  },
  {
   "cell_type": "markdown",
   "id": "c2e2cd53",
   "metadata": {},
   "source": [
    "2828"
   ]
  },
  {
   "cell_type": "code",
   "execution_count": 75,
   "id": "02c2510a",
   "metadata": {},
   "outputs": [],
   "source": [
    "class Solution:\n",
    "    def isAcronym(self, words: List[str], s: str) -> bool:\n",
    "        x = []\n",
    "        for i in words:\n",
    "            if i:\n",
    "                x.append(i[0])\n",
    "\n",
    "        x = \"\".join(x)\n",
    "        if(x==s):\n",
    "            return(True)\n",
    "        else:\n",
    "            return(False)\n",
    "        "
   ]
  },
  {
   "cell_type": "markdown",
   "id": "d63a0f70",
   "metadata": {},
   "source": [
    "804"
   ]
  },
  {
   "cell_type": "code",
   "execution_count": 76,
   "id": "a4f7695b",
   "metadata": {},
   "outputs": [],
   "source": [
    "class Solution:\n",
    "    def uniqueMorseRepresentations(self, x: List[str]) -> int:\n",
    "        a=[\".-\",\"-...\",\"-.-.\",\"-..\",\".\",\"..-.\",\"--.\",\"....\",\"..\",\".---\",\"-.-\",\".-..\",\"--\",\"-.\",\"---\",\".--.\",\"--.-\",\".-.\",\"...\",\"-\",\"..-\",\"...-\",\".--\",\"-..-\",\"-.--\",\"--..\"]\n",
    "        return len(set([\"\".join([a[ord(i)-97] for i in j]) for j in x]))"
   ]
  },
  {
   "cell_type": "markdown",
   "id": "53e82057",
   "metadata": {},
   "source": [
    "1021"
   ]
  },
  {
   "cell_type": "code",
   "execution_count": 77,
   "id": "d04bb8c3",
   "metadata": {},
   "outputs": [],
   "source": [
    "class Solution:\n",
    "    def removeOuterParentheses(self, S: str) -> str:\n",
    "        res, opened = [], 0\n",
    "        for c in S:\n",
    "            if c == '(' and opened > 0: res.append(c)\n",
    "            if c == ')' and opened > 1: res.append(c)\n",
    "            opened += 1 if c == '(' else -1\n",
    "        \n",
    "        return \"\".join(res)"
   ]
  },
  {
   "cell_type": "markdown",
   "id": "48e975c2",
   "metadata": {},
   "source": [
    "1637"
   ]
  },
  {
   "cell_type": "code",
   "execution_count": 78,
   "id": "ae02c37d",
   "metadata": {},
   "outputs": [],
   "source": [
    "class Solution:\n",
    "    def maxWidthOfVerticalArea(self, points: List[List[int]]) -> int:\n",
    "\n",
    "        x_cor = [i for i,j in points]\n",
    "\n",
    "        x_cor.sort()\n",
    "        ans = 0\n",
    "\n",
    "        for i in range(len(x_cor)-1):\n",
    "            if ans < x_cor[i+1] - x_cor[i]:\n",
    "                ans = x_cor[i+1] - x_cor[i]  \n",
    "        return ans\n",
    "        "
   ]
  },
  {
   "cell_type": "markdown",
   "id": "0b27c0d2",
   "metadata": {},
   "source": [
    "2824"
   ]
  },
  {
   "cell_type": "code",
   "execution_count": 79,
   "id": "5158f25f",
   "metadata": {},
   "outputs": [],
   "source": [
    "class Solution:\n",
    "    def countPairs(self, nums: List[int], target: int) -> int:\n",
    "        import itertools\n",
    "        all_combinations = itertools.combinations(nums,2)\n",
    "        result = 0\n",
    "        for x,y in all_combinations:\n",
    "            if x + y < target:\n",
    "                result += 1\n",
    "        return result\n",
    "        "
   ]
  },
  {
   "cell_type": "markdown",
   "id": "1bbf2dcb",
   "metadata": {},
   "source": [
    "1365"
   ]
  },
  {
   "cell_type": "code",
   "execution_count": 80,
   "id": "ca1883a1",
   "metadata": {},
   "outputs": [],
   "source": [
    "class Solution:\n",
    "    def smallerNumbersThanCurrent(self, nums: List[int]) -> List[int]:\n",
    "        ans = []\n",
    "        for i in range(len(nums)):\n",
    "            cnt = 0\n",
    "            for j in range(len(nums)):\n",
    "                if i!=j and nums[i]>nums[j]:\n",
    "                    cnt+=1\n",
    "            ans.append(cnt)\n",
    "        return ans"
   ]
  },
  {
   "cell_type": "markdown",
   "id": "693c2028",
   "metadata": {},
   "source": [
    "2160"
   ]
  },
  {
   "cell_type": "code",
   "execution_count": 81,
   "id": "d62e708e",
   "metadata": {},
   "outputs": [],
   "source": [
    "class Solution:\n",
    "    def minimumSum(self, num: int) -> int:\n",
    "        n=[num//1000,(num//100)%10,(num//10)%10,num%10] #This line will convert the four digit no. into array \n",
    "        n.sort() #It will sort the digits in ascending order\n",
    "        return (n[0]*10+n[3])+(n[1]*10+n[2]) # Combination of first and last and the remaining two digits will give us the minimum value"
   ]
  },
  {
   "cell_type": "markdown",
   "id": "7e060207",
   "metadata": {},
   "source": [
    "2974"
   ]
  },
  {
   "cell_type": "code",
   "execution_count": 82,
   "id": "65e06dd4",
   "metadata": {},
   "outputs": [],
   "source": [
    "class Solution:\n",
    "    def numberGame(self, nums):\n",
    "        n = len(nums)\n",
    "\n",
    "        nums.sort()\n",
    "\n",
    "        i = 0\n",
    "\n",
    "        while i < n-1:\n",
    "            nums[i], nums[i+1] = nums[i+1], nums[i]\n",
    "            i += 2 \n",
    "\n",
    "        return nums"
   ]
  },
  {
   "cell_type": "markdown",
   "id": "57dbb773",
   "metadata": {},
   "source": [
    "101"
   ]
  },
  {
   "cell_type": "code",
   "execution_count": 83,
   "id": "a37be90a",
   "metadata": {},
   "outputs": [],
   "source": [
    "class TreeNode:\n",
    "    def __init__(self, val=0, left=None, right=None):\n",
    "        self.val = val\n",
    "        self.left = left\n",
    "        self.right = right\n",
    "class Solution:\n",
    "    def isSymmetric(self, root: Optional[TreeNode]) -> bool:\n",
    "        \n",
    "        def isSame(root1, root2):\n",
    "            if not root1 and not root2:\n",
    "                return True\n",
    "            if (not root1 and root2) or (root1 and not root2) or (root1.val != root2.val):\n",
    "                return False\n",
    "            left = isSame(root1.left, root2.right)\n",
    "            right = isSame(root1.right, root2.left)\n",
    "            return left and right\n",
    "        \n",
    "        if not root:\n",
    "            return True\n",
    "            \n",
    "        return isSame(root.left, root.right)"
   ]
  },
  {
   "cell_type": "markdown",
   "id": "2baf4f1e",
   "metadata": {},
   "source": [
    "104"
   ]
  },
  {
   "cell_type": "code",
   "execution_count": 84,
   "id": "6bfc29df",
   "metadata": {},
   "outputs": [],
   "source": [
    "# Definition for a binary tree node.\n",
    "# class TreeNode:\n",
    "#     def __init__(self, val=0, left=None, right=None):\n",
    "#         self.val = val\n",
    "#         self.left = left\n",
    "#         self.right = right\n",
    "# Definition for a binary tree node.\n",
    "# class TreeNode:\n",
    "#     def __init__(self, val=0, left=None, right=None):\n",
    "#         self.val = val\n",
    "#         self.left = left\n",
    "#         self.right = right\n",
    "class Solution:\n",
    "    def maxDepth(self, root: Optional[TreeNode]) -> int:\n",
    "        return 0 if not root else 1 + max(self.maxDepth(root.left),self.maxDepth(root.right))"
   ]
  },
  {
   "cell_type": "markdown",
   "id": "a7af6b28",
   "metadata": {},
   "source": [
    "118"
   ]
  },
  {
   "cell_type": "code",
   "execution_count": 85,
   "id": "b7a047c1",
   "metadata": {},
   "outputs": [],
   "source": [
    "class Solution:\n",
    "    def generate(self, numRows: int) -> List[List[int]]:\n",
    "        res = [[1]]\n",
    "\n",
    "        for _ in range(numRows - 1):\n",
    "            dummy_row = [0] + res[-1] + [0]\n",
    "            row = []\n",
    "\n",
    "            for i in range(len(res[-1]) + 1):\n",
    "                row.append(dummy_row[i] + dummy_row[i+1])\n",
    "            res.append(row)\n",
    "        \n",
    "        return res"
   ]
  },
  {
   "cell_type": "markdown",
   "id": "e2847192",
   "metadata": {},
   "source": [
    "121"
   ]
  },
  {
   "cell_type": "code",
   "execution_count": 86,
   "id": "251ba918",
   "metadata": {},
   "outputs": [],
   "source": [
    "class Solution:\n",
    "    def maxProfit(self, prices: List[int]) -> int:\n",
    "        buy_price = prices[0]\n",
    "        profit = 0\n",
    "\n",
    "        for p in prices[1:]:\n",
    "            if buy_price > p:\n",
    "                buy_price = p\n",
    "            \n",
    "            profit = max(profit, p - buy_price)\n",
    "        \n",
    "        return profit"
   ]
  },
  {
   "cell_type": "markdown",
   "id": "bd5e4507",
   "metadata": {},
   "source": [
    "136"
   ]
  },
  {
   "cell_type": "code",
   "execution_count": 87,
   "id": "dca5d4bd",
   "metadata": {},
   "outputs": [],
   "source": [
    "class Solution:\n",
    "    def singleNumber(self, nums: List[int]) -> int:\n",
    "        answer = 0\n",
    "        for num in nums:\n",
    "            answer ^= num\n",
    "        return answer"
   ]
  },
  {
   "cell_type": "markdown",
   "id": "e383ee03",
   "metadata": {},
   "source": [
    "141"
   ]
  },
  {
   "cell_type": "code",
   "execution_count": 88,
   "id": "4c4acf77",
   "metadata": {},
   "outputs": [],
   "source": [
    "# Definition for singly-linked list.\n",
    "class ListNode:\n",
    "    def __init__(self, x):\n",
    "        self.val = x\n",
    "        self.next = None\n",
    "\n",
    "class Solution:\n",
    "    def hasCycle(self, head: Optional[ListNode]) -> bool:\n",
    "        slow = head\n",
    "        fast = head\n",
    "\n",
    "        while fast and fast.next:\n",
    "            slow=slow.next\n",
    "            fast=fast.next.next\n",
    "            if slow==fast:\n",
    "                return True\n",
    "\n",
    "        return False"
   ]
  },
  {
   "cell_type": "markdown",
   "id": "8c77d125",
   "metadata": {},
   "source": [
    "160"
   ]
  },
  {
   "cell_type": "code",
   "execution_count": 89,
   "id": "f30085e8",
   "metadata": {},
   "outputs": [],
   "source": [
    "class Solution:\n",
    "    def getIntersectionNode(self, headA: ListNode, headB: ListNode) -> Optional[ListNode]:\n",
    "        stackA = ['A']\n",
    "        stackB = ['B']\n",
    "\n",
    "        while headA or headB:\n",
    "            if headA:\n",
    "                stackA.append(headA)\n",
    "                headA = headA.next\n",
    "\n",
    "            if headB:\n",
    "                stackB.append(headB)\n",
    "                headB = headB.next\n",
    "\n",
    "        prev = None\n",
    "        while stackA and stackB:\n",
    "            nodeA = stackA.pop(-1)\n",
    "            nodeB = stackB.pop(-1)\n",
    "\n",
    "            if nodeA != nodeB:\n",
    "                return prev\n",
    "\n",
    "            prev = nodeA"
   ]
  },
  {
   "cell_type": "markdown",
   "id": "14353790",
   "metadata": {},
   "source": [
    "169"
   ]
  },
  {
   "cell_type": "code",
   "execution_count": 90,
   "id": "d1b96f59",
   "metadata": {},
   "outputs": [],
   "source": [
    "class Solution:\n",
    "    def majorityElement(self, nums: List[int]) -> int:\n",
    "        hash = {}\n",
    "        res = majority = 0\n",
    "        \n",
    "        for n in nums:\n",
    "            hash[n] = 1 + hash.get(n, 0)\n",
    "            if hash[n] > majority:\n",
    "                res = n\n",
    "                majority = hash[n]\n",
    "        \n",
    "        return res"
   ]
  },
  {
   "cell_type": "markdown",
   "id": "0095d2ef",
   "metadata": {},
   "source": [
    "206"
   ]
  },
  {
   "cell_type": "code",
   "execution_count": 91,
   "id": "7395633a",
   "metadata": {},
   "outputs": [],
   "source": [
    "# Definition for singly-linked list.\n",
    "# class ListNode:\n",
    "#     def __init__(self, val=0, next=None):\n",
    "#         self.val = val\n",
    "#         self.next = next\n",
    "class Solution:\n",
    "    def reverseList(self, head: Optional[ListNode]) -> Optional[ListNode]:\n",
    "        temp = head\n",
    "        prev = None\n",
    "        front = None\n",
    "        while temp != None:\n",
    "            front = temp.next\n",
    "            temp.next = prev\n",
    "            prev = temp\n",
    "            temp = front\n",
    "\n",
    "        return prev\n"
   ]
  },
  {
   "cell_type": "code",
   "execution_count": 92,
   "id": "b1863595",
   "metadata": {},
   "outputs": [
    {
     "data": {
      "text/plain": [
       "226"
      ]
     },
     "execution_count": 92,
     "metadata": {},
     "output_type": "execute_result"
    }
   ],
   "source": [
    "226"
   ]
  },
  {
   "cell_type": "code",
   "execution_count": 93,
   "id": "212ab137",
   "metadata": {},
   "outputs": [],
   "source": [
    "# Definition for a binary tree node.\n",
    "# class TreeNode:\n",
    "#     def __init__(self, val=0, left=None, right=None):\n",
    "#         self.val = val\n",
    "#         self.left = left\n",
    "#         self.right = right\n",
    "class Solution:\n",
    "    def invertTree(self, root: Optional[TreeNode]) -> Optional[TreeNode]:\n",
    "        if root:\n",
    "            left = root.left\n",
    "            root.left = self.invertTree(root.right)\n",
    "            root.right = self.invertTree(left)\n",
    "        return root\n",
    "    "
   ]
  },
  {
   "cell_type": "markdown",
   "id": "61232e48",
   "metadata": {},
   "source": [
    "234"
   ]
  },
  {
   "cell_type": "code",
   "execution_count": 94,
   "id": "c633a465",
   "metadata": {},
   "outputs": [],
   "source": [
    "class Solution:\n",
    "    def isPalindrome(self, head: Optional[ListNode]) -> bool:\n",
    "        list_vals = []\n",
    "        stack = []\n",
    "        curr = head\n",
    "        while curr:\n",
    "            stack.append(curr.val)\n",
    "            curr = curr.next\n",
    "        curr = head\n",
    "        while curr and curr.val == stack.pop():\n",
    "            curr = curr.next\n",
    "        return curr is None"
   ]
  },
  {
   "cell_type": "markdown",
   "id": "1b538446",
   "metadata": {},
   "source": [
    "283"
   ]
  },
  {
   "cell_type": "code",
   "execution_count": 95,
   "id": "6ab36181",
   "metadata": {},
   "outputs": [],
   "source": [
    "class Solution:\n",
    "    def moveZeroes(self, nums: List[int]) -> None:\n",
    "        left = 0\n",
    "\n",
    "        for right in range(len(nums)):\n",
    "            if nums[right] != 0:\n",
    "                nums[right], nums[left] = nums[left], nums[right]\n",
    "                left += 1\n",
    "        \n",
    "        return nums"
   ]
  },
  {
   "cell_type": "markdown",
   "id": "8d92e686",
   "metadata": {},
   "source": [
    "543"
   ]
  },
  {
   "cell_type": "code",
   "execution_count": 96,
   "id": "c788ea34",
   "metadata": {},
   "outputs": [],
   "source": [
    "class Solution:\n",
    "    def diameterOfBinaryTree(self, root: Optional[TreeNode]) -> int:\n",
    "        # Define a recursive function to calculate the diameter\n",
    "        def diameter(node, res):\n",
    "            # Base case: if the node is None, return 0\n",
    "            if not node:\n",
    "                return 0\n",
    "            \n",
    "            # Recursively calculate the diameter of left and right subtrees\n",
    "            left = diameter(node.left, res)\n",
    "            right = diameter(node.right, res)\n",
    "\n",
    "            # Update the maximum diameter encountered so far\n",
    "            res[0] = max(res[0], left + right)\n",
    "            \n",
    "            # Return the depth of the current node\n",
    "            return max(left, right) + 1\n",
    "        \n",
    "        # Initialize a list to hold the maximum diameter encountered\n",
    "        res = [0]\n",
    "        # Call the diameter function starting from the root\n",
    "        diameter(root, res)\n",
    "        # Return the maximum diameter encountered\n",
    "        return res[0]"
   ]
  },
  {
   "cell_type": "markdown",
   "id": "e88aa4e0",
   "metadata": {},
   "source": [
    "704"
   ]
  },
  {
   "cell_type": "code",
   "execution_count": 97,
   "id": "53e409de",
   "metadata": {},
   "outputs": [],
   "source": [
    "class Solution:\n",
    "    def search(self, nums: List[int], target: int) -> int:\n",
    "        l=0\n",
    "        r =  len(nums) -1\n",
    "        while l <= r:\n",
    "            mid = l + ((r - l) // 2)\n",
    "            if nums[mid] > target:\n",
    "                r = mid - 1\n",
    "            elif nums[mid] < target:\n",
    "                l = mid + 1\n",
    "            else:\n",
    "                return mid\n",
    "        return -1 "
   ]
  },
  {
   "cell_type": "markdown",
   "id": "3de32c84",
   "metadata": {},
   "source": [
    "605"
   ]
  },
  {
   "cell_type": "code",
   "execution_count": 98,
   "id": "669890b6",
   "metadata": {},
   "outputs": [],
   "source": [
    "class Solution:\n",
    "    def canPlaceFlowers(self, flowerbed: List[int], n: int) -> bool:\n",
    "    \n",
    "        for i in range(len(flowerbed)):\n",
    "            left = i == 0 or flowerbed[i-1] == 0\n",
    "            right = i == len(flowerbed) - 1 or flowerbed[i+1] == 0\n",
    "\n",
    "            if left and right and flowerbed[i] == 0:\n",
    "                flowerbed[i] = 1\n",
    "                n -= 1\n",
    "        \n",
    "        return n <= 0"
   ]
  },
  {
   "cell_type": "markdown",
   "id": "33d30d95",
   "metadata": {},
   "source": [
    "617"
   ]
  },
  {
   "cell_type": "code",
   "execution_count": 99,
   "id": "b45f21ab",
   "metadata": {},
   "outputs": [],
   "source": [
    "\n",
    "class Solution:\n",
    "    def mergeTrees(self, root1: Optional[TreeNode], root2: Optional[TreeNode]) -> Optional[TreeNode]:\n",
    "\n",
    "        stack1 = [root1]\n",
    "        stack2 = [root2]\n",
    "        if not root1:\n",
    "            return root2\n",
    "\n",
    "        while stack1:\n",
    "            n1 = stack1.pop()\n",
    "            n2 = stack2.pop()\n",
    "\n",
    "            if n1 and n2:\n",
    "                n1.val += n2.val\n",
    "\n",
    "                if n2.left and not n1.left:\n",
    "                    n1.left = TreeNode()\n",
    "                if n2.right and not n1.right:\n",
    "                    n1.right = TreeNode()\n",
    "\n",
    "                stack1.append(n1.left)\n",
    "                stack1.append(n1.right)\n",
    "                stack2.append(n2.left)\n",
    "                stack2.append(n2.right)\n",
    "\n",
    "        return root1\n",
    "\n",
    "\n",
    "        "
   ]
  },
  {
   "cell_type": "markdown",
   "id": "90c1114e",
   "metadata": {},
   "source": [
    "628"
   ]
  },
  {
   "cell_type": "code",
   "execution_count": 100,
   "id": "982f7803",
   "metadata": {},
   "outputs": [],
   "source": [
    "class Solution:\n",
    "    def maximumProduct(self, nums: List[int]) -> int:\n",
    "        nums.sort()\n",
    "        return max(nums[-1]*nums[-2]*nums[-3],nums[0]*nums[1]*nums[-1])\n",
    "        #please do upvote as it makes me to code more."
   ]
  },
  {
   "cell_type": "markdown",
   "id": "37d64e52",
   "metadata": {},
   "source": [
    "637"
   ]
  },
  {
   "cell_type": "code",
   "execution_count": 101,
   "id": "ad660033",
   "metadata": {},
   "outputs": [],
   "source": [
    "# Definition for a binary tree node.\n",
    "# class TreeNode:\n",
    "#     def __init__(self, val=0, left=None, right=None):\n",
    "#         self.val = val\n",
    "#         self.left = left\n",
    "#         self.right = right\n",
    "class Solution:\n",
    "    def averageOfLevels(self, root: Optional[TreeNode]) -> List[float]:\n",
    "        level_sum, level_count = [], []\n",
    "        def dfs(root, height):\n",
    "            if not root:\n",
    "                return\n",
    "            if height > len(level_sum):\n",
    "                level_sum.append(root.val)\n",
    "                level_count.append(1)\n",
    "            else:\n",
    "                level_sum[height-1] += root.val\n",
    "                level_count[height-1] += 1\n",
    "            dfs(root.left, height+1)\n",
    "            dfs(root.right, height+1)\n",
    "\n",
    "        result = dfs(root, 1)\n",
    "        return [level_sum[i]/level_count[i] for i in range(len(level_sum))]"
   ]
  },
  {
   "cell_type": "markdown",
   "id": "ea517bab",
   "metadata": {},
   "source": [
    "613"
   ]
  },
  {
   "cell_type": "code",
   "execution_count": 102,
   "id": "ca072416",
   "metadata": {},
   "outputs": [],
   "source": [
    "class Solution:\n",
    "    def findMaxAverage(self, nums: List[int], k: int) -> float:\n",
    "        # Calculate the sum of the first k elements\n",
    "        max_sum = cur = sum(nums[:k])\n",
    "        \n",
    "        # Slide the window across the array\n",
    "        for i in range(len(nums) - k):\n",
    "            # Update the current sum by subtracting the element that goes out of the window\n",
    "            # and adding the new element that comes into the window\n",
    "            cur = cur - nums[i] + nums[i + k]\n",
    "            \n",
    "            # Update max_sum if the new current sum is larger\n",
    "            if cur > max_sum:\n",
    "                max_sum = cur\n",
    "        \n",
    "        # Calculate the maximum average\n",
    "        return max_sum / k"
   ]
  },
  {
   "cell_type": "markdown",
   "id": "5d32eeaf",
   "metadata": {},
   "source": [
    "645"
   ]
  },
  {
   "cell_type": "code",
   "execution_count": 103,
   "id": "4080ce39",
   "metadata": {},
   "outputs": [],
   "source": [
    "class Solution:\n",
    "    def findErrorNums(self, nums):\n",
    "        dup, missing = -1, -1\n",
    "        \n",
    "        for i in range(1, len(nums) + 1):\n",
    "            count = nums.count(i)\n",
    "            if count == 2:\n",
    "                dup = i\n",
    "            elif count == 0:\n",
    "                missing = i\n",
    "        \n",
    "        return [dup, missing]\n",
    "\n"
   ]
  },
  {
   "cell_type": "markdown",
   "id": "9fd87ee6",
   "metadata": {},
   "source": [
    "653"
   ]
  },
  {
   "cell_type": "code",
   "execution_count": 104,
   "id": "c966999c",
   "metadata": {},
   "outputs": [],
   "source": [
    "class Solution:\n",
    "    def findTarget(self, root: Optional[TreeNode], k: int) -> bool:\n",
    "        self.hash = {}\n",
    "        def dfs(node):\n",
    "            if node:\n",
    "                if node.val in self.hash:\n",
    "                    return True\n",
    "                self.hash[k - node.val] = 1\n",
    "                return dfs(node.left) or dfs(node.right)\n",
    "            \n",
    "        return dfs(root)"
   ]
  },
  {
   "cell_type": "markdown",
   "id": "294f5e5e",
   "metadata": {},
   "source": [
    "657"
   ]
  },
  {
   "cell_type": "code",
   "execution_count": 105,
   "id": "52003cb9",
   "metadata": {},
   "outputs": [],
   "source": [
    "class Solution:\n",
    "    def judgeCircle(self, moves: str) -> bool:\n",
    "        def move(a,i,j):\n",
    "            if(a=='L'):\n",
    "                j-=1\n",
    "            elif(a=='R'):\n",
    "                j+=1\n",
    "            elif(a=='U'):\n",
    "                i-=1\n",
    "            else:\n",
    "                i+=1\n",
    "            return i,j\n",
    "        i=j=0\n",
    "        for a in moves:\n",
    "            i,j=move(a,i,j)\n",
    "        return i==0 and j==0\n",
    "\n",
    "            "
   ]
  },
  {
   "cell_type": "markdown",
   "id": "0421575f",
   "metadata": {},
   "source": [
    "661\n"
   ]
  },
  {
   "cell_type": "code",
   "execution_count": 106,
   "id": "9be03998",
   "metadata": {},
   "outputs": [],
   "source": [
    "class Solution:\n",
    "    def imageSmoother(self, img: List[List[int]]) -> List[List[int]]:\n",
    "        rows, cols = len(img), len(img[0])\n",
    "        result = [[0] * cols for _ in range(rows)]\n",
    "\n",
    "        for i in range(rows):\n",
    "            for j in range(cols):\n",
    "                total_sum = 0\n",
    "                count = 0\n",
    "\n",
    "                for x in range(max(0, i-1), min(rows, i+2)):\n",
    "                    for y in range(max(0, j-1), min(cols, j+2)):\n",
    "                        total_sum += img[x][y]\n",
    "                        count += 1\n",
    "\n",
    "                result[i][j] = total_sum // count\n",
    "\n",
    "        return result"
   ]
  },
  {
   "cell_type": "markdown",
   "id": "0da3d827",
   "metadata": {},
   "source": [
    "671"
   ]
  },
  {
   "cell_type": "code",
   "execution_count": 107,
   "id": "f4333775",
   "metadata": {},
   "outputs": [],
   "source": [
    "class Solution:\n",
    "    def findSecondMinimumValue(self, root: Optional[TreeNode]) -> int:\n",
    "        if not root:\n",
    "            return -1\n",
    "\n",
    "        stack = [root]\n",
    "        first_min = float('inf')\n",
    "        second_min = float('inf')\n",
    "\n",
    "        while stack:\n",
    "            current = stack.pop()\n",
    "            if current.val < first_min:\n",
    "                second_min = first_min\n",
    "                first_min = current.val\n",
    "            elif current.val < second_min and current.val != first_min:\n",
    "                second_min = current.val\n",
    "\n",
    "            if current.left:\n",
    "                stack.append(current.left)\n",
    "            \n",
    "            if current.right:\n",
    "                stack.append(current.right)\n",
    "            \n",
    "        \n",
    "        return second_min if second_min != float('inf') else -1"
   ]
  },
  {
   "cell_type": "markdown",
   "id": "fb1b5528",
   "metadata": {},
   "source": [
    "674"
   ]
  },
  {
   "cell_type": "code",
   "execution_count": 110,
   "id": "26f0f549",
   "metadata": {},
   "outputs": [],
   "source": [
    "class Solution:\n",
    "    def findLengthOfLCIS(self, nums: List[int]) -> int:\n",
    "        res = 1\n",
    "        temp = 1\n",
    "        prev = nums[0]\n",
    "        for num in nums:\n",
    "            if num > prev:\n",
    "                temp += 1\n",
    "            else:\n",
    "                if temp > res:\n",
    "                    res = temp\n",
    "                temp = 1\n",
    "            prev = num\n",
    "        return max(res, temp)"
   ]
  },
  {
   "cell_type": "markdown",
   "id": "fba6337c",
   "metadata": {},
   "source": [
    "680"
   ]
  },
  {
   "cell_type": "code",
   "execution_count": 111,
   "id": "c48e301a",
   "metadata": {},
   "outputs": [],
   "source": [
    "class Solution:\n",
    "    def validPalindrome(self, s: str) -> bool:\n",
    "            p1=0\n",
    "            p2=len(s)-1\n",
    "            while p1<=p2:\n",
    "                if s[p1]!=s[p2]:\n",
    "                    string1=s[:p1]+s[p1+1:]\n",
    "                    string2=s[:p2]+s[p2+1:]\n",
    "                    return string1==string1[::-1] or string2==string2[::-1]\n",
    "                p1+=1\n",
    "                p2-=1\n",
    "            return True"
   ]
  },
  {
   "cell_type": "markdown",
   "id": "e1225a5f",
   "metadata": {},
   "source": [
    "682"
   ]
  },
  {
   "cell_type": "code",
   "execution_count": 112,
   "id": "a2e5f9dd",
   "metadata": {},
   "outputs": [],
   "source": [
    "class Solution:\n",
    "    def calPoints(self, operations: List[str]) -> int:\n",
    "        record = []\n",
    "        for i in operations:\n",
    "            if i.isdigit() or (i.startswith('-') and i[1:].isdigit()):\n",
    "                record.append(int(i))\n",
    "            elif i == \"C\":\n",
    "                if record:\n",
    "                    record.pop()\n",
    "            elif i == \"D\":\n",
    "                if record:\n",
    "                    record.append(record[-1]*2)\n",
    "            elif i == \"+\":\n",
    "                if len(record) >= 2:\n",
    "                    record.append(record[-1] + record[-2])        \n",
    "        return sum(record)"
   ]
  },
  {
   "cell_type": "markdown",
   "id": "a497482d",
   "metadata": {},
   "source": [
    "693"
   ]
  },
  {
   "cell_type": "code",
   "execution_count": 113,
   "id": "6130c11d",
   "metadata": {},
   "outputs": [],
   "source": [
    "class Solution:\n",
    "    def hasAlternatingBits(self, n: int) -> bool:\n",
    "        d = bin(n)[2:]\n",
    "        s = str(d)\n",
    "        u = s[::2]\n",
    "        g = s[1::2]\n",
    "        if(n==1 or n==0):\n",
    "            return True\n",
    "        if(set(u)== {'0'} and set(g)=={'1'}) or (set(u)== {'1'} and set(g)=={'0'}) :\n",
    "            return True\n",
    "        else:\n",
    "            return False\n",
    "        \n",
    "        "
   ]
  },
  {
   "cell_type": "markdown",
   "id": "a08106b0",
   "metadata": {},
   "source": [
    "696"
   ]
  },
  {
   "cell_type": "code",
   "execution_count": 114,
   "id": "3799f79b",
   "metadata": {},
   "outputs": [],
   "source": [
    "class Solution:\n",
    "    def countBinarySubstrings(self, s: str) -> int:\n",
    "        last = s[0]\n",
    "        curcount = 1\n",
    "        prevcount = 0\n",
    "\n",
    "        ret = 0\n",
    "        for i in s[1:]:\n",
    "            if i == last:\n",
    "                curcount += 1\n",
    "            else:\n",
    "                ret += min(curcount, prevcount)\n",
    "                prevcount = curcount\n",
    "                curcount = 1\n",
    "                last = i\n",
    "\n",
    "        ret += min(curcount, prevcount)\n",
    "\n",
    "        return ret"
   ]
  },
  {
   "cell_type": "markdown",
   "id": "47fa282e",
   "metadata": {},
   "source": [
    "697"
   ]
  },
  {
   "cell_type": "code",
   "execution_count": 115,
   "id": "c9ae70d3",
   "metadata": {},
   "outputs": [],
   "source": [
    "class Solution:\n",
    "    def findShortestSubArray(self, nums: List[int]) -> int:\n",
    "        test = Counter(nums)\n",
    "\n",
    "        max_freq = max(test.values())\n",
    "        if max_freq == 1:\n",
    "            return 1\n",
    "        numb=[]\n",
    "\n",
    "        for key, value in test.items():\n",
    "            if max_freq == value:\n",
    "                numb.append(key)\n",
    "\n",
    "        #now lets find the biggest freq:\n",
    "        for i in range(len(numb)):\n",
    "            target = numb[i]\n",
    "            start = 0\n",
    "            end = 0\n",
    "\n",
    "            #start loop\n",
    "            for j in range(len(nums)):\n",
    "                if nums[j] == target:\n",
    "                    start = j\n",
    "                    break\n",
    "\n",
    "            #end loop\n",
    "            for j in range(len(nums)-1,-1,-1):\n",
    "                if nums[j] == target:\n",
    "                    end = j\n",
    "                    break\n",
    "\n",
    "            numb[i] = (end-start)+1\n",
    "\n",
    "        return min(numb)\n",
    "\n",
    "\n",
    "\n",
    "        "
   ]
  },
  {
   "cell_type": "markdown",
   "id": "f710fab3",
   "metadata": {},
   "source": [
    "700"
   ]
  },
  {
   "cell_type": "code",
   "execution_count": 116,
   "id": "a9293a2a",
   "metadata": {},
   "outputs": [],
   "source": [
    "# Definition for a binary tree node.\n",
    "# class TreeNode:\n",
    "#     def __init__(self, val=0, left=None, right=None):\n",
    "#         self.val = val\n",
    "#         self.left = left\n",
    "#         self.right = right\n",
    "class Solution:\n",
    "    def searchBST(self, root: Optional[TreeNode], val: int) -> Optional[TreeNode]:\n",
    "        # null check && considering serching value is not available in the tree\n",
    "        if not root:\n",
    "            return\n",
    "        # considering the serching value is in right side of the tree\n",
    "        if val>root.val:\n",
    "            return self.searchBST(root.right,val)\n",
    "        # considering the serching value is in right side of the tree\n",
    "        elif val<root.val:\n",
    "            return self.searchBST(root.left,val)\n",
    "        #return if value exist \n",
    "        return root       \n",
    "        "
   ]
  },
  {
   "cell_type": "markdown",
   "id": "b613cd5f",
   "metadata": {},
   "source": [
    "703"
   ]
  },
  {
   "cell_type": "code",
   "execution_count": 117,
   "id": "d8426756",
   "metadata": {},
   "outputs": [],
   "source": [
    "class KthLargest:\n",
    "    def __init__(self, k: int, nums: List[int]):\n",
    "        self.minHeap, self.k = nums, k\n",
    "        heapq.heapify(self.minHeap)\n",
    "\n",
    "        while len(self.minHeap) > k:\n",
    "            heapq.heappop(self.minHeap)\n",
    "        \n",
    "    def add(self, val: int) -> int:\n",
    "        heapq.heappush(self.minHeap, val)\n",
    "\n",
    "        if self.k < len(self.minHeap):\n",
    "            heapq.heappop(self.minHeap)\n",
    "\n",
    "        return self.minHeap[0]"
   ]
  },
  {
   "cell_type": "markdown",
   "id": "2586c430",
   "metadata": {},
   "source": [
    "705"
   ]
  },
  {
   "cell_type": "code",
   "execution_count": 118,
   "id": "a31b08bc",
   "metadata": {},
   "outputs": [],
   "source": [
    "class MyHashSet:\n",
    "\n",
    "    def __init__(self):\n",
    "        self.mp=defaultdict(int)\n",
    "        \n",
    "\n",
    "    def add(self, key: int) -> None:\n",
    "        self.mp[key]=True\n",
    "        \n",
    "\n",
    "    def remove(self, key: int) -> None:\n",
    "        self.mp[key]=False\n",
    "\n",
    "    def contains(self, key: int) -> bool:\n",
    "        return self.mp[key]\n",
    "        "
   ]
  },
  {
   "cell_type": "markdown",
   "id": "8436e37e",
   "metadata": {},
   "source": [
    "706"
   ]
  },
  {
   "cell_type": "code",
   "execution_count": 119,
   "id": "ae535202",
   "metadata": {},
   "outputs": [],
   "source": [
    "class MyHashMap:\n",
    "    def __init__(self):\n",
    "        self.keys = []\n",
    "        self.values = []\n",
    "\n",
    "    def put(self, key: int, value: int) -> None:\n",
    "        try:\n",
    "            pos = self.keys.index(key)\n",
    "            self.values[pos] = value\n",
    "        except ValueError:\n",
    "            self.keys.append(key)\n",
    "            self.values.append(value)\n",
    "\n",
    "    def get(self, key: int) -> int:\n",
    "        try:\n",
    "            pos = self.keys.index(key)\n",
    "            return self.values[pos]\n",
    "        except ValueError:\n",
    "            return -1\n",
    "\n",
    "    def remove(self, key: int) -> None:\n",
    "        if key in self.keys:\n",
    "            pos = self.keys.index(key)\n",
    "            self.keys[pos] = None"
   ]
  },
  {
   "cell_type": "markdown",
   "id": "69d4af43",
   "metadata": {},
   "source": [
    "717"
   ]
  },
  {
   "cell_type": "code",
   "execution_count": 123,
   "id": "8bddd482",
   "metadata": {},
   "outputs": [],
   "source": [
    "class Solution:\n",
    "    def isOneBitCharacter(self, bits: List[int]) -> bool:\n",
    "        i = 0\n",
    "        while i < len(bits) - 1:\n",
    "            if bits[i] == 0:\n",
    "                i += 1\n",
    "            else:\n",
    "                i += 2\n",
    "\n",
    "        return i == len(bits) - 1        "
   ]
  },
  {
   "cell_type": "markdown",
   "id": "25ccaea5",
   "metadata": {},
   "source": [
    "724"
   ]
  },
  {
   "cell_type": "code",
   "execution_count": 122,
   "id": "95330b90",
   "metadata": {},
   "outputs": [],
   "source": [
    "class Solution:\n",
    "    def pivotIndex(self, nums: List[int]) -> int:\n",
    "        total = sum(nums)\n",
    "        left_total = 0\n",
    "\n",
    "        for i in range(len(nums)):\n",
    "            right_total = total - left_total - nums[i]\n",
    "\n",
    "            if right_total == left_total:\n",
    "                return i\n",
    "            \n",
    "            left_total += nums[i]\n",
    "        \n",
    "        return -1"
   ]
  },
  {
   "cell_type": "markdown",
   "id": "06b8cf3c",
   "metadata": {},
   "source": [
    "728"
   ]
  },
  {
   "cell_type": "code",
   "execution_count": null,
   "id": "ee1ef094",
   "metadata": {},
   "outputs": [],
   "source": [
    "class Solution:\n",
    "    def selfDividingNumbers(self, left: int, right: int) -> List[int]:\n",
    "        w=[]\n",
    "        c=0\n",
    "        for i in range(left,right+1,1):\n",
    "            c=0\n",
    "            s=str(i)\n",
    "            for j in s:\n",
    "                j=int(j)\n",
    "                if j!=0 and i%j==0:\n",
    "                    c+=1\n",
    "            if c==len(s):\n",
    "                w.append(i)\n",
    "        return w\n",
    "          "
   ]
  },
  {
   "cell_type": "markdown",
   "id": "903ff98f",
   "metadata": {},
   "source": [
    "733"
   ]
  },
  {
   "cell_type": "code",
   "execution_count": 121,
   "id": "e793e6f1",
   "metadata": {},
   "outputs": [],
   "source": [
    "class Solution:\n",
    "    def floodFill(self, image: List[List[int]], sr: int, sc: int, color: int) -> List[List[int]]:\n",
    "        \n",
    "        start_color = image[sr][sc]\n",
    "        \n",
    "        def flood_fill(x, y):\n",
    "            if x < 0 or x >= len(image): return\n",
    "            if y < 0 or y >= len(image[0]): return\n",
    "            \n",
    "            if image[x][y] == color: return\n",
    "            if image[x][y] != start_color: return\n",
    "            \n",
    "            image[x][y] = color\n",
    "            \n",
    "            flood_fill(x-1, y)\n",
    "            flood_fill(x+1, y)\n",
    "            flood_fill(x, y+1)\n",
    "            flood_fill(x, y-1)\n",
    "        \n",
    "        flood_fill(sr, sc)\n",
    "        return image"
   ]
  },
  {
   "cell_type": "markdown",
   "id": "79c7c63e",
   "metadata": {},
   "source": [
    "744"
   ]
  },
  {
   "cell_type": "code",
   "execution_count": 120,
   "id": "87bbbe4d",
   "metadata": {},
   "outputs": [],
   "source": [
    "class Solution:\n",
    "    def nextGreatestLetter(self, letters: List[str], target: str) -> str:\n",
    "        idx = bisect_right(letters, target)\n",
    "        return letters[idx] if idx < len(letters) else letters[0]"
   ]
  },
  {
   "cell_type": "markdown",
   "id": "e0259fb9",
   "metadata": {},
   "source": [
    "746"
   ]
  },
  {
   "cell_type": "code",
   "execution_count": 128,
   "id": "a7da490f",
   "metadata": {},
   "outputs": [],
   "source": [
    "class Solution:\n",
    "    def minCostClimbingStairs(self, cost: List[int]) -> int:\n",
    "        cost.append(0) # top [10,15,20,0]\n",
    "        \n",
    "        for i in range(len(cost) - 4, -1, -1):\n",
    "            cost[i] += min(cost[i+1], cost[i+2])\n",
    "            \n",
    "        return min(cost[0], cost[1])"
   ]
  },
  {
   "cell_type": "markdown",
   "id": "970e5177",
   "metadata": {},
   "source": [
    "747"
   ]
  },
  {
   "cell_type": "code",
   "execution_count": 129,
   "id": "72cd2f61",
   "metadata": {},
   "outputs": [],
   "source": [
    "class Solution:\n",
    "    def dominantIndex(self, nums: List[int]) -> int:\n",
    "        maxVal=max(nums)\n",
    "        maxIndex=nums.index(maxVal)\n",
    "\n",
    "        for num in nums:\n",
    "            if maxVal<2*num and num!=maxVal:\n",
    "                return -1\n",
    "            \n",
    "        return maxIndex\n",
    "           \n",
    "        "
   ]
  },
  {
   "cell_type": "markdown",
   "id": "c2c2850c",
   "metadata": {},
   "source": [
    "748"
   ]
  },
  {
   "cell_type": "code",
   "execution_count": 130,
   "id": "0262c14b",
   "metadata": {},
   "outputs": [],
   "source": [
    "class Solution:\n",
    "    def shortestCompletingWord(self, licensePlate: str, words: List[str]) -> str:\n",
    "        hidden = []\n",
    "        def hidden_alphabets():\n",
    "            for i in range(len(licensePlate)):\n",
    "                if not licensePlate[i].isdigit():\n",
    "                    if licensePlate[i] != \" \":  \n",
    "                        hidden.append(licensePlate[i].lower())\n",
    "        hidden_alphabets()\n",
    "        index = -1\n",
    "        minimum = float(\"inf\")\n",
    "        flag = False\n",
    "        for i,word in enumerate(words):\n",
    "            flag = False\n",
    "            for one_hidden_alphabet in hidden:\n",
    "                if one_hidden_alphabet in word:\n",
    "                    word = word.replace(one_hidden_alphabet,'', 1)\n",
    "                else:\n",
    "                    flag = True\n",
    "                    break\n",
    "            if minimum > len(word) and not flag:\n",
    "                minimum = len(word)\n",
    "                index = i \n",
    "        return words[index]"
   ]
  },
  {
   "cell_type": "markdown",
   "id": "ab1ed76f",
   "metadata": {},
   "source": [
    "762"
   ]
  },
  {
   "cell_type": "code",
   "execution_count": 131,
   "id": "c7771537",
   "metadata": {},
   "outputs": [],
   "source": [
    "class Solution:\n",
    "    def countPrimeSetBits(self, left: int, right: int) -> int:\n",
    "        primes = {2, 3, 5, 7, 11, 13, 17, 19}\n",
    "        c = 0\n",
    "\n",
    "        for i in range(left, right + 1):\n",
    "            if i.bit_count() in primes:\n",
    "                c += 1\n",
    "                \n",
    "        return c"
   ]
  },
  {
   "cell_type": "markdown",
   "id": "7b701b53",
   "metadata": {},
   "source": [
    "766"
   ]
  },
  {
   "cell_type": "code",
   "execution_count": 132,
   "id": "391da65e",
   "metadata": {},
   "outputs": [],
   "source": [
    "def isToeplitzMatrix(self, matrix: List[List[int]]) -> bool:\n",
    "        for i in range(1,len(matrix)):\n",
    "            for j in range(1,len(matrix[0])):\n",
    "                if matrix[i-1][j-1] != matrix[i][j]:\n",
    "                    return False\n",
    "        return True"
   ]
  },
  {
   "cell_type": "markdown",
   "id": "9c1f6122",
   "metadata": {},
   "source": [
    "783"
   ]
  },
  {
   "cell_type": "code",
   "execution_count": 133,
   "id": "c50300a1",
   "metadata": {},
   "outputs": [],
   "source": [
    "class Solution:\n",
    "    def minDiffInBST(self, root: Optional[TreeNode]) -> int:\n",
    "        minSoFar = float('inf')\n",
    "        prev = float('-inf')\n",
    "\n",
    "        def recur(node):\n",
    "            nonlocal minSoFar\n",
    "            nonlocal prev\n",
    "            \n",
    "            if not node:\n",
    "                return \n",
    "            \n",
    "            recur(node.left)\n",
    "            minSoFar = min(minSoFar, node.val - prev)\n",
    "            prev = node.val\n",
    "            recur(node.right)\n",
    "\n",
    "        recur(root)\n",
    "        return minSoFar"
   ]
  },
  {
   "cell_type": "markdown",
   "id": "36742c8f",
   "metadata": {},
   "source": [
    "796"
   ]
  },
  {
   "cell_type": "code",
   "execution_count": 134,
   "id": "8760afea",
   "metadata": {},
   "outputs": [],
   "source": [
    "class Solution:\n",
    "    def rotateString(self, s: str, goal: str) -> bool:\n",
    "        return len(s) == len(goal) and s in goal+goal "
   ]
  },
  {
   "cell_type": "markdown",
   "id": "30dee738",
   "metadata": {},
   "source": [
    "806"
   ]
  },
  {
   "cell_type": "code",
   "execution_count": 135,
   "id": "fb881289",
   "metadata": {},
   "outputs": [],
   "source": [
    "class Solution:\n",
    "    def numberOfLines(self, widths: List[int], s: str) -> List[int]:\n",
    "        tot=0\n",
    "        lines=0\n",
    "        for i in s:\n",
    "            if tot+widths[ord(i)-97]>100:\n",
    "                tot=0\n",
    "                lines+=1\n",
    "            tot+=widths[ord(i)-97]\n",
    "        return [lines+1,tot]     "
   ]
  },
  {
   "cell_type": "markdown",
   "id": "d77c23f0",
   "metadata": {},
   "source": [
    "812"
   ]
  },
  {
   "cell_type": "code",
   "execution_count": 136,
   "id": "fb5eea15",
   "metadata": {},
   "outputs": [],
   "source": [
    "class Solution:\n",
    "    def largestTriangleArea(self, points: List[List[int]]) -> float:\n",
    "\n",
    "    \n",
    "        return max(abs(0.5*(x1*(y2-y3)+x2*(y3-y1)+x3*(y1-y2))) for [x1,y1], [x2,y2], [x3,y3] in combinations(points, 3))\n",
    "\n",
    "\n",
    "\n",
    "\n"
   ]
  },
  {
   "cell_type": "markdown",
   "id": "ada46ad8",
   "metadata": {},
   "source": [
    "819"
   ]
  },
  {
   "cell_type": "code",
   "execution_count": 137,
   "id": "10304d7f",
   "metadata": {},
   "outputs": [],
   "source": [
    "class Solution:\n",
    "    def mostCommonWord(self, s: str, banned: List[str]) -> str:\n",
    "        k = \"!?',;.\"\n",
    "\n",
    "        s = s.lower()\n",
    "        for char in k:\n",
    "            s = s.replace(char, ' ')\n",
    "\n",
    "        co = Counter(s.split())\n",
    "\n",
    "        mc = \"\"\n",
    "        mf = 0\n",
    "\n",
    "        for c, f in co.items():\n",
    "            if c not in banned and f > mf:\n",
    "                mc = c\n",
    "                mf = f\n",
    "\n",
    "        return mc\n"
   ]
  },
  {
   "cell_type": "markdown",
   "id": "fe33fe49",
   "metadata": {},
   "source": [
    "821"
   ]
  },
  {
   "cell_type": "code",
   "execution_count": 138,
   "id": "7595a022",
   "metadata": {},
   "outputs": [],
   "source": [
    "class Solution:\n",
    "    def shortestToChar(self, s: str, c: str) -> List[int]:\n",
    "        a,n=[],len(s)\n",
    "        for i in range(n):\n",
    "            if s[i]==c:\n",
    "                a.append(i)\n",
    "        answer=[]\n",
    "        j=0\n",
    "        for i in range(n):\n",
    "            if s[i]==c:\n",
    "                answer.append(0)\n",
    "                j+=1\n",
    "            elif i<a[0]:\n",
    "                answer.append(a[0]-i)\n",
    "            elif i>a[-1]:\n",
    "                answer.append(i-a[-1])\n",
    "            else:\n",
    "                answer.append(min((a[j]-i),(i-a[j-1])))\n",
    "        return answer"
   ]
  },
  {
   "cell_type": "markdown",
   "id": "4525620b",
   "metadata": {},
   "source": [
    "824"
   ]
  },
  {
   "cell_type": "code",
   "execution_count": 139,
   "id": "24c96037",
   "metadata": {},
   "outputs": [],
   "source": [
    "class Solution:\n",
    "    def toGoatLatin(self, sentence: str) -> str:\n",
    "        w = sentence.split()\n",
    "        l=[]\n",
    "        v=[]\n",
    "        for i in w:\n",
    "            a = 1*i \n",
    "            if(i[0]=='a'or i[0]=='e'or i[0]=='i' or i[0]=='o' or i[0]=='u' or    i[0]=='A'or i[0]=='E'or i[0]=='I' or i[0]=='O' or i[0]=='U'):\n",
    "                i = i+\"ma\"\n",
    "                l.append(i)\n",
    "            else:\n",
    "                w = i[1:]+i[0]+\"ma\"\n",
    "                l.append(w)\n",
    "        for i in range(len(l)):\n",
    "            q = l[i]+\"a\"*(i+1)\n",
    "            v.append(q)\n",
    "        m = \" \".join(v)\n",
    "\n",
    "        \n",
    "        return m\n",
    "        "
   ]
  },
  {
   "cell_type": "markdown",
   "id": "334f757b",
   "metadata": {},
   "source": [
    "832"
   ]
  },
  {
   "cell_type": "code",
   "execution_count": 140,
   "id": "8d6f0f64",
   "metadata": {},
   "outputs": [],
   "source": [
    "class Solution:\n",
    "    def flipAndInvertImage(self, image: List[List[int]]) -> List[List[int]]:\n",
    "        n = len(image)\n",
    "        for i in range(n):\n",
    "            for j in range((n + 1) // 2):\n",
    "                temp = image[i][j]\n",
    "                image[i][j] = image[i][n - j - 1] ^ 1\n",
    "                image[i][n - j - 1] = temp ^ 1\n",
    "                \n",
    "        return image"
   ]
  },
  {
   "cell_type": "markdown",
   "id": "8cf3a88a",
   "metadata": {},
   "source": [
    "836"
   ]
  },
  {
   "cell_type": "code",
   "execution_count": 141,
   "id": "a5a74a50",
   "metadata": {},
   "outputs": [],
   "source": [
    "class Solution:\n",
    "    def isRectangleOverlap(self, A: List[int], B: List[int]) -> bool:\n",
    "        return A[2] > B[0] and A[3] > B[1] and B[2] > A[0] and B[3] > A[1]"
   ]
  },
  {
   "cell_type": "markdown",
   "id": "e963c4cb",
   "metadata": {},
   "source": [
    "844"
   ]
  },
  {
   "cell_type": "code",
   "execution_count": 142,
   "id": "7dea9470",
   "metadata": {},
   "outputs": [],
   "source": [
    "class Solution:\n",
    "    def backspaceCompare(self, s: str, t: str) -> bool:\n",
    "        text_s = \"\"\n",
    "        text_t = \"\"\n",
    "        for letter in s:\n",
    "            if letter != \"#\":\n",
    "                text_s += letter\n",
    "            else:\n",
    "                text_s = text_s[:-1]\n",
    "        for letter in t:\n",
    "            if letter != \"#\":\n",
    "                text_t += letter\n",
    "            else:\n",
    "                text_t = text_t[:-1]\n",
    "        return text_s == text_t"
   ]
  },
  {
   "cell_type": "markdown",
   "id": "041170a8",
   "metadata": {},
   "source": [
    "859"
   ]
  },
  {
   "cell_type": "code",
   "execution_count": 143,
   "id": "9881009a",
   "metadata": {},
   "outputs": [],
   "source": [
    "class Solution:\n",
    "    def buddyStrings(self, s: str, goal: str) -> bool:\n",
    "        ns = len(s)\n",
    "        ng = len(goal)\n",
    "\n",
    "        if ns != ng:\n",
    "            return False\n",
    "\n",
    "        if s == goal:\n",
    "            farr = [0] * 26\n",
    "            for ch in s:\n",
    "                farr[ord(ch) - ord('a')] += 1\n",
    "            \n",
    "            for count in farr:\n",
    "                if count > 1:\n",
    "                    return True\n",
    "            \n",
    "            return False\n",
    "\n",
    "        ans = []\n",
    "        for i in range(ns):\n",
    "            if s[i] != goal[i]:\n",
    "                ans.append(i)\n",
    "                if len(ans) > 2:\n",
    "                    return False\n",
    "\n",
    "        return len(ans) == 2 and s[ans[0]] == goal[ans[1]] and s[ans[1]] == goal[ans[0]]"
   ]
  },
  {
   "cell_type": "markdown",
   "id": "54657fe2",
   "metadata": {},
   "source": [
    "860"
   ]
  },
  {
   "cell_type": "code",
   "execution_count": 144,
   "id": "72b55c2c",
   "metadata": {},
   "outputs": [],
   "source": [
    "class Solution:\n",
    "    def lemonadeChange(self, bills: List[int]) -> bool:\n",
    "        salary = {5: 0, 10: 0}\n",
    "\n",
    "        for i in bills:\n",
    "            if i == 5:\n",
    "                salary[5] += 1\n",
    "            elif i == 10:\n",
    "                if salary[5] == 0:\n",
    "                    return False\n",
    "                salary[5] -= 1\n",
    "                salary[10] += 1\n",
    "            elif i == 20:\n",
    "                if salary[10] > 0 and salary[5] > 0:\n",
    "                    salary[10] -= 1\n",
    "                    salary[5] -= 1\n",
    "                elif salary[5] >= 3:\n",
    "                    salary[5] -= 3\n",
    "                else:\n",
    "                    return False\n",
    "        \n",
    "        return True"
   ]
  },
  {
   "cell_type": "markdown",
   "id": "54f0079f",
   "metadata": {},
   "source": [
    "867"
   ]
  },
  {
   "cell_type": "code",
   "execution_count": 145,
   "id": "7dc1db6e",
   "metadata": {},
   "outputs": [],
   "source": [
    "class Solution:\n",
    "    def transpose(self, matrix: List[List[int]]) -> List[List[int]]:\n",
    "        res = [[0] * len(matrix) for _ in range(len(matrix[0]))]\n",
    "\n",
    "        for r in range(len(matrix)):\n",
    "            for c in range(len(matrix[0])):\n",
    "                res[c][r] = matrix[r][c]\n",
    "        \n",
    "        return res"
   ]
  },
  {
   "cell_type": "markdown",
   "id": "dfb4697d",
   "metadata": {},
   "source": [
    "868"
   ]
  },
  {
   "cell_type": "code",
   "execution_count": 146,
   "id": "75b37935",
   "metadata": {},
   "outputs": [],
   "source": [
    "class Solution:\n",
    "    def binaryGap(self, n: int) -> int:\n",
    "        a = bin(n)[2:]\n",
    "        ans = 0\n",
    "        count = 0\n",
    "        check = False\n",
    "        for i in range(len(a)):\n",
    "            if not check and a[i] == \"1\":\n",
    "                check = True\n",
    "            elif check and a[i] != \"1\":\n",
    "                count +=1\n",
    "            elif check and a[i] == \"1\":\n",
    "                count +=1\n",
    "                ans = max(ans, count)\n",
    "                count = 0\n",
    "        return ans"
   ]
  },
  {
   "cell_type": "markdown",
   "id": "814b0bfb",
   "metadata": {},
   "source": [
    "872"
   ]
  },
  {
   "cell_type": "code",
   "execution_count": 147,
   "id": "e4e52b93",
   "metadata": {},
   "outputs": [],
   "source": [
    "# Definition for a binary tree node.\n",
    "# class TreeNode:\n",
    "#     def __init__(self, val=0, left=None, right=None):\n",
    "#         self.val = val\n",
    "#         self.left = left\n",
    "#         self.right = right\n",
    "class Solution:\n",
    "    def leafSimilar(self, root1: Optional[TreeNode], root2: Optional[TreeNode]) -> bool:\n",
    "        def dfs(root,leaf):\n",
    "            if not root:\n",
    "                return \n",
    "            if not root.right and not root.left:\n",
    "                leaf.append(root.val)\n",
    "            dfs(root.right,leaf)\n",
    "            dfs(root.left,leaf)\n",
    "        leaf1,leaf2=[],[]\n",
    "        dfs(root1,leaf1)\n",
    "        dfs(root2,leaf2)\n",
    "        return leaf1==leaf2\n",
    "        "
   ]
  },
  {
   "cell_type": "markdown",
   "id": "16746d91",
   "metadata": {},
   "source": [
    "876"
   ]
  },
  {
   "cell_type": "code",
   "execution_count": 148,
   "id": "db705138",
   "metadata": {},
   "outputs": [],
   "source": [
    "class Solution:\n",
    "    def middleNode(self, head: Optional[ListNode]) -> Optional[ListNode]:\n",
    "        start=head\n",
    "        end=head\n",
    "        while start and start.next:\n",
    "            start,end=start.next.next,end.next\n",
    "        return end"
   ]
  },
  {
   "cell_type": "markdown",
   "id": "a0a61d7c",
   "metadata": {},
   "source": [
    "883"
   ]
  },
  {
   "cell_type": "code",
   "execution_count": 151,
   "id": "d6027bfe",
   "metadata": {},
   "outputs": [],
   "source": [
    "class Solution:    \n",
    "    def projectionArea(self, grid: List[List[int]]) -> int:\n",
    "        xy = sum(i > 0 for s in grid for i in s)\n",
    "        xz = sum(max(s) for s in grid)\n",
    "        yz = sum(max(s[i] for s in grid) for i in range(len(grid)))\n",
    "        return xy + xz + yz"
   ]
  },
  {
   "cell_type": "markdown",
   "id": "7c48f4d0",
   "metadata": {},
   "source": [
    "884"
   ]
  },
  {
   "cell_type": "code",
   "execution_count": 152,
   "id": "f5e5eae0",
   "metadata": {},
   "outputs": [],
   "source": [
    "class Solution:\n",
    "    def uncommonFromSentences(self, s1: str, s2: str) -> List[str]:\n",
    "        s1 = s1.split()\n",
    "        s2 = s2.split()\n",
    "        arr1 = [word for word in s1 if s1.count(word) == 1 and word not in s2]\n",
    "        arr2 = [secWord for secWord in s2 if s2.count(secWord) == 1 and secWord not in s1]\n",
    "        return arr1+arr2"
   ]
  },
  {
   "cell_type": "markdown",
   "id": "71f75136",
   "metadata": {},
   "source": [
    "888"
   ]
  },
  {
   "cell_type": "code",
   "execution_count": 153,
   "id": "29e586a9",
   "metadata": {},
   "outputs": [],
   "source": [
    "class Solution:\n",
    "    def fairCandySwap(self, aliceSizes: List[int], bobSizes: List[int]) -> List[int]:\n",
    "        alice = sum(aliceSizes)\n",
    "        bob = sum(bobSizes)\n",
    "        half = (alice + bob) // 2\n",
    "        for i in aliceSizes:\n",
    "            if half - (alice - i) in bobSizes:\n",
    "                return [i, half - (alice - i)]"
   ]
  },
  {
   "cell_type": "markdown",
   "id": "ee30858e",
   "metadata": {},
   "source": [
    "892"
   ]
  },
  {
   "cell_type": "code",
   "execution_count": 155,
   "id": "72c8a0ac",
   "metadata": {},
   "outputs": [],
   "source": [
    "class Solution:\n",
    "    def surfaceArea(self, grid: List[List[int]]) -> int:\n",
    "        \n",
    "        l = len(grid)\n",
    "        area=0\n",
    "        for row in range(l):\n",
    "            for col in range(l):\n",
    "                if grid[row][col]:\n",
    "                    area += (grid[row][col]*4) +2 #surface area of each block if blocks werent connected\n",
    "                if row: #row>0\n",
    "                    area -= min(grid[row][col],grid[row-1][col])*2 #subtracting as area is common among two blocks\n",
    "                if col: #col>0\n",
    "                    area -= min(grid[row][col],grid[row][col-1])*2 #subtracting as area is common among two blocks\n",
    "        return area"
   ]
  },
  {
   "cell_type": "markdown",
   "id": "7e041fcb",
   "metadata": {},
   "source": [
    "896"
   ]
  },
  {
   "cell_type": "code",
   "execution_count": 156,
   "id": "c9de0d3d",
   "metadata": {},
   "outputs": [],
   "source": [
    "class Solution:\n",
    "    def isMonotonic(self, nums: List[int]) -> bool:\n",
    "        return nums == sorted(nums) or nums == sorted(nums, reverse = True) "
   ]
  },
  {
   "cell_type": "markdown",
   "id": "765dcd5b",
   "metadata": {},
   "source": [
    "897"
   ]
  },
  {
   "cell_type": "code",
   "execution_count": 159,
   "id": "da2d5462",
   "metadata": {},
   "outputs": [],
   "source": [
    "class Solution:\n",
    "    def increasingBST(self, node: TreeNode) -> TreeNode:\n",
    "        dummy = tail = TreeNode()\n",
    "        while node is not None:\n",
    "            if node.left is not None:\n",
    "                predecessor = node.left\n",
    "                while predecessor.right is not None:\n",
    "                    predecessor = predecessor.right\n",
    "                \n",
    "                predecessor.right = node\n",
    "                left, node.left = node.left, None\n",
    "                node = left\n",
    "            else:\n",
    "                tail.right = tail = node\n",
    "                node = node.right\n",
    "        \n",
    "        return dummy.right"
   ]
  },
  {
   "cell_type": "markdown",
   "id": "550f11d1",
   "metadata": {},
   "source": [
    "905"
   ]
  },
  {
   "cell_type": "code",
   "execution_count": 160,
   "id": "879a8c81",
   "metadata": {},
   "outputs": [],
   "source": [
    "class Solution:\n",
    "    def sortArrayByParity(self, nums: List[int]) -> List[int]:\n",
    "        left, right = 0, len(nums) - 1\n",
    "        answer = [0] * len(nums)\n",
    "        for i in nums:\n",
    "            if i % 2 == 0:\n",
    "                answer[left] = i\n",
    "                left += 1\n",
    "            else:\n",
    "                answer[right] = i\n",
    "                right -= 1\n",
    "        return answer"
   ]
  },
  {
   "cell_type": "markdown",
   "id": "56ed79e3",
   "metadata": {},
   "source": [
    "908"
   ]
  },
  {
   "cell_type": "code",
   "execution_count": 161,
   "id": "37cb8c60",
   "metadata": {},
   "outputs": [],
   "source": [
    "class Solution:\n",
    "    def smallestRangeI(self, nums: List[int], k: int) -> int:\n",
    "        left = min(nums) + k\n",
    "        right = max(max(nums) - k, left)\n",
    "\n",
    "        return right - left"
   ]
  },
  {
   "cell_type": "markdown",
   "id": "3537463f",
   "metadata": {},
   "source": [
    "914"
   ]
  },
  {
   "cell_type": "code",
   "execution_count": 162,
   "id": "e54d3aad",
   "metadata": {},
   "outputs": [],
   "source": [
    "class Solution:\n",
    "    def hasGroupsSizeX(self, deck: List[int]) -> bool:\n",
    "        cache = Counter(deck)\n",
    "\n",
    "        if len(cache) == 1:\n",
    "            return cache[deck[0]] > 1\n",
    "\n",
    "        x = cache[deck[0]]\n",
    "\n",
    "        for num in cache.values():\n",
    "            x = gcd(x, num)\n",
    "\n",
    "        return x > 1"
   ]
  },
  {
   "cell_type": "markdown",
   "id": "348d245f",
   "metadata": {},
   "source": [
    "917"
   ]
  },
  {
   "cell_type": "code",
   "execution_count": 164,
   "id": "7e22c5ca",
   "metadata": {},
   "outputs": [],
   "source": [
    "class Solution(object):\n",
    "    def reverseOnlyLetters(self, s):\n",
    "        l1 = []\n",
    "        l = list(s)\n",
    "        x = 0\n",
    "        for i in range(len(s)):\n",
    "            if s[i].isalpha():\n",
    "                l1.append(s[i])\n",
    "        l1.reverse()\n",
    "        for i in range(len(s)):\n",
    "            if l[i].isalpha():\n",
    "                l[i] = l1[x]\n",
    "                x = x+1\n",
    "        return ''.join(l)"
   ]
  },
  {
   "cell_type": "markdown",
   "id": "3bd58f7a",
   "metadata": {},
   "source": [
    "922"
   ]
  },
  {
   "cell_type": "code",
   "execution_count": 165,
   "id": "d983256c",
   "metadata": {},
   "outputs": [],
   "source": [
    "class Solution:\n",
    "    def sortArrayByParityII(self, nums: List[int]) -> List[int]:\n",
    "        l1 , l2 = [] , []\n",
    "        for num in nums:\n",
    "            if num%2==0:l1.append(num)\n",
    "            else:l2.append(num)  \n",
    "        nums[0: 2*len(l1) : 2] = l1\n",
    "        nums[1: 2*len(l2) : 2] = l2\n",
    "        return nums"
   ]
  },
  {
   "cell_type": "markdown",
   "id": "d32643b4",
   "metadata": {},
   "source": [
    "925"
   ]
  },
  {
   "cell_type": "code",
   "execution_count": 166,
   "id": "00d56544",
   "metadata": {},
   "outputs": [],
   "source": [
    "class Solution:\n",
    "    def isLongPressedName(self, name: str, typed: str) -> bool:\n",
    "\n",
    "        if len(name) > len(typed):\n",
    "            return False\n",
    "\n",
    "        tracker = \"\"\n",
    "        index = 0\n",
    "        output = True\n",
    "        \n",
    "        while output and index < len(name):\n",
    "            if len(name) > len(typed):\n",
    "                return False\n",
    "            if name[index] == typed[index]:\n",
    "                tracker = name[index]\n",
    "                index += 1\n",
    "            elif (name[index] != typed[index]) and (typed[index] == tracker):\n",
    "                    typed = typed[0: index] + typed[index + 1: ]\n",
    "            else:\n",
    "                output = False\n",
    "        \n",
    "        typed_end = set(typed[len(name): ])\n",
    "        if len(typed_end) != 0:\n",
    "            if set(name[-1]) != typed_end:\n",
    "                output = False\n",
    "                \n",
    "        return output"
   ]
  },
  {
   "cell_type": "markdown",
   "id": "a07c3a20",
   "metadata": {},
   "source": [
    "929"
   ]
  },
  {
   "cell_type": "code",
   "execution_count": 167,
   "id": "d7e6f3c4",
   "metadata": {},
   "outputs": [],
   "source": [
    "class Solution:\n",
    "    def numUniqueEmails(self, emails: List[str]) -> int:\n",
    "\n",
    "        # Loop through each email in the given list of emails\n",
    "\n",
    "        for i in range(len(emails)):\n",
    "            # Split the email into local and domain parts based on '@' symbol\n",
    "            temp = emails[i].split(\"@\")\n",
    "            x = ''\n",
    "\n",
    "            # Iterate through each character in the local part of the email\n",
    "            for j in temp[0]:\n",
    "\n",
    "                if j == '.':\n",
    "                    # If the character is a '.', skip it and continue\n",
    "                    continue\n",
    "                elif j == '+':\n",
    "                    # If the character is '+', break the loop to ignore the rest of the local part\n",
    "                    break\n",
    "                else:\n",
    "                    # Append characters to 'x' until encountering '+' or '.'\n",
    "                    x += j\n",
    "\n",
    "            # Update the email by modifying the local part and keeping the domain part unchanged\n",
    "            emails[i] = x + '@' + temp[1]\n",
    "        \n",
    "        # Return the count of unique emails after modifying them\n",
    "        return len(set(emails))"
   ]
  },
  {
   "cell_type": "markdown",
   "id": "f1fe472f",
   "metadata": {},
   "source": [
    "933"
   ]
  },
  {
   "cell_type": "code",
   "execution_count": 168,
   "id": "d1c110e0",
   "metadata": {},
   "outputs": [],
   "source": [
    "class RecentCounter:\n",
    "\n",
    "    def __init__(self):\n",
    "        self.queue = deque()\n",
    "\n",
    "    def ping(self, t: int) -> int:\n",
    "        self.queue.append(t)\n",
    "        while self.queue[0] <t-3000:\n",
    "            self.queue.popleft()\n",
    "        return len(self.queue)\n",
    "\n",
    "\n",
    "# Your RecentCounter object will be instantiated and called as such:\n",
    "# obj = RecentCounter()\n",
    "# param_1 = obj.ping(t)"
   ]
  },
  {
   "cell_type": "markdown",
   "id": "bb5c1601",
   "metadata": {},
   "source": [
    "938"
   ]
  },
  {
   "cell_type": "code",
   "execution_count": 169,
   "id": "ed79e38e",
   "metadata": {},
   "outputs": [],
   "source": [
    "class Solution:\n",
    "    def rangeSumBST(self, root: Optional[TreeNode], low: int, high: int) -> int:\n",
    "        if root is None:\n",
    "            return 0\n",
    "\n",
    "        if low <= root.val <= high:\n",
    "            return root.val + self.rangeSumBST(root.left, low, high) + self.rangeSumBST(root.right, low, high)\n",
    "        elif low <= root.val:\n",
    "            return self.rangeSumBST(root.left, low, high)\n",
    "        elif root.val <= high:\n",
    "            return self.rangeSumBST(root.right, low, high)"
   ]
  },
  {
   "cell_type": "markdown",
   "id": "8fce7395",
   "metadata": {},
   "source": [
    "941"
   ]
  },
  {
   "cell_type": "code",
   "execution_count": 170,
   "id": "9e8dec2d",
   "metadata": {},
   "outputs": [],
   "source": [
    "class Solution:\n",
    "    def validMountainArray(self, arr: List[int]) -> bool:\n",
    "        return [\n",
    "            k\n",
    "            for k, v in groupby(\n",
    "                (a2 - a1 for a1, a2 in pairwise(arr)),\n",
    "                lambda x: \"p\" * (x > 0) + \"n\" * (x < 0),\n",
    "            )\n",
    "        ] == [\"p\", \"n\"]"
   ]
  },
  {
   "cell_type": "markdown",
   "id": "b3c0e0c1",
   "metadata": {},
   "source": [
    "942"
   ]
  },
  {
   "cell_type": "code",
   "execution_count": 171,
   "id": "7faf054b",
   "metadata": {},
   "outputs": [],
   "source": [
    "from itertools import groupby\n",
    "from collections import deque\n",
    "\n",
    "class Solution:\n",
    "    def diStringMatch(self, s: str) -> List[int]:\n",
    "        answer = list()\n",
    "        dq = deque(list(range(len(s)+1)))\n",
    "\n",
    "        for i in range(len(s)):\n",
    "            if s[i] == \"D\":\n",
    "                answer.append(dq.pop())\n",
    "            else:\n",
    "                answer.append(dq.popleft())\n",
    "        \n",
    "        answer.append(dq.pop())\n",
    "\n",
    "        \n",
    "        return answer"
   ]
  },
  {
   "cell_type": "markdown",
   "id": "28db40ad",
   "metadata": {},
   "source": [
    "944"
   ]
  },
  {
   "cell_type": "code",
   "execution_count": 172,
   "id": "ea6f75eb",
   "metadata": {},
   "outputs": [],
   "source": [
    "class Solution:\n",
    "    def minDeletionSize(self, strs: List[str]) -> int:\n",
    "        char_matrix = []\n",
    "        count = 0\n",
    "        for column in zip(*strs):\n",
    "            char_matrix.append(list(column))\n",
    "        for col in char_matrix:\n",
    "            if col != sorted(col):\n",
    "                count += 1\n",
    "        return count"
   ]
  },
  {
   "cell_type": "markdown",
   "id": "f7f0c94c",
   "metadata": {},
   "source": [
    "953"
   ]
  },
  {
   "cell_type": "code",
   "execution_count": 173,
   "id": "2253ef80",
   "metadata": {},
   "outputs": [],
   "source": [
    "class Solution:\n",
    "    def isAlienSorted(self, words: List[str], order: str) -> bool:\n",
    "        mapper = {chr(i):-1 for i in range(97,97+26)}\n",
    "        def map_value():\n",
    "            nonlocal order\n",
    "            nonlocal mapper\n",
    "            for i in range(len(order)):\n",
    "                mapper[order[i]] = i\n",
    "        map_value()\n",
    "        def helper():\n",
    "            for i in range(len(words)-1):\n",
    "                if len(words[i+1])<len(words[i]) and mapper[words[i+1][0]] <= mapper[words[i][0]] and words[i+1] in words[i]:\n",
    "                    return False\n",
    "                else:\n",
    "                    for j in range(min(len(words[i]), len(words[i+1]))):\n",
    "                        if words[i][j] != words[i+1][j]:\n",
    "                            if mapper[words[i+1][j]] < mapper[words[i][j]]:\n",
    "                                return False\n",
    "                            break\n",
    "            return True\n",
    "        return helper()"
   ]
  },
  {
   "cell_type": "markdown",
   "id": "a53bfeee",
   "metadata": {},
   "source": [
    "961"
   ]
  },
  {
   "cell_type": "code",
   "execution_count": 174,
   "id": "4694669b",
   "metadata": {},
   "outputs": [],
   "source": [
    "class Solution:\n",
    "    def repeatedNTimes(self, nums: List[int]) -> int:\n",
    "        hashMap = defaultdict(int)\n",
    "\n",
    "        for i in nums:\n",
    "            hashMap[i] = hashMap[i] + 1\n",
    "\n",
    "        for key, value in hashMap.items():\n",
    "            if value != 1:\n",
    "                return key\n",
    "        "
   ]
  },
  {
   "cell_type": "markdown",
   "id": "4a49e506",
   "metadata": {},
   "source": [
    "965"
   ]
  },
  {
   "cell_type": "code",
   "execution_count": 175,
   "id": "ddd90b25",
   "metadata": {},
   "outputs": [],
   "source": [
    "class Solution:\n",
    "    def isUnivalTree(self, root: Optional[TreeNode]) -> bool:\n",
    "        if not root:\n",
    "            return True\n",
    "\n",
    "        if root.left:\n",
    "            if root.val != root.left.val:\n",
    "                return False\n",
    "\n",
    "        if root.right:\n",
    "            if root.val != root.right.val:\n",
    "                return False\n",
    "\n",
    "        return self.isUnivalTree(root.left) and self.isUnivalTree(root.right)"
   ]
  },
  {
   "cell_type": "markdown",
   "id": "1473d83a",
   "metadata": {},
   "source": [
    "976"
   ]
  },
  {
   "cell_type": "code",
   "execution_count": 176,
   "id": "8c95e534",
   "metadata": {},
   "outputs": [],
   "source": [
    "class Solution(object):\n",
    "    def largestPerimeter(self, A):\n",
    "        A.sort(reverse=True)\n",
    "\n",
    "        for i in range(len(A)-2):\n",
    "            a = A[i]\n",
    "            b= A[i+1]\n",
    "            c = A[i+2]\n",
    "            if a< b+ c:\n",
    "                return a+b+c\n",
    "            \n",
    "        return 0"
   ]
  },
  {
   "cell_type": "markdown",
   "id": "4f369735",
   "metadata": {},
   "source": [
    "977"
   ]
  },
  {
   "cell_type": "code",
   "execution_count": 177,
   "id": "55b20bbd",
   "metadata": {},
   "outputs": [],
   "source": [
    "class Solution:\n",
    "    def sortedSquares(self, nums: List[int]) -> List[int]:\n",
    "        res = [0] * len(nums)\n",
    "        left = 0\n",
    "        right = len(nums) - 1\n",
    "\n",
    "        for i in range(len(nums) - 1, -1, -1):\n",
    "            if abs(nums[left]) > abs(nums[right]):\n",
    "                res[i] = nums[left] ** 2\n",
    "                left += 1\n",
    "            else:\n",
    "                res[i] = nums[right] ** 2\n",
    "                right -= 1\n",
    "        \n",
    "        return res"
   ]
  },
  {
   "cell_type": "markdown",
   "id": "50fa5389",
   "metadata": {},
   "source": [
    "989"
   ]
  },
  {
   "cell_type": "code",
   "execution_count": 178,
   "id": "bd0b6f88",
   "metadata": {},
   "outputs": [],
   "source": [
    "class Solution:\n",
    "    def addToArrayForm(self, num: list[int], k: int) -> list[int]:\n",
    "        def rdigits(n: int) -> Iterable[int]:\n",
    "            while n: n, r = divmod(n, 10); yield r\n",
    "        \n",
    "        def sum_iter(xs: Iterable[int], ys: Iterable[int]) -> Iterable[int]:\n",
    "            c = 0\n",
    "            for x, y in zip_longest(xs, ys, fillvalue=0):\n",
    "                c, s = divmod(x + y + c, 10)\n",
    "                yield s\n",
    "            if c: yield c\n",
    "        \n",
    "        sum_ = deque()\n",
    "        sum_.extendleft(sum_iter(reversed(num), rdigits(k)))\n",
    "        return sum_\n"
   ]
  },
  {
   "cell_type": "markdown",
   "id": "bbac8a57",
   "metadata": {},
   "source": [
    "993"
   ]
  },
  {
   "cell_type": "code",
   "execution_count": 179,
   "id": "414aecbe",
   "metadata": {},
   "outputs": [],
   "source": [
    "class Solution:\n",
    "    def isCousins(self, root: Optional[TreeNode], x: int, y: int) -> bool:\n",
    "        levelFound = -1\n",
    "        ans = False\n",
    "        foundRoot = -1\n",
    "        def helper(curr = root, level = 0, par = 0):\n",
    "            nonlocal levelFound, ans, foundRoot\n",
    "            if curr:\n",
    "                if curr.val == x or curr.val == y:\n",
    "                    if levelFound + 1 and foundRoot + 1:\n",
    "                        ans = levelFound == level and foundRoot != par\n",
    "                        return\n",
    "                    else:\n",
    "                        levelFound = level\n",
    "                        foundRoot = par\n",
    "                helper(curr.left, level + 1, curr.val)\n",
    "                helper(curr.right, level + 1, curr.val)\n",
    "            return\n",
    "        helper()\n",
    "        return ans"
   ]
  },
  {
   "cell_type": "markdown",
   "id": "95dd6f18",
   "metadata": {},
   "source": [
    "997"
   ]
  },
  {
   "cell_type": "code",
   "execution_count": 180,
   "id": "3fdcbc86",
   "metadata": {},
   "outputs": [],
   "source": [
    "class Solution:\n",
    "    def findJudge(self, n: int, t: List[List[int]]) -> int:\n",
    "        return (n==1)*1 or [x:={a for a,_ in t}] and next((a for a,f in Counter(b for _,b in t).items() if f==n-1 and a not in x),-1)"
   ]
  },
  {
   "cell_type": "markdown",
   "id": "07dc8bfa",
   "metadata": {},
   "source": [
    "999"
   ]
  },
  {
   "cell_type": "code",
   "execution_count": 181,
   "id": "fe40f787",
   "metadata": {},
   "outputs": [],
   "source": [
    "class Solution:\n",
    "    def numRookCaptures(self, board: List[List[str]]) -> int:\n",
    "        c = 0\n",
    "        for y in range(8) :\n",
    "            for x in range(8) :\n",
    "                if board[y][x] == \"R\" :\n",
    "                    pos = (x, y)\n",
    "        x, y = pos[0], pos[1]\n",
    "        left, top, right, bottom = x, y, x, y\n",
    "        while left > 0 :\n",
    "            left -= 1\n",
    "            if board[y][left] in [\"B\", \"p\"] :\n",
    "                if board[y][left] == \"p\" :\n",
    "                    c += 1\n",
    "                break\n",
    "        while top > 0 :\n",
    "            top -= 1\n",
    "            if board[top][x] in [\"B\", \"p\"] :\n",
    "                if board[top][x]== \"p\" :\n",
    "                    c += 1\n",
    "                break\n",
    "        while right < 7 :\n",
    "            right += 1\n",
    "            if board[y][right] in [\"B\", \"p\"] :\n",
    "                if board[y][right] == \"p\" :\n",
    "                    c += 1\n",
    "                break\n",
    "        while bottom < 7 :\n",
    "            bottom += 1\n",
    "            if board[bottom][x] in [\"B\", \"p\"] :\n",
    "                if board[bottom][x] == \"p\" :\n",
    "                    c += 1\n",
    "                break\n",
    "        return c"
   ]
  },
  {
   "cell_type": "markdown",
   "id": "cd9a1555",
   "metadata": {},
   "source": [
    "1002"
   ]
  },
  {
   "cell_type": "code",
   "execution_count": 182,
   "id": "dc67bd4e",
   "metadata": {},
   "outputs": [],
   "source": [
    "class Solution:\n",
    "    def commonChars(self, words: List[str]) -> List[str]:\n",
    "        return reduce(lambda a, b: a & b, map(Counter, words)).elements()"
   ]
  },
  {
   "cell_type": "markdown",
   "id": "8f83f488",
   "metadata": {},
   "source": [
    "1005"
   ]
  },
  {
   "cell_type": "code",
   "execution_count": 183,
   "id": "7adf4419",
   "metadata": {},
   "outputs": [],
   "source": [
    "class Solution:\n",
    "    def largestSumAfterKNegations(self, nums: List[int], k: int) -> int:\n",
    "        heap = []\n",
    "        for n in nums:\n",
    "            heapq.heappush(heap, n)\n",
    "        while k > 0:\n",
    "            minimum = heapq.heappop(heap)\n",
    "            heapq.heappush(heap,-minimum)\n",
    "            k -= 1\n",
    "        return sum(heap)"
   ]
  },
  {
   "cell_type": "markdown",
   "id": "eef801fa",
   "metadata": {},
   "source": [
    "1009"
   ]
  },
  {
   "cell_type": "code",
   "execution_count": 184,
   "id": "9debf228",
   "metadata": {},
   "outputs": [],
   "source": [
    "class Solution:\n",
    "    def bitwiseComplement(self, n: int) -> int:\n",
    "        s=bin(n)[2:]\n",
    "        arr=''\n",
    "        for i in s:\n",
    "            if i=='0':\n",
    "                arr+='1'\n",
    "            else:\n",
    "                arr+='0' \n",
    "        res=0\n",
    "        for i in range(len(arr)-1,-1,-1):\n",
    "            res=res+(int(arr[i])* 2**(len(arr)-i-1))\n",
    "        return res"
   ]
  },
  {
   "cell_type": "markdown",
   "id": "a5229745",
   "metadata": {},
   "source": [
    "1013"
   ]
  },
  {
   "cell_type": "code",
   "execution_count": 185,
   "id": "9e223a53",
   "metadata": {},
   "outputs": [],
   "source": [
    "class Solution:\n",
    "    def canThreePartsEqualSum(self, arr: List[int]) -> bool:\n",
    "        cs = list(accumulate(arr))\n",
    "        try:\n",
    "            i1 = cs.index(cs[-1] // 3)\n",
    "            i2 = cs.index(2 * cs[-1] // 3, i1 + 1, len(arr) - 1)\n",
    "            return cs[-1] % 3 == 0\n",
    "        except ValueError:\n",
    "            return False"
   ]
  },
  {
   "cell_type": "markdown",
   "id": "f1c95c11",
   "metadata": {},
   "source": [
    "1018"
   ]
  },
  {
   "cell_type": "code",
   "execution_count": 186,
   "id": "1974b479",
   "metadata": {},
   "outputs": [],
   "source": [
    "class Solution:\n",
    "    def prefixesDivBy5(self, nums: List[int]) -> List[bool]:\n",
    "        res = []\n",
    "        num = 0\n",
    "        \n",
    "        for n in nums:\n",
    "            num = (num * 2 + n) % 5\n",
    "            res.append(num == 0)\n",
    "            \n",
    "        return res"
   ]
  },
  {
   "cell_type": "markdown",
   "id": "72f34c60",
   "metadata": {},
   "source": [
    "1022"
   ]
  },
  {
   "cell_type": "code",
   "execution_count": 187,
   "id": "d0235c21",
   "metadata": {},
   "outputs": [],
   "source": [
    "class Solution:\n",
    "    def sumRootToLeaf(self, root: Optional[TreeNode]) -> int:\n",
    "        def dfs(node, path):\n",
    "            if not node: return 0\n",
    "\n",
    "            path = (path << 1) + node.val\n",
    "\t\t\t\n",
    "            if not node.left and not node.right:\n",
    "                return path\n",
    "            \n",
    "            return dfs(node.left, path) + dfs(node.right, path)\n",
    "            \n",
    "        return dfs(root, 0)"
   ]
  },
  {
   "cell_type": "markdown",
   "id": "b3ab68be",
   "metadata": {},
   "source": [
    "1025"
   ]
  },
  {
   "cell_type": "code",
   "execution_count": 188,
   "id": "77c9fb1a",
   "metadata": {},
   "outputs": [],
   "source": [
    "class Solution:\n",
    "    def divisorGame(self, n: int) -> bool:\n",
    "        if n%2==0:\n",
    "            return True\n",
    "        else:\n",
    "            return False"
   ]
  },
  {
   "cell_type": "markdown",
   "id": "3a480a34",
   "metadata": {},
   "source": [
    "1035"
   ]
  },
  {
   "cell_type": "code",
   "execution_count": 191,
   "id": "a3213d40",
   "metadata": {},
   "outputs": [],
   "source": [
    "class Solution:\n",
    "    def allCellsDistOrder(self, R: int, C: int, r0: int,c0: int) -> List[List[int]]:\n",
    "        return sorted([(i, j) for i in range(R) for j in range(C)], key=lambda p: abs(p[0] - r0) + abs(p[1] - c0))"
   ]
  },
  {
   "cell_type": "markdown",
   "id": "32456b15",
   "metadata": {},
   "source": [
    "1037"
   ]
  },
  {
   "cell_type": "code",
   "execution_count": 192,
   "id": "f362eb17",
   "metadata": {},
   "outputs": [],
   "source": [
    "class Solution:\n",
    "    def isBoomerang(self, points: List[List[int]]) -> bool:\n",
    "        return (points[1][0] - points[0][0]) * (points[2][1] - points[1][1]) != (points[1][1] - points[0][1]) * (points[2][0] - points[1][0])"
   ]
  },
  {
   "cell_type": "markdown",
   "id": "ff0deefb",
   "metadata": {},
   "source": [
    "1046"
   ]
  },
  {
   "cell_type": "code",
   "execution_count": 194,
   "id": "ff09b8af",
   "metadata": {},
   "outputs": [],
   "source": [
    "import heapq\n",
    "class Solution:\n",
    "    def lastStoneWeight(self, stones: List[int]) -> int:\n",
    "        res = [-1*i for i in stones]\n",
    "        heapq.heapify(res)\n",
    "        while len(res)>1:\n",
    "            a = heapq.heappop(res)\n",
    "            b = heapq.heappop(res)\n",
    "            heapq.heappush(res,-1*abs(a-b))\n",
    "        return -1*res[0]\n"
   ]
  },
  {
   "cell_type": "markdown",
   "id": "d1744fe0",
   "metadata": {},
   "source": [
    "1047"
   ]
  },
  {
   "cell_type": "code",
   "execution_count": 195,
   "id": "24db4ff3",
   "metadata": {},
   "outputs": [],
   "source": [
    "class Solution:\n",
    "    def removeDuplicates(self, s: str) -> str:\n",
    "        lis=[s[0]]\n",
    "        for i in range(1,len(s)):\n",
    "            if len(lis)==0 or lis[len(lis)-1]!=s[i]:\n",
    "                lis.append(s[i])\n",
    "            else:\n",
    "                lis=lis[:len(lis)-1]        \n",
    "        s=\"\".join(lis)\n",
    "        return s    "
   ]
  },
  {
   "cell_type": "markdown",
   "id": "a052857e",
   "metadata": {},
   "source": [
    "1071"
   ]
  },
  {
   "cell_type": "code",
   "execution_count": 196,
   "id": "a39e67d3",
   "metadata": {},
   "outputs": [],
   "source": [
    "class Solution:\n",
    "    def gcdOfStrings(self, str1: str, str2: str) -> str:\n",
    "        # Check if concatenated strings are equal or not, if not return \"\"\n",
    "        if str1 + str2 != str2 + str1:\n",
    "            return \"\"\n",
    "        # If strings are equal than return the substring from 0 to gcd of size(str1), size(str2)\n",
    "        from math import gcd\n",
    "        return str1[:gcd(len(str1), len(str2))]"
   ]
  },
  {
   "cell_type": "markdown",
   "id": "10bb77ce",
   "metadata": {},
   "source": [
    "1078"
   ]
  },
  {
   "cell_type": "code",
   "execution_count": 197,
   "id": "04eefea4",
   "metadata": {},
   "outputs": [],
   "source": [
    "\n",
    "class Solution:\n",
    "    def findOcurrences(self, text: str, first: str, second: str) -> List[str]:\n",
    "        words = text.split()  # Split the text into words.\n",
    "        ans = []  # List to hold the answers.\n",
    "\n",
    "        # Iterate through words, stopping before the last two to avoid index errors.\n",
    "        for i in range(len(words) - 2):\n",
    "            # If the current word and the next word match `first` and `second`, add the third word.\n",
    "            if words[i] == first and words[i + 1] == second:\n",
    "                ans.append(words[i + 2])\n",
    "\n",
    "        return ans"
   ]
  },
  {
   "cell_type": "markdown",
   "id": "b6eb107c",
   "metadata": {},
   "source": [
    "1089"
   ]
  },
  {
   "cell_type": "code",
   "execution_count": 198,
   "id": "a578967e",
   "metadata": {},
   "outputs": [],
   "source": [
    "class Solution:\n",
    "    def duplicateZeros(self, arr: List[int]) -> None:\n",
    "        zeroes = arr.count(0)\n",
    "        n = len(arr)\n",
    "        for i in range(n-1, -1, -1):\n",
    "            if i + zeroes < n:\n",
    "                arr[i + zeroes] = arr[i]\n",
    "            if arr[i] == 0: \n",
    "                zeroes -= 1\n",
    "                if i + zeroes < n:\n",
    "                    arr[i + zeroes] = 0"
   ]
  },
  {
   "cell_type": "markdown",
   "id": "aa6160b2",
   "metadata": {},
   "source": [
    "1103"
   ]
  },
  {
   "cell_type": "code",
   "execution_count": 199,
   "id": "a1e16985",
   "metadata": {},
   "outputs": [],
   "source": [
    "class Solution:\n",
    "    def distributeCandies(self, candies: int, num_people: int) -> List[int]:\n",
    "        ans = [0] * num_people\n",
    "        k = 0\n",
    "        while candies > 0:\n",
    "            if candies >= (k+1):\n",
    "                candies -= (k+1)\n",
    "                ans[k % num_people] += k + 1\n",
    "            else:\n",
    "                ans[k % num_people] += candies\n",
    "                candies = 0\n",
    "            k += 1\n",
    "        return ans\n",
    "\n",
    "            \n",
    "        \n",
    "        "
   ]
  },
  {
   "cell_type": "markdown",
   "id": "70f553c3",
   "metadata": {},
   "source": [
    "1137"
   ]
  },
  {
   "cell_type": "code",
   "execution_count": 200,
   "id": "5899eb5d",
   "metadata": {},
   "outputs": [],
   "source": [
    "class Solution:\n",
    "    def tribonacci(self, n: int) -> int:\n",
    "\n",
    "        t0,t1,t2 = 0,1,1\n",
    "        for i in range(n):\n",
    "            t0,t1,t2 = t1,t2,(t0+t1+t2)\n",
    "\n",
    "        return t0"
   ]
  },
  {
   "cell_type": "markdown",
   "id": "c51e0868",
   "metadata": {},
   "source": [
    "1157"
   ]
  },
  {
   "cell_type": "code",
   "execution_count": 202,
   "id": "5ff93ab5",
   "metadata": {},
   "outputs": [],
   "source": [
    "class Solution:\n",
    "    def dayOfYear(self, date: str) -> int:\n",
    "        y,m,d = map(int, date.split('-'))\n",
    "        if (y%400==0 or (y%100!=0 and y%4==0)) and m>2: d+=1\n",
    "        months = [31, 28, 31, 30, 31, 30, 31, 31, 30, 31, 30, 31]\n",
    "        for i in range(1, m):\n",
    "            d+=months[i-1]\n",
    "        return d\n",
    "        "
   ]
  },
  {
   "cell_type": "markdown",
   "id": "52da1762",
   "metadata": {},
   "source": [
    "1160"
   ]
  },
  {
   "cell_type": "code",
   "execution_count": 203,
   "id": "3f3b61b8",
   "metadata": {},
   "outputs": [],
   "source": [
    "class Solution:\n",
    "    def myFunc(self, s: str):\n",
    "        dc = {}\n",
    "        for i in s:\n",
    "            if i in dc:\n",
    "                dc[i] += 1\n",
    "            else:\n",
    "                dc[i] = 1\n",
    "\n",
    "        return dc\n",
    "    \n",
    "    def countCharacters(self, words: List[str], chars: str) -> int:\n",
    "        result = 0\n",
    "        for i in words:\n",
    "            check = 0\n",
    "            cur = self.myFunc(i)\n",
    "            for j in cur:\n",
    "                if cur[j] <= chars.count(j):\n",
    "                    check = 1\n",
    "                else:\n",
    "                    check = 0\n",
    "                    break\n",
    "            if check == 1:\n",
    "                result += len(i)\n",
    "        return result"
   ]
  },
  {
   "cell_type": "code",
   "execution_count": null,
   "id": "cd5787fc",
   "metadata": {},
   "outputs": [],
   "source": []
  },
  {
   "cell_type": "code",
   "execution_count": null,
   "id": "cb645fd7",
   "metadata": {},
   "outputs": [],
   "source": []
  },
  {
   "cell_type": "code",
   "execution_count": null,
   "id": "e05e83ab",
   "metadata": {},
   "outputs": [],
   "source": []
  },
  {
   "cell_type": "code",
   "execution_count": null,
   "id": "d6aaf9a5",
   "metadata": {},
   "outputs": [],
   "source": []
  },
  {
   "cell_type": "code",
   "execution_count": null,
   "id": "993e891e",
   "metadata": {},
   "outputs": [],
   "source": []
  }
 ],
 "metadata": {
  "kernelspec": {
   "display_name": "Python 3 (ipykernel)",
   "language": "python",
   "name": "python3"
  },
  "language_info": {
   "codemirror_mode": {
    "name": "ipython",
    "version": 3
   },
   "file_extension": ".py",
   "mimetype": "text/x-python",
   "name": "python",
   "nbconvert_exporter": "python",
   "pygments_lexer": "ipython3",
   "version": "3.11.5"
  }
 },
 "nbformat": 4,
 "nbformat_minor": 5
}
